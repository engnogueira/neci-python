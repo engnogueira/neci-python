{
 "cells": [
  {
   "cell_type": "markdown",
   "metadata": {},
   "source": [
    "# Usando expressões regulares com Python\n",
    "\n",
    "\n",
    "## Expressões regulares\n",
    "\n",
    "Uma expressão regular (**regular expression**, ou mais simples e popular, **regex**) é uma sequência de caracteres que define um _**padrão**_ para buscas em textos.\n",
    "\n",
    "Os caracteres que compõem uma expressão regular podem ser caracteres _**literais**_ (isto é, representam a sí mesmos numa busca em textos) ou _**meta-caracteres**_ que agrupados significam uma representação específica de diversos caracteres textuais para uma busca em texto.\n",
    "\n",
    "Por exemplo, isto é um regex: **abc\\d{3}** O significado desta expressão descrito em palavras seria o seguinte:\n",
    "> letra **a** seguida de uma letra **b** seguida de uma letra **c** seguidos por 3 digitos consecutivos\n",
    "\n",
    "Neste exemplo **a**, **b** e **c** são literais, representando a sí mesmos. Já o caracter **\\\\** é um metacaracter chamado **escape** e que significa\n",
    "> o caracter seguinte, **d**, deve ser lido como um metacaracter e não um literal\n",
    "\n",
    "Desta forma o **d** passa a ser lido como outro metacaracter e não a letra **d** ela mesma. No caso os dois metacaracteres **\\d** significam \n",
    "> um digito (qualquer um digito)\n",
    "\n",
    "Finalmente a construção **{3}** seguindo o **\\d** significa (a chave **{** é tambem um meta-caracter):\n",
    "> repita 3 vezes o metacaracter anterior\n",
    "\n",
    "o qual, **\\d**, como dissemos representa um digito.\n",
    "\n",
    "Resumindo o exemplo, o regex **abc\\d{3}** representa um padrão que casa (**match**) qualquer uma das 1000 sequências textuais tais como\n",
    ">**abc123**\n",
    "**abc987**\n",
    "**abc000**\n",
    "e assim por diante...\n",
    "\n",
    "mas que **NÃO** casa outras sequências que não seguem o padrão, tais como\n",
    "> **abb123**, **ab456**, **abc67** e assim por diante\n",
    "\n",
    "---\n",
    "\n",
    "Expressões regulares são muito úteis para fazer buscas textuais. Quase todas linguagens de programação modernas tem algum tipo de suporte para utilizar **regex** sob contrôle do programa.\n",
    "\n",
    "Por outro lado o uso de **regex** é um tópico difícil para quem não as utiliza frequentemente. A sintaxe dos **regex** é convoluta e efeitos colaterais indesejados na busca são frequentes e inesperados. Muita prática e boas referências são necessárias para bom uso desta ferramenta poderosa.\n",
    "\n",
    "Dito tudo isto, nesta lição **não** vamos estudar **regex**, além de descrição sucinta de tópicos na medida do necessário. Isto é, assumimos alguma familiaridade sua com este assunto.\n",
    "\n",
    "O assunto **regex** foi tópico de palestra e mini curso que demos no NECI no começo de 2016. A palestra em formato Powerpoint [pode ser baixada aqui](https://dl.dropboxusercontent.com/u/50004393/Regex%202.pptx).\n",
    "\n",
    "Junto com a palestra houve um mini curso baseado num software desenvolvido especialmente para o NECI. Este programa (versão Windows) mais arquivos acessórios também [podem ser baixados aqui](https://dl.dropboxusercontent.com/u/50004393/regex%203v0.rar)\n",
    "\n",
    "Caso você não tenha nunca visto **regex** baixe estes itens agora e estude-os antes de continuar esta lição. \n",
    "\n",
    "\n"
   ]
  },
  {
   "cell_type": "markdown",
   "metadata": {},
   "source": [
    "   ## Meta caracteres\n",
    "\n",
    "\n",
    "Para sua conveniência aqui vai a descrição de parte dos meta-caracteres usados em expressões regulares:\n",
    "\n",
    "    * \tCasa zero, uma ou mais vezes o caracter precedente \tAh* casa \"Ahhhhh\" ou \"A\"\n",
    "    ? \tCasa zero ou uma vez o caracter precedente \tAh? casa \"Al\" ou \"Ah\"\n",
    "    + \tCasa uma ou mais vezes o caracter precedente \tAh+ casa \"Ah\" ou \"Ahhh\" mas não \"A\"\n",
    "    \\ \tUsado para escape de caracter especial \tFeliz\\? casa \"Feliz?\"\n",
    "    \\d \tCasa um caracter digito: [0-9] \tA\\d+ casa \"A123\" mas não \"A\"\n",
    "    \\s \tCasa um caracter whitespace: [ \\t\\r\\n\\f] \tban\\s+ana casa \"ban ana\"\n",
    "    \\S \tCasa um caracter non-whitespace: [^ \\t\\r\\n\\f] \t\\S casa \"a\" em \" abc \"\n",
    "    \\w \tCasa um caracter alfanumerico: [A-Z_a-z] \t\\w\\w casa \"aB\"\n",
    "    \\W \tCasa um caracter non-alphanumeric: [^A-Z_a-z] \t\\W\\W\\W casa \"#$;\" em \"pontuação#$;\"\n",
    "    \\b \tAncora posição de fronteira de palavra \t\\b casa uma posição em vez de um caracter. A posição casada pode ser:\n",
    "\n",
    "        Imediatamente antes do primeiro caracter de um string, se o primeiro caracter for um \\w.\n",
    "        Imediatamente após o último caracter de um string, se o último caracter for um \\w.\n",
    "        Entre dois caracters de um string, onde um caracter é um \\w e o outro caracter é um \\W\n",
    "        \n",
    "    . \tCaracter \"wildcard\" (coringa), casa qualquer caracter, menos o fim de linha \\n \tle.* casa \"ler\", \"leem\"\n",
    "    ( ) \tGrupos e subexpressões \tVeja exemplo para |\n",
    "    [ ] \tcasa um range (extensão) de caracteres \t[cbf]ar casa \"car\", \"bar\", ou \"far\"\n",
    "    [0-9]+ casa qualquer inteiro positivo\n",
    "    [a-zA-Z] casa as letras a-z (maiúsculas e minúsculas)\n",
    "    [^0-9] casa qualquer caracter não- 0-9.\n",
    "    | \tcasa expressão ou grupo precedente ou seguinte \t(segunda|terça)-feira casa \"segunda-feira\" ou \"terça-feira\"\n",
    "    { } \tcasa um numero de ocorrências específico do precedente \t[0-9]{3} casa \"315\" mas não \"31\"\n",
    "    [0-9]{2,4} casa \"12\", \"123\", and \"1234\" mas não \"1\"\n",
    "    [0-9]{2,} casa \"1234567...\"\n",
    "        ^ \tAncora início de um string. Dentro (no início) de range [] significa negação do que segue. \t\n",
    "    [^0-9] casa qualquer caracter diferente de [0-9].\n",
    "    $ \tAncora fim de um string. \tim$ casa \"fim\" mas não \"final\"\n",
    "    \n",
    "---\n",
    "\n",
    "Criar um **regex** consiste em descrever corretamente um padrão de texto desejado, usando caracteres literais e meta caracteres.\n",
    "\n",
    "Por exemplo, o padrâo descrito assim:\n",
    "```\n",
    "Três digitos, seguidos de quatro letras minusculas\n",
    "```\n",
    "poderia ser codificado num **regex** deste modo:\n",
    "```\n",
    "**\\d\\d\\d[a-z]{4}**\n",
    "```\n"
   ]
  },
  {
   "cell_type": "markdown",
   "metadata": {},
   "source": [
    "## Regex e Python\n",
    "\n",
    "Como de hábito usaremos um módulo conveniente para criar e usar **regex** em nosso programas em Python. \n",
    "\n",
    "No caso este é o módulo **re** (**r**egular **e**xpressions). A documentação oficial para este poderoso módulo [esta aqui](https://docs.python.org/3/library/re.html), e inclue uma boa introdução ao assunto.\n",
    "\n",
    "Recomendo _**fortemente**_ a leitura e recurso frequente a esta documentação. Dúvidas vão surgir e a documentação sempre ajuda. Em particular logo na primeira página eles descrevem todos os meta-caracteres e seu significado.\n",
    "\n",
    "O módulo **re** oferece diversas funções e objetos associados que são úteis numa busca em texto. Destes veremos somente alguns que nos parecem mais úteis, mas outras podem ser vistas na documentação do módulo se desejado.\n",
    "\n",
    "Vejamos algumas funções básicas.\n"
   ]
  },
  {
   "cell_type": "markdown",
   "metadata": {},
   "source": [
    "### Raw String Notation\n",
    "\n",
    "No Python usamos a notação **r'_um string qualquer_'** (repare na letra **r** antes do string) para indicar que o string que segue _**não**_ deve ser lido como se fora uma expressão regular. Isto permite, por exemplo, que possamos escrever caminhos de arquivos e urls sem ter que ficar digitando duas barras **\\\\\\\\** cada vez que escrever uma barra **\\**.\n",
    "```\n",
    "r'C:\\Users\\ps\\Desktop\\python'\n",
    "em vez de\n",
    "'C:\\\\Users\\\\ps\\\\Desktop\\\\python'\n",
    "```\n"
   ]
  },
  {
   "cell_type": "markdown",
   "metadata": {},
   "source": [
    "### re.search( pattern, string)\n",
    "\n",
    "A função re.search( padrao, string) percorre o string dado no argumento e procura nele o primeiro casamento com o **regex** *padrao*.\n",
    "\n",
    "A função devolve um objeto da classe [**Match**](https://docs.python.org/3/library/re.html#match-objects) que nos permite obter o subtexto encontrado, sua posição no texto e outras informações.\n",
    "\n",
    "Se a busca não deu nenhum casamento o objeto **Match** retornado tem o valor **None** (nada, ou falso). Isto vai ser útil em nossos programas pois basta um teste com o comando **if** para decidir logo se a busca teve sucesso.\n",
    "\n",
    "Um objeto **Match** tem uma série de métodos. Numa busca simples o método que nos interessa é **group()**, que retorna o pedaço de texto que foi casado.\n",
    "\n",
    "Vejamos um exemplo."
   ]
  },
  {
   "cell_type": "code",
   "execution_count": 1,
   "metadata": {
    "collapsed": false
   },
   "outputs": [
    {
     "name": "stdout",
     "output_type": "stream",
     "text": [
      "nana\n"
     ]
    }
   ],
   "source": [
    "import re\n",
    "\n",
    "# este é o texto onde vamos achar o string 'ana'\n",
    "texto = 'Ana e Mariana gostam de banana e laranja'\n",
    "\n",
    "# regex\n",
    "rgx = 'nana'\n",
    "\n",
    "# faz a busca\n",
    "m = re.search(rgx, texto)\n",
    "\n",
    "# testa se achou algo e imprime a resposta\n",
    "if m:\n",
    "    print(m.group())\n",
    "else:\n",
    "    print(\"Nada foi achado\")\n",
    "    "
   ]
  },
  {
   "cell_type": "code",
   "execution_count": 6,
   "metadata": {
    "collapsed": false
   },
   "outputs": [
    {
     "data": {
      "text/plain": [
       "26"
      ]
     },
     "execution_count": 6,
     "metadata": {},
     "output_type": "execute_result"
    }
   ],
   "source": [
    "# dá para saber em que posição começa o casamento achado\n",
    "m.start()"
   ]
  },
  {
   "cell_type": "code",
   "execution_count": 7,
   "metadata": {
    "collapsed": false
   },
   "outputs": [
    {
     "data": {
      "text/plain": [
       "'nana e laranja'"
      ]
     },
     "execution_count": 7,
     "metadata": {},
     "output_type": "execute_result"
    }
   ],
   "source": [
    "# conferindo...\n",
    "texto[26:]"
   ]
  },
  {
   "cell_type": "markdown",
   "metadata": {},
   "source": [
    "Pode nos interessar encontrar diversas casamentos dentro de um mesmo **regex**, formando **grupos**. Só para lembrar, **grupos** são partes de um **regex** que ocorrem dentro de parênteses. \n",
    "\n",
    "Por exemplo, se temos uma data no formato dd/mm/aaaa e queremos encontrar datas num texto, podemos procurá-las com o **regex**:\n",
    "\n",
    "```python\n",
    "rg = '\\d{2}/\\d{2}/\\d{4}'\n",
    "```\n"
   ]
  },
  {
   "cell_type": "code",
   "execution_count": 11,
   "metadata": {
    "collapsed": false
   },
   "outputs": [
    {
     "data": {
      "text/plain": [
       "'15/05/2016'"
      ]
     },
     "execution_count": 11,
     "metadata": {},
     "output_type": "execute_result"
    }
   ],
   "source": [
    "# um string contendo uma data\n",
    "txt = 'mercadoria 19/11 comprada em 15/05/2016 foi embarcada em 27/06/2016'\n",
    "\n",
    "m = re.search('\\d{2}/\\d{2}/\\d{4}', txt)\n",
    "\n",
    "m.group()\n"
   ]
  },
  {
   "cell_type": "markdown",
   "metadata": {},
   "source": [
    "Mas digamos que estamos interessados no mês e no ano. Para tanto vamos modificar o **regex** criando um grupo para o mês e outro para o ano:"
   ]
  },
  {
   "cell_type": "code",
   "execution_count": 12,
   "metadata": {
    "collapsed": false
   },
   "outputs": [
    {
     "data": {
      "text/plain": [
       "('05', '2016')"
      ]
     },
     "execution_count": 12,
     "metadata": {},
     "output_type": "execute_result"
    }
   ],
   "source": [
    "# novo regex usando dois grupos, um para mês outro para ano\n",
    "rg = '\\d{2}/(\\d{2})/(\\d{4})'\n",
    "m1 = re.search(rg, txt)\n",
    "m1.groups()             # repare no plural, groups e não group"
   ]
  },
  {
   "cell_type": "markdown",
   "metadata": {},
   "source": [
    "Os diversos grupos num **regex** podem ser vistos colocando um indice no método **group()**, lembrando que os grupos são enumerados da esquerda para a direita dentro do **regex**."
   ]
  },
  {
   "cell_type": "code",
   "execution_count": 16,
   "metadata": {
    "collapsed": false
   },
   "outputs": [
    {
     "data": {
      "text/plain": [
       "'05'"
      ]
     },
     "execution_count": 16,
     "metadata": {},
     "output_type": "execute_result"
    }
   ],
   "source": [
    "m1.group(1)"
   ]
  },
  {
   "cell_type": "code",
   "execution_count": 17,
   "metadata": {
    "collapsed": false
   },
   "outputs": [
    {
     "data": {
      "text/plain": [
       "'2016'"
      ]
     },
     "execution_count": 17,
     "metadata": {},
     "output_type": "execute_result"
    }
   ],
   "source": [
    "m1.group(2)"
   ]
  },
  {
   "cell_type": "markdown",
   "metadata": {},
   "source": [
    "### re.split(pattern, string)\n",
    "\n",
    "Esta função quebra o string removendo todas ocorrências do padrão descrito pelo **regex** pattern, devolvendo uma lista com os pedaços resultantes.\n",
    "\n",
    "Por exemplo:"
   ]
  },
  {
   "cell_type": "code",
   "execution_count": 2,
   "metadata": {
    "collapsed": false
   },
   "outputs": [
    {
     "data": {
      "text/plain": [
       "['Ana e Mari', ' gostam de b', 'na prata']"
      ]
     },
     "execution_count": 2,
     "metadata": {},
     "output_type": "execute_result"
    }
   ],
   "source": [
    "s = 'Ana e Mariana gostam de banana prata'\n",
    "re.split('ana',s)"
   ]
  },
  {
   "cell_type": "markdown",
   "metadata": {},
   "source": [
    "### re.findall(pattern, string)\n",
    "\n",
    "Como vimos a função **search()** devolve o primeiro pedaço de texto que casa com o padrão. Se quisermos *todos* os trechos casados usaremos a função **findall()**, que devolve uma lista de todos casamentos encontrados.\n",
    "\n",
    "No exemplo acima digamos que queremos todas as datas no texto. \n"
   ]
  },
  {
   "cell_type": "code",
   "execution_count": 13,
   "metadata": {
    "collapsed": false
   },
   "outputs": [
    {
     "data": {
      "text/plain": [
       "[('05', '2016'), ('06', '2016')]"
      ]
     },
     "execution_count": 13,
     "metadata": {},
     "output_type": "execute_result"
    }
   ],
   "source": [
    "# obtem todas datas no texto\n",
    "l = re.findall(rg, txt)\n",
    "l"
   ]
  },
  {
   "cell_type": "markdown",
   "metadata": {},
   "source": [
    "Como se vê obtemos uma lista de tuplas, uma tupla para cada data. Cada tupla por sua vez representa os dois grupos do **regex**, seu primeiro elemento é o mês e o segundo elemento é o ano."
   ]
  },
  {
   "cell_type": "markdown",
   "metadata": {},
   "source": [
    "### re.finditer(pattern, string)\n",
    "\n",
    "A função **findall()** devolve uma lista com todas ocorrências encontradas. Entretanto às vêzes precisamos saber outras informações sobre cada ocorrência encontrada. \n",
    "\n",
    "Por exemplo, podemos precisar saber a posição no texto de cada ocorrência do padrão.\n",
    "\n",
    "A função **finditer()** oferece estas informações. Esta função cria um iterador interno que devolve um objeto do tipo **Match** em cada iteração. Este objeto é relativo à próxima ocorrência encontrada e contem informação sobre a posição da ocorrência.\n",
    "\n",
    "Vejamos um exemplo:"
   ]
  },
  {
   "cell_type": "code",
   "execution_count": 6,
   "metadata": {
    "collapsed": false
   },
   "outputs": [
    {
     "name": "stdout",
     "output_type": "stream",
     "text": [
      "Ana e Mariana gostam de banana prata\n",
      "00-03: Ana\n",
      "10-13: ana\n",
      "25-28: ana\n"
     ]
    }
   ],
   "source": [
    "print(s)\n",
    "rgx = '[A|a]na'                # casa ana ou Ana\n",
    "for m in re.finditer(rgx, s):\n",
    "    print('%02d-%02d: %s' % (m.start(), m.end(), m.group(0)))"
   ]
  },
  {
   "cell_type": "markdown",
   "metadata": {},
   "source": [
    "### re.sub(pattern, repl, string)\n",
    "\n",
    "Esta função permite fazer substituições num texto. Todas as ocorrências do padrão **pattern** no string dado serão substituidas pelo texto **repl** e um string assim modificado é devolvido pela função.\n",
    "\n",
    " Por exemplo:"
   ]
  },
  {
   "cell_type": "code",
   "execution_count": 8,
   "metadata": {
    "collapsed": false
   },
   "outputs": [
    {
     "name": "stdout",
     "output_type": "stream",
     "text": [
      "Ana e Mariana gostam de banana prata\n",
      "Ana e Mariana gostam de Joana prata\n"
     ]
    }
   ],
   "source": [
    "print(s)\n",
    "rg = 'banana'\n",
    "repl = 'Joana'\n",
    "s1 = re.sub(rg, repl, s)\n",
    "print(s1)"
   ]
  },
  {
   "cell_type": "markdown",
   "metadata": {},
   "source": [
    "### Exemplo final\n",
    "\n",
    "Vejamos nosso texto já conhecido, no arquivo 'cienciapolitica.txt'. Para este exemplo você vai precisar deste arquivo, que [pode ser baixado aqui](https://dl.dropboxusercontent.com/u/50004393/cienciapolitica.txt). Baixe o arquivo e coloque-o no diretório onde esta este notebook.\n",
    "\n",
    "A tarefa desejada é encontrar todos advérbios que ocorrem neste texto.\n",
    "\n",
    "E o que é um advérbio? Bem, ao contrário do idioma inglês, em português os advérbios são coisa complicada de definir. [Nesta referência](https://pt.wikipedia.org/wiki/Adv%C3%A9rbio) encontramos sete categorias de advérbios, sem contar suas respectivas flexões.\n",
    "\n",
    "Vamos nos ater aos chamados *advérbios de modo*, definidos como segue, na referência acima:\n",
    "\n",
    "```\n",
    "Advérbios de Modo\n",
    "Assim, bem, mal, acinte (de propósito, deliberadamente), adrede (de caso pensado, de propósito, para esse fim), debalde (inutilmente), depressa, devagar, melhor, pior, como, desapontadoramente, generosamente, cuidadosamente, calmamente e muitos outros terminados com o sufixo \"mente\".\n",
    "```\n",
    "Montar um **regex** para este padrão é trabalhoso. Vamos assumir que *qualquer palavra* terminada em *mente* é um advérbio (peço licença aos puristas e gramáticos, só para um exemplo...).\n",
    "\n",
    "Como seria um possivel **regex**?\n",
    "\n",
    "```\n",
    "'[Aa]ssim|bem|mal|acinte|adrede|debalde|depressa|devagar|melhor|pior|como|\\w+mente'\n",
    "```\n",
    "\n",
    "Convença-se que cobrimos os casos na definição dada acima...\n",
    "\n",
    "Vamos ao exemplo\n"
   ]
  },
  {
   "cell_type": "code",
   "execution_count": 10,
   "metadata": {
    "collapsed": false
   },
   "outputs": [
    {
     "name": "stdout",
     "output_type": "stream",
     "text": [
      "A Ciência Política surgiu como disciplina e instituição em meados do século XIX, período em que avançou como \"Ciência do Estado\" principalmente na Alemanha, Itália e França. De maneira mais ampla, a Ciência Política pode ser entendida como a disciplina que se volta para o estudo de qualquer fenômeno ligado às estruturas políticas de maneira sistemática, sempre apoiado na observação empírica rigorosa e fundamentado em argumentos racionais. Nesse sentido, a palavra \"ciência\" é usada como ideia oposta à noção de \"opinião\", de forma que, como Noberto Bobbio* esclarece em seu Dicionário de Política, \"ocupar-se cientificamente de política significa não se abandonar a opiniões e crenças do vulgo, não formular juízos com base em dados imprecisos, mas apoiar-se nas provas dos fatos.\"\n",
      "\n",
      "Trata-se, portanto, de uma disciplina das Ciências Sociais que lida com o estudo de sistemas de governo, análises de comportamento político e de atividades políticas em geral. Ela cuida, principalmente, dos atos e\n"
     ]
    },
    {
     "data": {
      "text/plain": [
       "['como',\n",
       " 'como',\n",
       " 'principalmente',\n",
       " 'como',\n",
       " 'como',\n",
       " 'como',\n",
       " 'cientificamente',\n",
       " 'principalmente',\n",
       " 'metodologicamente',\n",
       " 'como']"
      ]
     },
     "execution_count": 10,
     "metadata": {},
     "output_type": "execute_result"
    }
   ],
   "source": [
    "# abra o arquivo dado e leia seu conteudo em um string\n",
    "with open('cienciapolitica.txt') as f:\n",
    "    texto = f.read()\n",
    "\n",
    "# primeiros 1000 caracteres...\n",
    "print(texto[:1000])\n",
    "\n",
    "# cria o regex\n",
    "rgx = '[Aa]ssim|bem|mal|acinte|adrede|debalde|depressa|devagar|melhor|pior|como|\\w+mente'\n",
    "\n",
    "# agora busca todos adverbios com um findall()\n",
    "re.findall(rgx, texto)\n"
   ]
  },
  {
   "cell_type": "markdown",
   "metadata": {},
   "source": [
    "Até que o texto está parcimonioso em seu uso de advérbios, não?\n",
    "\n",
    "E isto termina esta lição."
   ]
  }
 ],
 "metadata": {
  "kernelspec": {
   "display_name": "Python 3",
   "language": "python",
   "name": "python3"
  },
  "language_info": {
   "codemirror_mode": {
    "name": "ipython",
    "version": 3
   },
   "file_extension": ".py",
   "mimetype": "text/x-python",
   "name": "python",
   "nbconvert_exporter": "python",
   "pygments_lexer": "ipython3",
   "version": "3.5.1"
  }
 },
 "nbformat": 4,
 "nbformat_minor": 0
}
