{
 "cells": [
  {
   "cell_type": "markdown",
   "metadata": {},
   "source": [
    "# Caracteres, números e variáveis"
   ]
  },
  {
   "cell_type": "markdown",
   "metadata": {},
   "source": [
    "Nesta página vamos começar com o estudo de Python propriamente dito. Se você seguiu as páginas de pseudo código deve estar familiar com as noções de variáveis, caracteres e números. Em Python os conceitos são similares."
   ]
  },
  {
   "cell_type": "markdown",
   "metadata": {},
   "source": [
    "Lembre-se, para executar o código em uma célula de código clique nela e digite `shift+enter`"
   ]
  },
  {
   "cell_type": "markdown",
   "metadata": {},
   "source": [
    "Por default os caracteres em Python são os caracteres ASCII básicos mais extensões (padrão UTF-8).\n",
    "Caracteres são formados por digitos, letras, pontuação e whitespace. Para representar um caracter usamos aspas, simples ou duplas (mas as mesmas no mesmo caracter). Por exemplo **'a', \"7\", 'k', \"=\"** e **' '**."
   ]
  },
  {
   "cell_type": "markdown",
   "metadata": {},
   "source": [
    "Literais numéricos representam números, tais como 123, 7, 0. Números também podem ter sinal algébrico como -35.\n",
    "Números podem ser inteiros (**int**) 12, 76, 98765, ou decimais (**float**)como 3.5 ou 2.71828 Note que números decimais usam **ponto** como separador da parte fracionária.\n",
    "\n",
    "Existe ainda a chamada notação científica onde números são representados por um float seguido por uma potência de dez pela qual o float é multiplicado. A potência de 10 é representada pela letra 'e' seguida do valor numérico. Por exemplo 23000000.00 pode ser representado como 2.3E7, ou seja 2.3 vezes 10 elevado na 7 potência (10000000). Verifique isto executando a célula abaixo (shift + enter):"
   ]
  },
  {
   "cell_type": "code",
   "execution_count": null,
   "metadata": {
    "collapsed": false
   },
   "outputs": [],
   "source": [
    "23000000 == 2.3E7"
   ]
  },
  {
   "cell_type": "markdown",
   "metadata": {},
   "source": [
    "Variáveis tem um nome e um valor, que é o objeto representado por elas. As regras para nome de variáveis são simples:\n",
    "1. Nomes de variáveis são literais formados por letras, digitos e o caracter underscore.\n",
    "2. Nomes não podem começar com um digito nem conter espaço ou whitespace\n",
    "\n",
    "Nomes de variáveis não podem ser uma das [palavras reservadas](https://docs.python.org/3/reference/lexical_analysis.html#operators) (**keywords**)do Python, que são usadas para denotar comandos ou valores especiais."
   ]
  },
  {
   "cell_type": "markdown",
   "metadata": {},
   "source": [
    "Vejamos alguns exemplos destes conceitos. O Python pode ser usado como calculadora, assim como o Matlab ou o R. Vamos aproveitar para ir introduzindo operadores do Python."
   ]
  },
  {
   "cell_type": "markdown",
   "metadata": {},
   "source": [
    "Soma, subtração, multiplicação e divisão funcionam como você esperaria:"
   ]
  },
  {
   "cell_type": "code",
   "execution_count": null,
   "metadata": {
    "collapsed": false
   },
   "outputs": [],
   "source": [
    "1 + 2 + 3"
   ]
  },
  {
   "cell_type": "code",
   "execution_count": null,
   "metadata": {
    "collapsed": false
   },
   "outputs": [],
   "source": [
    "5 - 3 * 7"
   ]
  },
  {
   "cell_type": "code",
   "execution_count": null,
   "metadata": {
    "collapsed": false
   },
   "outputs": [],
   "source": [
    "42 / 2"
   ]
  },
  {
   "cell_type": "code",
   "execution_count": null,
   "metadata": {
    "collapsed": false
   },
   "outputs": [],
   "source": [
    "43 / 2"
   ]
  },
  {
   "cell_type": "markdown",
   "metadata": {},
   "source": [
    "Observe como o Python transformou esta divisão de números inteiros num resultado ponto flutuante. Se você deseja **divisão inteira** entâo use o operador **//** assim:"
   ]
  },
  {
   "cell_type": "code",
   "execution_count": null,
   "metadata": {
    "collapsed": false
   },
   "outputs": [],
   "source": [
    "43 // 2"
   ]
  },
  {
   "cell_type": "markdown",
   "metadata": {},
   "source": [
    "Às vêzes queremos o resto de uma divisão. Isto é obtido com o operador **%**:"
   ]
  },
  {
   "cell_type": "code",
   "execution_count": null,
   "metadata": {
    "collapsed": false
   },
   "outputs": [],
   "source": [
    "43 % 2"
   ]
  },
  {
   "cell_type": "markdown",
   "metadata": {},
   "source": [
    "Só para conferir montamos as operações reversas, obtendo o número 43:"
   ]
  },
  {
   "cell_type": "code",
   "execution_count": null,
   "metadata": {
    "collapsed": false
   },
   "outputs": [],
   "source": [
    "(43 // 2) * 2 + 43 % 2"
   ]
  },
  {
   "cell_type": "markdown",
   "metadata": {},
   "source": [
    "Este é um ponto bom para definir comentários em Python. Comentários são texto ignorado pelo interpretador e destinado à leitura pelos programadores, para esclarecer detalhes do algoritmo. Muitas vêzes o pseudo código original pode ser copiado e colado para formar comentários (recomendado)."
   ]
  },
  {
   "cell_type": "markdown",
   "metadata": {},
   "source": [
    "Comentário em Python é qualquer texto precedido por um hashtag **#** e seguido até o fim da linha corrente. Por exemplo:"
   ]
  },
  {
   "cell_type": "code",
   "execution_count": null,
   "metadata": {
    "collapsed": true
   },
   "outputs": [],
   "source": [
    "(43 // 2) * 2 + 43 % 2     # quociente da divisão vezes o divisor mais o resto da divisão"
   ]
  },
  {
   "cell_type": "markdown",
   "metadata": {},
   "source": [
    "Potenciação é feita pelo operador **"
   ]
  },
  {
   "cell_type": "code",
   "execution_count": null,
   "metadata": {
    "collapsed": false
   },
   "outputs": [],
   "source": [
    "12**2"
   ]
  },
  {
   "cell_type": "markdown",
   "metadata": {},
   "source": [
    "Um **comando** fundamental em Python é a nossa conhecida atribuição (**assignment**), que amarra uma variável com algum valor:"
   ]
  },
  {
   "cell_type": "code",
   "execution_count": null,
   "metadata": {
    "collapsed": false
   },
   "outputs": [],
   "source": [
    "x = 123\n",
    "x"
   ]
  },
  {
   "cell_type": "code",
   "execution_count": null,
   "metadata": {
    "collapsed": false
   },
   "outputs": [],
   "source": [
    "quociente = 43 // 2\n",
    "quociente"
   ]
  },
  {
   "cell_type": "code",
   "execution_count": null,
   "metadata": {
    "collapsed": false
   },
   "outputs": [],
   "source": [
    "resto = 43 % 2\n",
    "resto"
   ]
  },
  {
   "cell_type": "code",
   "execution_count": null,
   "metadata": {
    "collapsed": false
   },
   "outputs": [],
   "source": [
    "quociente * 2 + resto"
   ]
  },
  {
   "cell_type": "markdown",
   "metadata": {},
   "source": [
    "Um tipo de dados básico é o **string**. Strings são cadeias de caracteres entre aspas, simples ou duplas (mas não ambas!). Por exemplo 'banana', 'deputado', 'PL2003/32' são strings. Strings tem um monte de propriedades e funções que podemos aplicar nêles, seus caracteres são indexados desde zero, e outras coisas mais que veremos adiante. Por exemplo:"
   ]
  },
  {
   "cell_type": "code",
   "execution_count": null,
   "metadata": {
    "collapsed": false
   },
   "outputs": [],
   "source": [
    "nome = 'PL2003/25 extra'\n",
    "nome[5]"
   ]
  },
  {
   "cell_type": "markdown",
   "metadata": {},
   "source": [
    "Ainda em tipos de dados básicos, temos os chamados valores-verdade ou booleanos. Este são dois somente: **True e False** e são usados em testes tipo **sim/não**"
   ]
  },
  {
   "cell_type": "markdown",
   "metadata": {},
   "source": [
    "O Python tem uma coleção de 68 [funções embutidas](https://docs.python.org/3/library/functions.html) que podem ser usadas em programas e até no modo calculadora. Destas funções básicas destacamos logo `print(algum_string)` cujo resultado é imprimir no terminal um string, valor de variável ou valor de expressão em forma de string:"
   ]
  },
  {
   "cell_type": "code",
   "execution_count": null,
   "metadata": {
    "collapsed": false
   },
   "outputs": [],
   "source": [
    "print(quociente)\n",
    "print(nome)\n",
    "print(2+2)"
   ]
  },
  {
   "cell_type": "markdown",
   "metadata": {},
   "source": [
    "O simbolo **=** é usado para atribuição. Para testar ou exprimir igualdade usamos o símbolo composto **==**:"
   ]
  },
  {
   "cell_type": "code",
   "execution_count": null,
   "metadata": {
    "collapsed": false
   },
   "outputs": [],
   "source": [
    "21 == quociente"
   ]
  },
  {
   "cell_type": "code",
   "execution_count": null,
   "metadata": {
    "collapsed": false
   },
   "outputs": [],
   "source": [
    "resto == 3"
   ]
  },
  {
   "cell_type": "markdown",
   "metadata": {},
   "source": [
    "Para encerrar esta parte consulte a página oficial do Python onde há uma [introdução](https://docs.python.org/3.5/tutorial/introduction.html#numbers) parecida com esta."
   ]
  }
 ],
 "metadata": {
  "kernelspec": {
   "display_name": "Python 3",
   "language": "python",
   "name": "python3"
  },
  "language_info": {
   "codemirror_mode": {
    "name": "ipython",
    "version": 3
   },
   "file_extension": ".py",
   "mimetype": "text/x-python",
   "name": "python",
   "nbconvert_exporter": "python",
   "pygments_lexer": "ipython3",
   "version": "3.5.1"
  }
 },
 "nbformat": 4,
 "nbformat_minor": 0
}
