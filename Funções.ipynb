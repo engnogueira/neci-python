{
 "cells": [
  {
   "cell_type": "markdown",
   "metadata": {},
   "source": [
    "# Funções"
   ]
  },
  {
   "cell_type": "markdown",
   "metadata": {},
   "source": [
    "É frequente decompormos um procedimento obtendo partes menores que podem ser resolvidas de forma independente do fio principal do programa. \n",
    "\n",
    "Por exemplo, desenhar um gráfico ou histograma pode ser parte de um programa maior que analisa massas de dados. Produzir este desenho ou representação gráfica em sí é um procedimento, que pode e deve ser programado independente do programa de análise de dados.\n",
    "\n",
    "O programa principal simplesmente invoca a execução deste procedimento auxiliar passando-lhe dados relevantes, tais como as variáveis cujos valores devem ser desenhados, etc, e o procedimento auxiliar produz a representação gráfica desejada.\n",
    "\n",
    "A forma como este tipo de procedimento auxiliar é codificado é a de **função**.\n",
    "\n",
    "---\n",
    "\n",
    "Porque usar funções? O que se ganha com isto?  \n",
    "Muita coisa mesmo:\n",
    "\n",
    "1. fica mais fácil construir um procedimento como diversos procedimentos menores montados num todo.\n",
    "2. cada função pode ser programada com menos erros por ter um objetivo mais focalizado\n",
    "3. é mais fácil depurar funções menores do que um grande programa monolítico\n",
    "4. funções podem ser reutilizadas em outros programas com enorme economia de esforço\n",
    "\n",
    "---\n",
    "\n",
    "\n",
    "\n"
   ]
  },
  {
   "cell_type": "markdown",
   "metadata": {},
   "source": [
    "Uma função é definida com um nome, um corpo contendo seus comandos e uma lista de dados que lhe são fornecidos no início, chamados de *argumentos*. Um comando que ainda não vimos é usado em funções para retornar valores calculados durante sua execução: o comando **return**.\n",
    "\n",
    "Vejamos exemplos em Python:"
   ]
  },
  {
   "cell_type": "code",
   "execution_count": 1,
   "metadata": {
    "collapsed": true
   },
   "outputs": [],
   "source": [
    "def total(L):\n",
    "    '''função que recebe como argumento uma lista L de numeros e retorna a soma dos números da lista'''\n",
    "    soma = 0\n",
    "    for x in L:\n",
    "        soma = soma + x\n",
    "    return soma\n"
   ]
  },
  {
   "cell_type": "code",
   "execution_count": 2,
   "metadata": {
    "collapsed": false
   },
   "outputs": [
    {
     "data": {
      "text/plain": [
       "21"
      ]
     },
     "execution_count": 2,
     "metadata": {},
     "output_type": "execute_result"
    }
   ],
   "source": [
    "# soma esta lista\n",
    "uma_lista = [1,2,3,4,5,6]\n",
    "total(uma_lista)"
   ]
  },
  {
   "cell_type": "markdown",
   "metadata": {},
   "source": [
    "As variáveis definidas no corpo de uma função são ditas *locais* e são apagadas automaticamente quando a função termina de executar e retorna.\n",
    "\n",
    "Em contraste variáveis definidas fora de qualquer função são chamadas variáveis *globais*.\n",
    "\n",
    "A diferença maior entre os dois tipos de variáveis é que variáveis locais são visíveis exclusivamente dentro do corpo de determinada função, enquanto variáveis globais são visíveis em qualquer parte do programa, inclusive dentro de funções (mas é desaconselhado usar variáveis globais dentro de funções! Isto iria contra o próprio propósito de ter funções em primeiro lugar.)\n",
    "\n",
    "Toda informação global que uma função precisa deve ser-lhe passada via argumentos no ponto onde ela for chamada. Quando a função começa a executar a primeira coisa que acontece é que *os valores dos argumentos são copiados em variáveis locais de mesmo nome para uso dentro da função*. \n",
    "\n",
    "Aqui é importante lembrar que o valor de uma variável é uma referência a algum objeto. Portanto quando os argumentos são copiados em variáveis locais, suas cópias locais passam a referenciar os mesmos objetos. Se estes objetos forem modificáveis, tipo uma lista, a variável externa passa a ver seu objeto também modificado.\n",
    "\n",
    "Vejamos um exemplo deste ponto:"
   ]
  },
  {
   "cell_type": "code",
   "execution_count": 7,
   "metadata": {
    "collapsed": false
   },
   "outputs": [
    {
     "data": {
      "text/plain": [
       "2"
      ]
     },
     "execution_count": 7,
     "metadata": {},
     "output_type": "execute_result"
    }
   ],
   "source": [
    "def boba(x):\n",
    "    x = 3\n",
    "    \n",
    "n = 2\n",
    "boba(n)\n",
    "n"
   ]
  },
  {
   "cell_type": "code",
   "execution_count": 6,
   "metadata": {
    "collapsed": false
   },
   "outputs": [
    {
     "data": {
      "text/plain": [
       "['mudei', 2, 3]"
      ]
     },
     "execution_count": 6,
     "metadata": {},
     "output_type": "execute_result"
    }
   ],
   "source": [
    "def outra(L):\n",
    "    # aqui L é uma lista\n",
    "    L[0] = 'mudei'\n",
    "    \n",
    "lst = [1,2,3]\n",
    "outra(lst)\n",
    "lst"
   ]
  },
  {
   "cell_type": "markdown",
   "metadata": {},
   "source": [
    "Toda função deve retornar algum valor. Entretanto as funções acima parecem não retornar nada. O que ocorre é que se não há um comando explicito **return** então o Python implicitamente assume um valor default de retorno equivalente a \"nada\".\n",
    "\n",
    "Este valor é o `None`, usado sempre que um retorno de função qualquer for vazio, ou \"nada\". **None** pode ser usado explicitamente para indicar isto ao usuário de uma função.\n"
   ]
  },
  {
   "cell_type": "code",
   "execution_count": 13,
   "metadata": {
    "collapsed": false
   },
   "outputs": [
    {
     "name": "stdout",
     "output_type": "stream",
     "text": [
      "None\n"
     ]
    }
   ],
   "source": [
    "def retorna_par(L):\n",
    "    '''retorna um numero par da lista L de numeros'''\n",
    "    for x in L:\n",
    "        if x % 2 == 0:\n",
    "            return x\n",
    "\n",
    "L = [1,3,7,9]\n",
    "n = retorna_par(L)\n",
    "print(n)"
   ]
  },
  {
   "cell_type": "markdown",
   "metadata": {},
   "source": [
    "Uma função em sí tambem é um objeto do Python e pode ser manipulada de acordo. Por exemplo:\n"
   ]
  },
  {
   "cell_type": "code",
   "execution_count": 15,
   "metadata": {
    "collapsed": false
   },
   "outputs": [
    {
     "data": {
      "text/plain": [
       "2"
      ]
     },
     "execution_count": 15,
     "metadata": {},
     "output_type": "execute_result"
    }
   ],
   "source": [
    "f = retorna_par         # f passa a referenciar a função retorna_par\n",
    "L = [1,2,3,5,7]\n",
    "n = f(L)\n",
    "n"
   ]
  },
  {
   "cell_type": "markdown",
   "metadata": {},
   "source": [
    "No mesmo espírito podemos passar funções nos argumentos de outras funções:\n"
   ]
  },
  {
   "cell_type": "code",
   "execution_count": 24,
   "metadata": {
    "collapsed": false
   },
   "outputs": [
    {
     "data": {
      "text/plain": [
       "[False, True, False, True, False]"
      ]
     },
     "execution_count": 24,
     "metadata": {},
     "output_type": "execute_result"
    }
   ],
   "source": [
    "def aplica(f, L):\n",
    "    '''aplica uma função f em cada elemento de uma lista'''\n",
    "    return [f(x) for x in L]\n",
    "\n",
    "\n",
    "def par(x):\n",
    "    # retorna teste se x é numero par\n",
    "    return x%2 == 0\n",
    "\n",
    "def impar(x):\n",
    "    # retorna teste se x é número impar\n",
    "    return x%2 != 0\n",
    "\n",
    "\n",
    "L = [1,2,3,4,5]\n",
    "\n",
    "aplica(par, L)\n"
   ]
  },
  {
   "cell_type": "code",
   "execution_count": 25,
   "metadata": {
    "collapsed": false
   },
   "outputs": [
    {
     "data": {
      "text/plain": [
       "[True, False, True, False, True]"
      ]
     },
     "execution_count": 25,
     "metadata": {},
     "output_type": "execute_result"
    }
   ],
   "source": [
    "aplica(impar, L)"
   ]
  },
  {
   "cell_type": "markdown",
   "metadata": {},
   "source": [
    "Nos [documentos oficiais](https://docs.python.org/3.5/tutorial/controlflow.html#default-argument-values) são dados mais detalhes sobre argumentos de funções, listas de argumentos, keyword arguments e valores default.\n",
    "\n"
   ]
  },
  {
   "cell_type": "code",
   "execution_count": null,
   "metadata": {
    "collapsed": true
   },
   "outputs": [],
   "source": []
  }
 ],
 "metadata": {
  "kernelspec": {
   "display_name": "Python 3",
   "language": "python",
   "name": "python3"
  },
  "language_info": {
   "codemirror_mode": {
    "name": "ipython",
    "version": 3
   },
   "file_extension": ".py",
   "mimetype": "text/x-python",
   "name": "python",
   "nbconvert_exporter": "python",
   "pygments_lexer": "ipython3",
   "version": "3.5.1"
  }
 },
 "nbformat": 4,
 "nbformat_minor": 0
}
