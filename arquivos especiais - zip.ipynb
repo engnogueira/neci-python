{
 "cells": [
  {
   "cell_type": "markdown",
   "metadata": {},
   "source": [
    "# Arquivos especiais - zip e pickle\n",
    "\n",
    "Na prática é comum encontrar situações onde arquivos crescem até ficar enormes. Como o hardware, memoria, hard disks, pendrives e tal são limitados temos um problema de falta de espaço para armazenar arquivos. Outro problema é transmitir tais arquivos grandes, por exemplo via e-mail.\n",
    "\n",
    "Outra situação comum é ter arquivos de tamanho razoável mas em números muito grandes. Tambem neste caso espaço faz falta. Por exemplo, na Câmara dos Deputados temos mais de 70,000 arquivos com dados de projetos de lei de diversos tipos. Na média são arquivos relativamente pequenos, cerca de 70 KB em tamanho, mas a quantidade é muito grande. \n",
    "\n",
    "Espaço de memória não é o único problema. Um problema tambem importante é o tempo gasto na transferência, seja via downloads ou wi-fi e outros meios.\n",
    "\n",
    "Por estas razões houve muito esforço para desenvolver algoritmos que permitam diminuir tamanho de arquivos de dados. Hoje em dia existem vários padrões para tal _**compressão de arquivos**_.\n",
    "\n",
    "Nesta lição veremos dois tipos de pacotes para comprimir dados de arquivos.\n"
   ]
  },
  {
   "cell_type": "markdown",
   "metadata": {},
   "source": [
    "## Compressão de dados\n",
    "\n",
    "Quando guardamos dados tais como textos ou imagens em arquivos tipicamente estamos inserindo dados redundantes no conteúdo. Quando digo redundantes quero dizer que a mesma informação poderia ser guardada, sem nenhuma perda, reduzindo a quantidade de simbolos ou bits armazenados. Ou seja, mesma informação em arquivo de menor tamanho.\n",
    "\n",
    "Para ver como isto ocorre considere uma imagem digital. Por exemplo, uma tela típica com 1380 pontos por 720 pontos. Esta tela contem 1380 X 720 = 993,600 pontos, ou **pixels**. Cada pixel tem associado um valor de côr. \n",
    "\n",
    "Entretanto olhando uma imagem típica vemos que é composta de áreas ou manchas de mesma côr. Se formos representar côres por números digamos, de 0 a 255, examinando os pixels de cada uma das 720 linhas da imagem tipicamente veríamos algo como:\n",
    "\n",
    "0,0,0,17,17,17,17,18,0,0,0,0,0,0,0,0,0,0,0,0,0,233,233,233,233,0,0,0,.......\n",
    "\n",
    "Em que sentido esta sequência é \"redundante\"? \n",
    "\n",
    "Quando repetimos o número de uma côr em sucessivos pixels (na prática a repetição é de milhares de pontos!) estamos introduzindo redundância porque, acima de certo tamanho da sub-sequência de côr repetida, sería mais sucinto indicar o número de repetições em vez de dar a côr de cada pixel. Se você tem uma sequência ininterrupta de 300 zeros é mais sucinto representá-la por \"300 vêzes zero\" do que por \"0, 0, 0, ...\" Esta idéia aliás é a base do algoritmo RLE (run-length encoding) um dos usados em arquivos de imagens.\n",
    "\n",
    "Por exemplo vejamos a sequência acima. Vamos representar a mesma como uma sequencia de números separados por vírgulas. Cada número é a côr de um pixel.\n",
    "\n",
    "Depois vamos representar a mesma sequência mas subsequencias repetidas serão substituidas pelo seguinte formato:\n",
    "\n",
    "_**número de repetições seguido por letra 'x' seguido por numero da côr**_\n",
    "\n",
    "Por exemplo, a subsequencia 17,17,17,17,17 é substituida por 5x17 (\"cinco vêzes 17\")\n"
   ]
  },
  {
   "cell_type": "code",
   "execution_count": null,
   "metadata": {
    "collapsed": false
   },
   "outputs": [],
   "source": [
    "import os, pprint\n",
    "\n",
    "# cria uma lista com cores de pixels\n",
    "c = [0,0,0,17,17,17,17,18,0,0,0,0,0,0,0,0,0,0,0,0,0,233,233,233,233,0,0,0]\n",
    "\n",
    "# converte a lista num string de cores separadas por virgulas\n",
    "s = ''\n",
    "for e in c:\n",
    "    if s == '':\n",
    "        s = str(e)\n",
    "    else:\n",
    "        s = s + ',' + str(e)\n",
    "print(s)\n",
    "print(len(s))\n",
    "\n",
    "# agora a mesma lista mas com a informação comprimida\n",
    "s1 = '3x0,4x17,18,13x0,4x233,3x0'\n",
    "print(s1)\n",
    "print(len(s1))\n",
    "\n",
    "# calcula taxa de compressão\n",
    "print('Taxa de compressão = ', len(s1)/len(s))"
   ]
  },
  {
   "cell_type": "markdown",
   "metadata": {},
   "source": [
    "Ou seja reduzimos para 38% do tamanho original. Obviamente esta redução depende da imagem. Na prática existem sistemas melhores de compressão de imagens, tais como o formato JPEG e outros. O exemplo aqui é só ilustrativo.\n",
    "\n",
    "---\n",
    "\n",
    "De forma similar é possivel diminuir tamanho de textos. As possibilidades de codificação são muitas. Por exemplo, palavras mais compridas podem ser substituidas por códigos mais curtos. Letras podem ter representação binária mais curta para letras que ocorrem mais no texto (códigos de Huffman) e assim por diante.\n",
    "\n",
    "Uma compressão de dados muito popular é o ZIP.\n",
    "\n"
   ]
  },
  {
   "cell_type": "markdown",
   "metadata": {},
   "source": [
    "## ZIP\n",
    "\n",
    "O módulo de compressão de dados que usaremos chama-se **zipfile**. \n",
    "\n",
    "Como muitos módulos **zipfile** esconde complexidade atrás de uma interface símples e fácil de usar.  Sua documentação [pode ser vista aqui](https://docs.python.org/3.5/library/zipfile.html?highlight=zipfiles)\n",
    "\n",
    "Um arquivo **zip** é um container de outros arquivos como se fôra uma pasta. Os arquivos contidos estão em forma comprimida, obtida usando os algorítmos de compressão do padrão **zip**. Além de arquivos quaisquer um arquivo **zip** também pode conter pastas com seus respectivos conteúdos, tudo sempre devidamente comprimido.\n",
    "\n",
    "O módulo **zipfile** permite construir objetos **zipfile.ZipFile**, os quais permitem lêr e escrever em arquivos **zip**. Algo parecido com o objeto **File** que usamos para manipular arquivos texto.\n",
    "\n",
    "Vejamos como \"lêr\" arquivos **zip** e extrair seus conteúdos.\n"
   ]
  },
  {
   "cell_type": "markdown",
   "metadata": {},
   "source": [
    "### Extraindo conteúdo de arquivos zip\n",
    "\n",
    "Para extrair os arquivos contidos num arquivo **zip** na sua forma original descomprimida devemos primeiro criar um objeto **zipfile.ZipFile(file, mode='r')** onde **file** é o nome do arquivo **zip** (por exemplo, 'Abril1991.zip').\n",
    "\n",
    "Para este exemplo vamos usar o arquivo 'Abril1991.zip' com dados de votações da Câmara dos Deputados, [que pode ser baixado aqui](https://dl.dropboxusercontent.com/u/50004393/lixo/Abril1991.zip).\n"
   ]
  },
  {
   "cell_type": "code",
   "execution_count": null,
   "metadata": {
    "collapsed": true
   },
   "outputs": [],
   "source": [
    "import zipfile, os\n",
    "\n",
    "zip = zipfile.ZipFile('Abril1991.zip')  # o default é 'r'\n"
   ]
  },
  {
   "cell_type": "code",
   "execution_count": null,
   "metadata": {
    "collapsed": false
   },
   "outputs": [],
   "source": [
    "# vejamos quais arquivos estão comprimidos dentro de Abril1991.zip\n",
    "zip.namelist()"
   ]
  },
  {
   "cell_type": "markdown",
   "metadata": {},
   "source": [
    "Temos 24 arquivos contidos em Abril1991.zip. Podemos extrair qualquer um ou então todos de uma vez, com os métodos **extract(nome_arquivo)** e **extractall(path_diretorio)** respectivamente.\n",
    "\n"
   ]
  },
  {
   "cell_type": "code",
   "execution_count": null,
   "metadata": {
    "collapsed": false
   },
   "outputs": [],
   "source": [
    "# vamos extrait um arquivo texto pelo nome\n",
    "nome = 'Abril1991/HECD01O026O000000.TXT'\n",
    "zip.extract(nome)\n",
    "\n",
    "# agora podemos abrir normalmente o arquivo extraido e ler seu conteudo\n",
    "with open(nome, 'r') as arq:\n",
    "    txt = arq.read()\n",
    "\n",
    "texto = txt.split('\\n')\n",
    "texto"
   ]
  },
  {
   "cell_type": "code",
   "execution_count": null,
   "metadata": {
    "collapsed": false
   },
   "outputs": [],
   "source": [
    "# vamos extrair todos de uma vez e colocar no diretorio 'exemplo'\n",
    "s = os.getcwd()\n",
    "path = s + '\\\\' + 'exemplo'\n",
    "zip.extractall(path)\n",
    "\n",
    "# examinando o novo diretorio\n",
    "os.listdir(path)"
   ]
  },
  {
   "cell_type": "code",
   "execution_count": null,
   "metadata": {
    "collapsed": true
   },
   "outputs": [],
   "source": [
    "# fechar sempre arquivos abertos após seu uso\n",
    "zip.close()"
   ]
  },
  {
   "cell_type": "code",
   "execution_count": null,
   "metadata": {
    "collapsed": false
   },
   "outputs": [],
   "source": [
    "# o que foi extraido?\n",
    "path = path + '\\\\Abril1991'\n",
    "os.listdir(path)"
   ]
  },
  {
   "cell_type": "markdown",
   "metadata": {},
   "source": [
    "Objetos **ZipFile** possuem diversos outros métodos úteis. Para detalhes consulte sua documentação no link dado acima.\n",
    "\n",
    "Vejamos agora a tarefa reversa, criar um arquivo **zip** e guardar nele diversos arquivos texto comprimidos.\n",
    "\n",
    "---\n",
    "\n",
    "### Criando arquivos zip e guardando arquivos neles\n",
    "\n",
    "Vamos criar um arquivo **zip** e salvar nêle alguns dos arquivos que acabamos de extrair no diretório **exemplo\\Abril1991**.\n",
    "\n",
    "Para criar arquivos zip também usamos o objeto **zipfile.ZipFile** mas agora com a opção 'w' (write) explicitada."
   ]
  },
  {
   "cell_type": "code",
   "execution_count": null,
   "metadata": {
    "collapsed": false
   },
   "outputs": [],
   "source": [
    "# criar um objeto ZipFile para escrita num arquivo zip\n",
    "zap = zipfile.ZipFile('arqnovo.zip', 'w')\n",
    "\n",
    "# vamos criar uma lista com nomes de arquivos para comprimir\n",
    "lst = os.listdir(path)\n",
    "\n",
    "# guardaremos só os primeiros 5 arquivos da lista\n",
    "for i in range(6):\n",
    "    caminho = path + '\\\\' + lst[i]\n",
    "    zap.write(caminho)\n",
    "    \n",
    "# e finalmente fechamos o arquivo zip recem criado\n",
    "zap.close()\n",
    "\n",
    "# podemos verificar o conteudo de arqnovo.zip\n",
    "vzip = zipfile.ZipFile('arqnovo.zip')           # não precisa o 'r' porque é o default\n",
    "vzip.namelist()"
   ]
  },
  {
   "cell_type": "code",
   "execution_count": null,
   "metadata": {
    "collapsed": true
   },
   "outputs": [],
   "source": [
    "# sempre fechar arquivos abertos\n",
    "zap.close()\n",
    "vzip.close()"
   ]
  },
  {
   "cell_type": "markdown",
   "metadata": {},
   "source": [
    "## pickle\n",
    "\n",
    "Muitas vezes queremos salvar uma estrutura de dados criada em nosso programa, tal como uma lista ou um diretório, de maneira que possamos lêr a mesma para a memória mais tarde e recuperá-la exatamente como a salvamos.\n",
    "\n",
    "Obviamente estas estruturas em memória estão em formato binário, de modo que seu salvamento é operação relativamente mais complicada. Felizmente a complexidade fica oculta por mais um módulo util do Python, o módulo **pickle** (de *pickles*, no sentido de criar conservas, objetos em conserva...).\n",
    "\n",
    "O módulo **pickle** é muito útil para programação orientada a objetos e tópicos avançados de programação. Para nós aqui basta saber usá-lo para salvar e para recuperar nossas estruturas de dados familiares.\n",
    "\n",
    "Vejamos como usar este módulo muito util, cuja documentação oficial detalhada [pode ser vista aqui](https://docs.python.org/3/library/pickle.html).\n",
    "\n",
    "\n",
    "\n"
   ]
  },
  {
   "cell_type": "code",
   "execution_count": null,
   "metadata": {
    "collapsed": false
   },
   "outputs": [],
   "source": [
    "import pickle, pprint\n",
    "\n",
    "# vamos criar um dicionário com valores de diversos tipos\n",
    "d = {\n",
    "    1: ['a','b','c'],                 # uma lista\n",
    "    2: ('banana', 123, 456),          # uma tupla \n",
    "    3: {111, 222, 333, 444}           # um set\n",
    "}\n",
    "\n",
    "# agora vamos salvar este dicionário num arquivo tipo pickle\n",
    "# repare que abrimos um arquivo data.pickle para escrita binária 'wb'\n",
    "with open('data.pickle', 'wb') as f:\n",
    "    pickle.dump(d, f)                     # o metodo dump() descarrega d em f\n",
    "    "
   ]
  },
  {
   "cell_type": "markdown",
   "metadata": {},
   "source": [
    "Examinando seu diretório corrente ali deve estar um arquivo 'data.pickle'. Este arquivo está em formato binário então não será legivel em leitor de arquivo texto, tal como o Notepad.\n",
    "\n",
    "Para examinar o seu conteúdo vamos abrir o arquivo usando o módulo **pickle** e depois ver na memória qual objeto foi recuperado."
   ]
  },
  {
   "cell_type": "code",
   "execution_count": null,
   "metadata": {
    "collapsed": false
   },
   "outputs": [],
   "source": [
    "# abre o arquivo data.pickle e lê seu conteudo binário\n",
    "with open('data.pickle', 'rb') as f:\n",
    "    data = pickle.load(f)\n",
    "\n",
    "print(type(data))           # qual tipo de coisa veio do arquivo\n",
    "\n",
    "pprint.pprint(data)"
   ]
  },
  {
   "cell_type": "markdown",
   "metadata": {},
   "source": [
    "Isto encerra a lição.    "
   ]
  }
 ],
 "metadata": {
  "kernelspec": {
   "display_name": "Python 3",
   "language": "python",
   "name": "python3"
  },
  "language_info": {
   "codemirror_mode": {
    "name": "ipython",
    "version": 3
   },
   "file_extension": ".py",
   "mimetype": "text/x-python",
   "name": "python",
   "nbconvert_exporter": "python",
   "pygments_lexer": "ipython3",
   "version": "3.5.1"
  }
 },
 "nbformat": 4,
 "nbformat_minor": 0
}
