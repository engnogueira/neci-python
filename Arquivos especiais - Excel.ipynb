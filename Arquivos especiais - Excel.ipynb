{
 "cells": [
  {
   "cell_type": "markdown",
   "metadata": {},
   "source": [
    "# Arquivos especiais - Excel\n",
    "\n",
    "Em lição anterior vimos [como manipular arquivos texto](https://neci-python.blogspot.com.br/p/blog-page_27.html).\n",
    "\n",
    "Para melhor aproveitar esta lição é preciso conhecer [dicionarios](https://neci-python.blogspot.com.br/p/blog-page_99.html).\n",
    "\n",
    "Agora vamos ver como manipular arquivos especiais de diversos tipos, começando com arquivos **.xls** e **.xlsx** com workbooks e planilhas Excel.\n",
    "\n",
    "Como no caso de arquivos texto, a manipulação de arquivos Excel segue a sequência genérica de passos:\n",
    "- abrir o arquivo\n",
    "- acessar o seu conteúdo, no caso acessar a planilha\n",
    "- fechar o arquivo\n",
    "\n",
    "A diferença está nos detalhes de como fazer estes passos. Veremos que lidar com planilhas requer um procedimento mais complicado do que lidar com textos."
   ]
  },
  {
   "cell_type": "markdown",
   "metadata": {},
   "source": [
    "### Planilhas do Excel\n",
    "\n",
    "Quando manipulamos arquivos texto o modêlo conceitual era simples: um string de caracteres e símbolos. Em contraste para manipular planilhas temos que ter em mente um modêlo bem mais complicado. Num modêlo símples uma planilha é uma grade formada por linhas (**rows**) e colunas (**columns**, ou **cols**) em cuja intersecção ficam células (**cells**). \n",
    "\n",
    "\n",
    "![alt text](https://dl.dropboxusercontent.com/u/50004393/book1small.png)\n",
    "\n",
    "Linhas são ordenadas por numeros sequenciais, como na figura acima. Colunas são identificadas por letras (alfabeto inglês) na seguinte ordem:\n",
    "\n",
    "A, B, C, D, ... X, Y, Z, \n",
    "\n",
    "AA, AB, AC, ... AX, AY, AZ, \n",
    "\n",
    "BA, BB, BC, ...\n",
    "\n",
    "...\n",
    "\n",
    "Células contém valores (**value**) que podem ser números, strings e outras coisas. Toda célula possue uma identificação (endereço) que é a sua coluna e sua linha. \n",
    "\n",
    "Por exemplo, na figura acima a célula com endereço **A2** está na coluna **A** interseção com linha **2**, e contém o string 'ABEL MESQUITA JR.'.\n",
    "\n",
    "Já a celula em **C8** contém o string 'MG'.\n",
    "\n",
    "Para lêr o valor em uma célula, ou escrever um valor numa célula, vamos precisar do seu endereço.\n",
    "\n",
    "As planilhas propriamente ditas são chamadas de **worksheets** (ou **sheets** para simplificar) e o arquivo Excel guarda uma espécie de pasta de planilhas, chamado **workbook**. Cada **sheet** do workbook tem um *nome* e para referenciar um dado **sheet** é necessário saber o seu *nome*.\n",
    "\n",
    "---\n",
    "\n",
    "A manipulação de arquivos Excel será feita através de módulos especializados. Já vimos um módulo destes na lição [*listas de deputados e seus partidos*](https://neci-python.blogspot.com.br/p/blog-page_21.html), o módulo **xlrd** que permite leitura de planilhas.\n",
    "\n",
    "Nesta lição vamos usar o módulo **openpyxl** que é usado em nosso livro referência [Al Sweigart, \"Automate the Boring Stuff With Python\"](http://www.amazon.com/Automate-Boring-Stuff-Python-Programming/dp/1593275994/ref=sr_1_1?s=books&ie=UTF8&qid=1462158743&sr=1-1&keywords=automate+the+boring+stuff+with+python). Este poderoso módulo permite abrir, ler, criar e editar planilhas Excel.\n",
    "\n",
    "---\n",
    "\n",
    "Vimos que a função **open()** retorna um objeto **File**, uma espécie de \"cano\" entre nosso programa e o arquivo. No caso de arquivos texto o objeto **File** tinha métodos para a leitura fácil do texto em forma de um string ou uma lista de strings representando frases.\n",
    "\n",
    "No caso de arquivos Excel não é tão simples. O conteúdo do arquivo representa um **workbook** contendo um determinado número de **worksheets** (planilhas). Então ao abrir um arquivo destes vamos acessar toda uma coleção de objetos que compõem o **workbook**. Estes objetos estão organizados numa hierarquia em que objetos contem objetos subalternos e mostrada abaixo de modo simplificado:\n",
    "\n",
    "![alt text](https://dl.dropboxusercontent.com/u/50004393/excel.png)\n",
    "\n",
    "É bom frisar que estes são apens uns poucos das *muitas dezenas* de objetos que compõem um workbook Excel. Felizmente na prática não precisaremos de tantos para manipulação simples de planilhas. Em todo o caso sempre pode-se consultar a documentação do módulo usado (como o openpyxl).\n",
    "\n",
    "---\n",
    "\n",
    "Então o que fazer com todos estes objetos? Bem, vejamos o caso mais simples de leitura de uma planilha num workbook e exame do conteúdo de suas células.\n",
    "\n",
    "\n"
   ]
  },
  {
   "cell_type": "markdown",
   "metadata": {},
   "source": [
    "### Lendo conteúdo de células de uma planilha\n",
    "\n",
    "Seguindo as setas na figura acima podemos esboçar a sequencia de passos para chegar até o conteúdo de células de uma planilha:\n",
    "\n",
    "- abrir o arquivo xlsx na forma permitida pelo módulo openpyxl\n",
    "- obter o objeto **workbook**\n",
    "- usando o nome da planilha desejada, obter o objeto **worksheet** correspondente\n",
    "- usando endereços (p.ex. **A5**) chegar até células de interesse\n",
    "- obter o conteúdo da célula de interesse lendo seu valor (**value**)\n",
    "\n",
    "Vejamos os detalhes de como fazer tudo isto. Como objeto de estudo vamos usar a planilha 'Sheet 1' do workbook **dep1.xlsx** [que pode ser baixado daqui](https://dl.dropboxusercontent.com/u/50004393/lixo/dep1.xlsx) e que está mostrada numa figura acima.\n",
    "\n",
    "\n"
   ]
  },
  {
   "cell_type": "code",
   "execution_count": null,
   "metadata": {
    "collapsed": true
   },
   "outputs": [],
   "source": [
    "import openpyxl, os\n",
    "\n",
    "# vamos abrir o arquivo xlsx obtendo um objeto workbook correspondente\n",
    "wb = openpyxl.load_workbook('dep1.xlsx')"
   ]
  },
  {
   "cell_type": "code",
   "execution_count": null,
   "metadata": {
    "collapsed": false
   },
   "outputs": [],
   "source": [
    "# podemos listar todos nomes de planilhas neste workbook\n",
    "folhas = wb.get_sheet_names()\n",
    "folhas"
   ]
  },
  {
   "cell_type": "code",
   "execution_count": null,
   "metadata": {
    "collapsed": false
   },
   "outputs": [],
   "source": [
    "# a planilha de interesse chama-se Sheet 1, vamos obter seu objeto\n",
    "sheet = wb.get_sheet_by_name('Sheet1')\n",
    "\n",
    "# podemos contar o numero de linhas e de colunas desta planilha\n",
    "nr = sheet.get_highest_row()\n",
    "nc = sheet.get_highest_column()\n",
    "print('rows = ', nr)\n",
    "print('columns = ',nc)"
   ]
  },
  {
   "cell_type": "markdown",
   "metadata": {},
   "source": [
    "Examinando a figura acima que mostra a planilha em questão vemos que de fato existem 10 linhas (mas cuidado, a primeira é uma linha de títulos de colunas!) e vê-se que há mais de cinco colunas (são 18 mas não caberiam na figura).\n",
    "\n",
    "Nosso módulo **openpyxl** permite acessar uma célula diretamente do objeto **worksheet** se indexarmos o mesmo com o endereço no formato tipo **B7** (letra da coluna seguido do número da linha). Por exemplo a célula na linha 3 e coluna B pode ser acessada pela expressão **sheet[B3]** e seu conteúdo (valor) por:\n",
    "\n",
    "```python\n",
    "sheet[B3].value\n",
    "```\n",
    "\n",
    "Vamos então listar o conteúdo das células de nossa planilha exemplo, imprimindo as 4 primeiras colunas (A,B,C,D) linha por linha. Para tanto vamos iterar por todas linhas (menos a primeira que só contem títulos) criando o endereço de cada célula como mostrado abaixo (lembre-se que a função **str()** converte um número em um string):"
   ]
  },
  {
   "cell_type": "code",
   "execution_count": null,
   "metadata": {
    "collapsed": false
   },
   "outputs": [],
   "source": [
    "for rw in range(2,nr + 1):\n",
    "    nome = sheet['A' + str(rw)].value\n",
    "    partido = sheet['B' + str(rw)].value\n",
    "    uf = sheet['C' + str(rw)].value\n",
    "    status = sheet['D' + str(rw)].value\n",
    "    print(nome,partido,uf,status)\n",
    "    "
   ]
  },
  {
   "cell_type": "markdown",
   "metadata": {},
   "source": [
    "Caso fosse interessante poderiamos colocar estes dados num dicionário, onde a chave de cada item é o nome (tomado na coluna A) e o valor é uma tupla com os conteúdos das colunas B,C,D, (partido,uf,status):"
   ]
  },
  {
   "cell_type": "code",
   "execution_count": null,
   "metadata": {
    "collapsed": true
   },
   "outputs": [],
   "source": [
    "dic = {}  # cria dicionario vazio\n",
    "for rw in range(2,nr + 1):\n",
    "    nome = sheet['A' + str(rw)].value\n",
    "    partido = sheet['B' + str(rw)].value\n",
    "    uf = sheet['C' + str(rw)].value\n",
    "    status = sheet['D' + str(rw)].value\n",
    "    valor = (partido,uf,status)\n",
    "    dic[nome] = valor"
   ]
  },
  {
   "cell_type": "code",
   "execution_count": null,
   "metadata": {
    "collapsed": false
   },
   "outputs": [],
   "source": [
    "# podemos imprimir bonitinho o dicionario usando o modulo pprint\n",
    "import pprint\n",
    "pprint.pprint(dic)"
   ]
  },
  {
   "cell_type": "markdown",
   "metadata": {},
   "source": [
    "### Salvando dados numa planilha Excel\n",
    "\n",
    "Ocasionalmente temos a tarefa reversa, isto é, temos uma estrutura de dados como por exemplo um dicionário ou o que quer que seja e gostariamos de guardar estes dados numa planilha Excel.\n",
    "\n",
    "Vejamos como fazê-lo usando nosso módulo **openpyxl**.\n",
    "\n",
    "Para exemplificar usaremos nosso dicionário *dic* que está criado e salvaremos o mesmo numa nova planilha chamada 'camara.xlsx'.\n",
    "\n",
    "A sequência de passos é a seguinte:\n",
    "\n",
    "- criar um novo workbook (já vem com um sheet, vazio, chamado 'Sheet')\n",
    "- renomear o worksheet default com o nome desejado\n",
    "- escrever dados nas células da planilha\n",
    "- salvar o workbook num arquivo xlsx\n",
    "\n"
   ]
  },
  {
   "cell_type": "code",
   "execution_count": null,
   "metadata": {
    "collapsed": false
   },
   "outputs": [],
   "source": [
    "# cria um novo workbook contendo um worksheet vazio\n",
    "wb = openpyxl.Workbook()\n",
    "\n",
    "# vejamos os nomes de planilhas criadas\n",
    "wb.get_sheet_names()\n"
   ]
  },
  {
   "cell_type": "code",
   "execution_count": null,
   "metadata": {
    "collapsed": false
   },
   "outputs": [],
   "source": [
    "# mudemos o nome para Lista de deputados\n",
    "sheet = wb.get_sheet_by_name('Sheet')\n",
    "print(sheet.title)\n",
    "sheet.title = 'Lista de deputados'\n",
    "sheet.title"
   ]
  },
  {
   "cell_type": "markdown",
   "metadata": {},
   "source": [
    "Vamos percorrer as chaves do dicionário *dic* e para cada chave (que é o *nome* de um deputado) pegamos seu valor correspondente. Do valor obtemos o *partido*, a *uf* e o *status*. \n",
    "\n",
    "Colocamos *nome, partido, uf, status* nesta ordem nas células de uma linha e passamos para a chave seguinte."
   ]
  },
  {
   "cell_type": "code",
   "execution_count": null,
   "metadata": {
    "collapsed": true
   },
   "outputs": [],
   "source": [
    "# percorre todos items do dicionario\n",
    "rw = 1\n",
    "for key,val in dic.items():\n",
    "    nome = key\n",
    "    partido = val[0]\n",
    "    uf = val[1]\n",
    "    status = val[2]\n",
    "    \n",
    "    # preenche as células na linha de indice rw\n",
    "    lin = str(rw)\n",
    "    sheet['A' + lin] = nome\n",
    "    sheet['B' + lin] = partido\n",
    "    sheet['C' + lin] = uf\n",
    "    sheet['D' + lin] = status\n",
    "    \n",
    "    # proxima linha\n",
    "    rw = rw + 1\n"
   ]
  },
  {
   "cell_type": "markdown",
   "metadata": {},
   "source": [
    "OK preenchemos a planilha com os dados de nosso dicionario. Agora precisamos salvar o arquivo Excel correspondente. Isto é feito pelo método **save(nome)** de objetos **workbook**"
   ]
  },
  {
   "cell_type": "code",
   "execution_count": null,
   "metadata": {
    "collapsed": false
   },
   "outputs": [],
   "source": [
    "wb.save('camara.xlsx')"
   ]
  },
  {
   "cell_type": "markdown",
   "metadata": {},
   "source": [
    "Se tudo foi bem deve ter aparecido um arquivo *camara.xlsx* no diretório corrente. Abrindo este arquivo com o Excel deve aparecer algo assim:\n",
    "\n",
    "\n",
    "![alt text](https://dl.dropboxusercontent.com/u/50004393/lixo/camara.PNG)\n",
    "\n"
   ]
  },
  {
   "cell_type": "markdown",
   "metadata": {},
   "source": [
    "Existe uma série de outras coisas que podemos manipular numa planilha usando nosso módulo **openpyxl**. Por exemplo:\n",
    "- modificar fontes de texto, largura e altura de colunas\n",
    "- mudar cores de fundo de células\n",
    "- inserir **formulas** em células, no padrão do Excel\n",
    "- criar e inserir gráficos na planilha\n",
    "- etc\n",
    "\n",
    "Entretanto para nossos fins neste curso basta o já visto. Se você tem interesse consulte o livro referência para detalhes.\n"
   ]
  }
 ],
 "metadata": {
  "kernelspec": {
   "display_name": "Python 3",
   "language": "python",
   "name": "python3"
  },
  "language_info": {
   "codemirror_mode": {
    "name": "ipython",
    "version": 3
   },
   "file_extension": ".py",
   "mimetype": "text/x-python",
   "name": "python",
   "nbconvert_exporter": "python",
   "pygments_lexer": "ipython3",
   "version": "3.5.1"
  }
 },
 "nbformat": 4,
 "nbformat_minor": 0
}
