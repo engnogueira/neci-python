{
 "cells": [
  {
   "cell_type": "markdown",
   "metadata": {},
   "source": [
    "# Usando dicts para organizar listas de deputados e seus partidos\n",
    "\n"
   ]
  },
  {
   "cell_type": "markdown",
   "metadata": {},
   "source": [
    "Para este laboratório vamos precisar alguns conceitos novos:\n",
    "- *Download de arquivos da internet*\n",
    "- *Ler arquivos **xlsx** (Excel)*\n",
    "\n",
    "\n",
    "Estes tópicos serão desenvolvidos em laboratórios futuros com maior profundidade. Aqui vamos só ver o básico indispensável para nosso laboratório de hoje.\n",
    "\n",
    "Como sempre procure a documentação detalhada dos módulos usados na internet (Google, etc)\n"
   ]
  },
  {
   "cell_type": "markdown",
   "metadata": {},
   "source": [
    "### Download de arquivos\n",
    "\n",
    "Páginas de sites na web são transferidas e salvas em arquivos texto, mas num formato conhecido como *HTML*. Ao abrir uma página no browser este envia ao site um pedido de transferência de um arquivo **html** correspondente. Este arquivo contém toda informação necessária para o browser exibir a imagem da página na forma desejada.\n",
    "\n",
    "Em nosso caso vamos usar um script em Python para efetuar o download de arquivos em vez de usar um browser. O download de arquivos **html** é semelhante à leitura de arquivos texto que já vimos. A complexidade da interação com a rêde e sites remotos fica escondida num módulo chamado ***requests***. \n",
    "\n",
    "Para baixar um dado arquivo html vamos precisamos de seu \"caminho\", como no caso de arquivos texto. Aqui o caminho é uma **url**, um mapa único de como navegar a rêde para chegar ao arquivo desejado.\n",
    "\n",
    "Vamos exemplificar baixando um arquivo do site da Câmara de Deputados do Brasil. A url deste site é http://www2.camara.leg.br/ e quando digitamos esta url no Firefox ou Chrome aparece uma página de boas vindas da CD.\n",
    "\n",
    "Para nós nada vai aparecer, pois vamos somente baixar o arquivo html e depois salvá-lo no computador. Note que os caminhos de arquivos aqui mostrados são especificos para o meu computador. No seu os caminhos serão diferentes.\n",
    "\n",
    "Primeiro vamos importar o módulo **requests** e alguns módulos úteis adicionais."
   ]
  },
  {
   "cell_type": "code",
   "execution_count": null,
   "metadata": {
    "collapsed": true
   },
   "outputs": [],
   "source": [
    "import os, requests\n",
    "\n",
    "os.chdir(r'C:\\Users\\ps\\Desktop\\Blog')\n",
    "\n",
    "# define a url da CD\n",
    "url = 'http://www2.camara.leg.br/'"
   ]
  },
  {
   "cell_type": "markdown",
   "metadata": {},
   "source": [
    "Baixar o arquivo fica \"trivial\" porque o módulo **requests** faz todo o trabalho para nós. Entretanto os mais diversos problemas podem ocorrer (site fora do ar, arquivo foi movido dentro do site, não temos permissão de acesso, acesso à internet caiu, etc) e o download pode falhar. O módulo **requests** joga uma **Exception** (exceção) para avisar o usuário que tipo de problema houve. Cabe a nós capturarmos alguma **Exception** eventual e fazer algo a respeito. Fazemos isto do modo já visto, usando os comandos **try** e **except**.\n",
    "Vamos lá.\n"
   ]
  },
  {
   "cell_type": "markdown",
   "metadata": {},
   "source": [
    "O comando **get(uma_url)** do módulo **request** é quem faz quase todo trabalho de download. Uma vez executado é necessário testar o status do objeto criado por **request.get(uma_url)** para verificar se ocorreram problemas durante a conexão com o site remoto. Tipicamente se usa o comando **raise_for_status()** do objeto criado, o qual joga qualquer exceção associada ao objeto."
   ]
  },
  {
   "cell_type": "code",
   "execution_count": null,
   "metadata": {
    "collapsed": false
   },
   "outputs": [],
   "source": [
    "res = requests.get(url)\n",
    "try:\n",
    "    res.raise_for_status()\n",
    "except Exception as ex:\n",
    "    msg = 'There was a web problem: %s' % (ex)\n",
    "    print(msg)\n",
    "\n",
    "type(res)             # verifica o tipo de objeto criado pelo get()"
   ]
  },
  {
   "cell_type": "markdown",
   "metadata": {},
   "source": [
    "O objeto **res** que obtivemos ainda não é o arquivo desejado mas somente uma espécie de acesso ao arquivo. Para obter o corpo do arquivo precisamos usar **res** transferindo os dados que ele disponibiliza. Estes dados vem em blocos, em formato binário. Salvamos os blocos escrevendo-os num arquivo binário. "
   ]
  },
  {
   "cell_type": "code",
   "execution_count": null,
   "metadata": {
    "collapsed": false,
    "scrolled": true
   },
   "outputs": [],
   "source": [
    "src = os.getcwd()\n",
    "path = os.path.join(src,'camara.htm')\n",
    "htm = open(path, 'wb')\n",
    "for chunk in res.iter_content(100000):\n",
    "    htm.write(chunk)\n",
    "htm.close()\n",
    "print(path)"
   ]
  },
  {
   "cell_type": "markdown",
   "metadata": {},
   "source": [
    "Verifique que um arquivo \"camara.htm\" aparece no caminho **path** em seu computador. Depois clique no arquivo, o que deve abrir seu browser mostrando o conteúdo do arquivo (a primeira página do site da Câmara dos Deputados). Para verificar que o arquivo aberto realmente é local no seu computador, observe que o caminho mostrado no browser deve ser algo como **file:///C:/Users/ps/Desktop/Blog/camara.htm** Note que começa com **file://...** em vez de **http://...**"
   ]
  },
  {
   "cell_type": "markdown",
   "metadata": {},
   "source": [
    "### Lendo arquivos xlsx do Excel\n",
    "O módulo que permite ler planilhas Excel chama-se **xlrd**. Vamos importá-lo."
   ]
  },
  {
   "cell_type": "code",
   "execution_count": null,
   "metadata": {
    "collapsed": true
   },
   "outputs": [],
   "source": [
    "import xlrd"
   ]
  },
  {
   "cell_type": "markdown",
   "metadata": {},
   "source": [
    "Neste módulo o comando **xlrd.open_workbook(uma_path)** devolve um objeto que representa o workbook que está no caminho **uma_path**. Ou seja, a planilha. "
   ]
  },
  {
   "cell_type": "code",
   "execution_count": null,
   "metadata": {
    "collapsed": true
   },
   "outputs": [],
   "source": [
    "path = r'C:\\Users\\ps\\Desktop\\Blog\\aula6\\Book1.xlsx'\n",
    "wb = xlrd.open_workbook(path)"
   ]
  },
  {
   "cell_type": "markdown",
   "metadata": {},
   "source": [
    "O objeto **wb** recem criado representa a planilha *book1.xlsx* que usaremos como exemplo neste exercicio. "
   ]
  },
  {
   "cell_type": "markdown",
   "metadata": {},
   "source": [
    "O objeto **wb** (workbook) por sua vez oferece uma série de comandos. Em particular podemos obter os nomes de **sheets** (folhas) da planilha e com estes nomes podemos criar objetos que representem sheets especificos."
   ]
  },
  {
   "cell_type": "code",
   "execution_count": null,
   "metadata": {
    "collapsed": false
   },
   "outputs": [],
   "source": [
    "sheets = wb.sheet_names()\n",
    "sname = sheets[0]\n",
    "sname"
   ]
  },
  {
   "cell_type": "code",
   "execution_count": null,
   "metadata": {
    "collapsed": false
   },
   "outputs": [],
   "source": [
    "sheet = wb.sheet_by_name(sheets[0])\n",
    "type(sheet)"
   ]
  },
  {
   "cell_type": "markdown",
   "metadata": {},
   "source": [
    "Com o objeto *sheet* podemos invocar um monte de comandos que permitem ler o conteudo de celulas e outras coisas uteis."
   ]
  },
  {
   "cell_type": "code",
   "execution_count": null,
   "metadata": {
    "collapsed": false
   },
   "outputs": [],
   "source": [
    "sheet.nrows        # o numero de linhas desta planilha"
   ]
  },
  {
   "cell_type": "code",
   "execution_count": null,
   "metadata": {
    "collapsed": false
   },
   "outputs": [],
   "source": [
    "sheet.ncols        # e o numero de colunas"
   ]
  },
  {
   "cell_type": "markdown",
   "metadata": {},
   "source": [
    "Células da planilha podem ser acessadas com o comando **sheet.cell(rw,cl)** onde **rw** e **cl** são o número (começando de 0) de uma linha e de uma coluna respectivamente. Já o valor contido numa célula é lido com o comando **sheet.cell(rw,cl).value**"
   ]
  },
  {
   "cell_type": "code",
   "execution_count": null,
   "metadata": {
    "collapsed": false
   },
   "outputs": [],
   "source": [
    "titulo = sheet.cell(0,0).value\n",
    "titulo"
   ]
  },
  {
   "cell_type": "code",
   "execution_count": null,
   "metadata": {
    "collapsed": false
   },
   "outputs": [],
   "source": [
    "nome = sheet.cell(1,0).value\n",
    "nome"
   ]
  },
  {
   "cell_type": "code",
   "execution_count": null,
   "metadata": {
    "collapsed": false
   },
   "outputs": [],
   "source": [
    "partido = sheet.cell(1,1).value\n",
    "partido"
   ]
  },
  {
   "cell_type": "markdown",
   "metadata": {},
   "source": [
    "Vejamos como iterar sobre todas as linhas desta planilha, imprimindo o que encontramos. "
   ]
  },
  {
   "cell_type": "code",
   "execution_count": null,
   "metadata": {
    "collapsed": false
   },
   "outputs": [],
   "source": [
    "for rw in range(sheet.nrows):\n",
    "    \n",
    "    # pega o nome politico\n",
    "    cl = 0\n",
    "    nome = sheet.cell(rw,cl).value\n",
    "    if nome == None:\n",
    "        break\n",
    "    \n",
    "    # pega o partido\n",
    "    cl = 1\n",
    "    partido = sheet.cell(rw,cl).value\n",
    "    \n",
    "    # pega o status\n",
    "    cl = 3\n",
    "    status = sheet.cell(rw,cl).value\n",
    "    \n",
    "    #imprime a linha\n",
    "    print(nome, partido,status)"
   ]
  },
  {
   "cell_type": "markdown",
   "metadata": {},
   "source": [
    "Bem com isto vimos os pre-requisitos para nosso laboratório de hoje."
   ]
  },
  {
   "cell_type": "markdown",
   "metadata": {},
   "source": [
    "### Aula 6 - laboratório\n",
    "\n",
    "Nosso objetivo neste exercício será baixar duas planilhas de um site da internet, comparar seus conteúdos e imprimir as diferenças. Este exercício ilustra os conceitos usados no script *dep.py* que usamos no NECI para monitorar continuamente (quase) as mudanças de partidos e de status dos deputados da CD."
   ]
  },
  {
   "cell_type": "markdown",
   "metadata": {},
   "source": [
    "As urls das planilhas são respectivamente:\n",
    "\n",
    "- https://dl.dropboxusercontent.com/u/50004393/Book1.xlsx\n",
    "- https://dl.dropboxusercontent.com/u/50004393/Book2.xlsx\n",
    "\n",
    "Você já sabe como baixar os respectivos arquivos e como abrir depois os workbooks Excel para ler os seus conteúdos. O que falta agora é bolar o algoritmo para comparar estes conteúdos, identificar o que for diferente e imprimir o resultado.\n",
    "\n",
    "As duas planilhas contem retalho de planilhas originais baixadas da câmara dos deputados. \n",
    "\n",
    "Book1.xlsx:\n",
    "\n",
    "![title](https://dl.dropboxusercontent.com/u/50004393/book1small.png)\n",
    "\n"
   ]
  },
  {
   "cell_type": "markdown",
   "metadata": {},
   "source": [
    "Primeiro vamos baixar os dois *books* em nosso diretório de trabalho. Para baixar tudo vamos ter que escrever duas vezes trechos de códigos quase identicos. Além de ser uma tarefa entediante existe a chance de cometer erros.\n",
    "\n",
    "Por esta razão vamos colocar numa função o código de download e salvamento em arquivo. Depois é só chamar duas vezes."
   ]
  },
  {
   "cell_type": "markdown",
   "metadata": {},
   "source": [
    "A função **baixa(url, nomearq)** recebe a url completa donde baixar o arquivo e um nome desejado para o arquivo salvo no diretório corrente. "
   ]
  },
  {
   "cell_type": "code",
   "execution_count": null,
   "metadata": {
    "collapsed": true
   },
   "outputs": [],
   "source": [
    "'''url é a url do arquivo remoto a ser baixado, arq é o nome desejado\n",
    "para o arquivo local'''\n",
    "def baixa(url, arq):\n",
    "    # cria conexão com o arquivo remoro\n",
    "    res = requests.get(url)\n",
    "    try:\n",
    "        res.raise_for_status()\n",
    "    except Exception as ex:\n",
    "        msg = 'There was a web problem: %s' % (ex)\n",
    "        print(msg)\n",
    "        return\n",
    "    # agora copia o conteudo do arquivo remoto\n",
    "    src = os.getcwd()\n",
    "    path = os.path.join(src, arq)\n",
    "    xl = open(path, 'wb')\n",
    "    for chunk in res.iter_content(100000):\n",
    "        xl.write(chunk)\n",
    "    xl.close()\n",
    "    print('Baixou ' + arq)\n"
   ]
  },
  {
   "cell_type": "markdown",
   "metadata": {},
   "source": [
    "Agora é só definir as urls, os nomes dos arquivos locais e chamar nossa função **baixa()**"
   ]
  },
  {
   "cell_type": "code",
   "execution_count": null,
   "metadata": {
    "collapsed": false
   },
   "outputs": [],
   "source": [
    "url1 = r'https://dl.dropboxusercontent.com/u/50004393/Book1.xlsx'\n",
    "url2 = r'https://dl.dropboxusercontent.com/u/50004393/Book2.xlsx'\n",
    "\n",
    "arq1 = 'dep1.xlsx'\n",
    "arq2 = 'dep2.xlsx'\n",
    "\n",
    "# baixa a primeira planilha\n",
    "baixa(url1, arq1)\n",
    "\n",
    "# baixa a segunda planilha\n",
    "baixa(url2,arq2)\n"
   ]
  },
  {
   "cell_type": "markdown",
   "metadata": {},
   "source": [
    "Se tudo foi bem e os arquivos Excel estão salvos no diretório (observe que em seu computador os caminhos podem ser diferentes!), então agora falta fazer a comparação dos conteúdos.\n",
    "\n",
    "Isto pode ser feito de diversas formas e vamos ilustrar aqui a maneira que usamos no script do NECI.\n",
    "\n",
    "A idéia é usar dicionários **dict** para armazenar o conteúdo de uma planilha destas. A chave de cada item do dicionário é o nome do deputado, que supomos ser imutável. O valor de cada item é uma tupla contendo seu partido e seu status naquela planilha.\n",
    "\n",
    "Vejamos como fica a primeira planilha."
   ]
  },
  {
   "cell_type": "code",
   "execution_count": null,
   "metadata": {
    "collapsed": false
   },
   "outputs": [],
   "source": [
    "src = os.getcwd()\n",
    "path1 = os.path.join(src, arq1)\n",
    "wb = xlrd.open_workbook(path1) \n",
    "sheets = wb.sheet_names()\n",
    "sheet = wb.sheet_by_name(sheets[0])\n",
    "sheet.nrows        # se tudo foi bem deve imprimir o numero de linhas"
   ]
  },
  {
   "cell_type": "markdown",
   "metadata": {},
   "source": [
    "Agora implementamos nossa ideia. Primeiro criamos um dicionario vazio, depois percorremos as linhas da planilha *sheet* criando cada item do dicionário e inserindo-o."
   ]
  },
  {
   "cell_type": "code",
   "execution_count": null,
   "metadata": {
    "collapsed": true
   },
   "outputs": [],
   "source": [
    "# cria dicionario com colunas nome, partido e status\n",
    "dic1 = {}\n",
    "for rw in range(1, sheet.nrows):\n",
    "    \n",
    "    # pega o nome politico\n",
    "    cl = 0\n",
    "    nome = sheet.cell(rw,cl).value\n",
    "    if nome == None:\n",
    "        break\n",
    "    \n",
    "    # pega o partido\n",
    "    cl = 1\n",
    "    partido = sheet.cell(rw,cl).value\n",
    "    \n",
    "    # pega o status\n",
    "    cl = 3\n",
    "    status = sheet.cell(rw,cl).value\n",
    "\n",
    "    item = [partido, status]\n",
    "    dic1[nome] = item"
   ]
  },
  {
   "cell_type": "code",
   "execution_count": null,
   "metadata": {
    "collapsed": false
   },
   "outputs": [],
   "source": [
    "import pprint\n",
    "pprint.pprint(dic1)"
   ]
  },
  {
   "cell_type": "markdown",
   "metadata": {},
   "source": [
    "Muito bem até aqui. Agora vamos repetir tudo isto para a segunda planilha, obtendo outro dicionário *dic2*"
   ]
  },
  {
   "cell_type": "code",
   "execution_count": null,
   "metadata": {
    "collapsed": false
   },
   "outputs": [],
   "source": [
    "path2 = os.path.join(src, arq2)\n",
    "wb = xlrd.open_workbook(path2) \n",
    "sheets = wb.sheet_names()\n",
    "sheet = wb.sheet_by_name(sheets[0])\n",
    "\n",
    "# cria dicionario com colunas nome, partido e status\n",
    "dic2 = {}\n",
    "for rw in range(1, sheet.nrows):\n",
    "    \n",
    "    # pega o nome politico\n",
    "    cl = 0\n",
    "    nome = sheet.cell(rw,cl).value\n",
    "    if nome == None:\n",
    "        break\n",
    "    \n",
    "    # pega o partido\n",
    "    cl = 1\n",
    "    partido = sheet.cell(rw,cl).value\n",
    "    \n",
    "    # pega o status\n",
    "    cl = 3\n",
    "    status = sheet.cell(rw,cl).value\n",
    "\n",
    "    item = [partido, status]\n",
    "    dic2[nome] = item\n",
    "    \n",
    "pprint.pprint(dic2)"
   ]
  },
  {
   "cell_type": "markdown",
   "metadata": {},
   "source": [
    "É evidente que existem diferenças. Por exemplo, apareceu um tal Adail Carneiro, que não aparecia na planilha anterior. Alem disto houve diversas trocas de partidos, por exemplo os primeiros dois eram de PMB e foram para o DEM e para o PP respectivamente.\n",
    "\n",
    "Vejamos como detetar as diferenças usando estes dicionários.\n",
    "\n",
    "Vamos detetar dois tipos de diferenças. \n",
    "\n",
    "- nomes que aparecem num dicionário e não aparecem no outro\n",
    "- partidos diferentes nos dicionários para o mesmo nome\n",
    "\n",
    "Estes testes ficam melhor se implementados em funções que podem ser chamadas no corpo principal do programa."
   ]
  },
  {
   "cell_type": "markdown",
   "metadata": {},
   "source": [
    "A primeira função **compara(a,b)** compara dois dicionários de nosso tipo e devolve duas listas (que podem estar vazias). A primeira lista são nomes que estão em **a** mas não estão em **b**, e a segunda lista é o reverso."
   ]
  },
  {
   "cell_type": "code",
   "execution_count": null,
   "metadata": {
    "collapsed": true
   },
   "outputs": [],
   "source": [
    "def compara(a, b):\n",
    "    '''a and b are dictionaries. Returns lists with keys in a that\n",
    "     are not in b and keys in b that are not in a'''\n",
    "    dif1 = []\n",
    "    for n in a.keys():\n",
    "        if n not in b.keys():\n",
    "            dif1.append(n)\n",
    "\n",
    "    dif2 = []\n",
    "    for n in b.keys():\n",
    "        if n not in a.keys():\n",
    "            dif2.append(n)\n",
    "    return (dif1, dif2)\n"
   ]
  },
  {
   "cell_type": "markdown",
   "metadata": {},
   "source": [
    "A segunda função **difpartidos(a,b)** returna um *dicionário* onde a chave é o nome de um deputado e o valor é uma lista com o partido dele em **a** seguido do partido dele em **b**."
   ]
  },
  {
   "cell_type": "code",
   "execution_count": null,
   "metadata": {
    "collapsed": true
   },
   "outputs": [],
   "source": [
    "def difpartidos(a,b):\n",
    "    '''a and b are dictionaries. Returns dictionary where keys are\n",
    "    names that are in both a and b and value is a list with their\n",
    "    partido in a and in b'''\n",
    "    dif = {}\n",
    "    for n in a.keys():\n",
    "        if n in b.keys():\n",
    "            t1 = a[n]\n",
    "            t2 = b[n]\n",
    "            if t1[0] != t2[0]:\n",
    "                t = [t1[0], t2[0]]\n",
    "                dif[n] = t\n",
    "\n",
    "    return dif"
   ]
  },
  {
   "cell_type": "markdown",
   "metadata": {},
   "source": [
    "Tendo estas funções fica fácil armar o corpo do algoritmo. Primeiro testamos logo se os dicionários tem qualquer diferença, o que pode ser feito com um mero teste de igualdade de objetos *dic1 == dic2?*\n",
    "\n",
    "Caso os dicionários estejam diferentes usamos a função **compara()** para ver se apareceram ou sumiram nomes nas planilhas.\n",
    "\n",
    "Continuando usamos a função **difpartidos()** para verificar eventuais mudanças de partidos."
   ]
  },
  {
   "cell_type": "code",
   "execution_count": null,
   "metadata": {
    "collapsed": false
   },
   "outputs": [],
   "source": [
    "# compara os dois dicionários diretamente\n",
    "if dic1 == dic2:\n",
    "        print('Nenhuma mudança detetada')\n",
    "else:\n",
    "    # deteta nomes novos e faltantes\n",
    "    dif1, dif2 = compara(dic1, dic2)\n",
    "    if dif1:\n",
    "        print('Nomes que faltam em dic2')\n",
    "        pprint.pprint(dif1)\n",
    "        print()\n",
    "    if dif2:\n",
    "        print('Nomes que faltam em dic1')\n",
    "        pprint.pprint(dif2) \n",
    "        print()\n",
    "        \n",
    "    # deteta mudanças de partidos\n",
    "    difp = difpartidos(dic1, dic2)\n",
    "    if difp:\n",
    "        print('Mudanças de partidos')\n",
    "        pprint.pprint(difp)"
   ]
  },
  {
   "cell_type": "markdown",
   "metadata": {},
   "source": [
    "E isto encerra nosso laboratório de hoje, que visou ilustrar um dos inúmeros usos de dicionários num exemplo (proximo a) real.\n",
    "\n",
    "---"
   ]
  },
  {
   "cell_type": "markdown",
   "metadata": {},
   "source": [
    "Reunindo os pedaços de código num procedimento temos:\n",
    "\n",
    "```python\n",
    "import os, requests, xlrd\n",
    "\n",
    "def baixa(url, arq):\n",
    "    # cria conexão com o arquivo remoro\n",
    "    res = requests.get(url)\n",
    "    try:\n",
    "        res.raise_for_status()\n",
    "    except Exception as ex:\n",
    "        msg = 'There was a web problem: %s' % (ex)\n",
    "        print(msg)\n",
    "        return\n",
    "    # agora copia o conteudo do arquivo remoto\n",
    "    src = os.getcwd()\n",
    "    path = os.path.join(src, arq)\n",
    "    xl = open(path, 'wb')\n",
    "    for chunk in res.iter_content(100000):\n",
    "        xl.write(chunk)\n",
    "    xl.close()\n",
    "    print('Baixou ' + arq)\n",
    "\n",
    "def criaDic(sheet):\n",
    "    # cria dicionario com colunas nome, partido e status\n",
    "    dic = {}\n",
    "    for rw in range(1, sheet.nrows):\n",
    "\n",
    "        # pega o nome politico\n",
    "        cl = 0\n",
    "        nome = sheet.cell(rw,cl).value\n",
    "        if nome == None:\n",
    "            break\n",
    "\n",
    "        # pega o partido\n",
    "        cl = 1\n",
    "        partido = sheet.cell(rw,cl).value\n",
    "\n",
    "        # pega o status\n",
    "        cl = 3\n",
    "        status = sheet.cell(rw,cl).value\n",
    "\n",
    "        item = [partido, status]\n",
    "        dic[nome] = item\n",
    "    return dic\n",
    "\n",
    "def compara(a, b):\n",
    "    '''a and b are dictionaries. Returns lists with keys in a that\n",
    "     are not in b and keys in b that are not in a'''\n",
    "    dif1 = []\n",
    "    for n in a.keys():\n",
    "        if n not in b.keys():\n",
    "            dif1.append(n)\n",
    "\n",
    "    dif2 = []\n",
    "    for n in b.keys():\n",
    "        if n not in a.keys():\n",
    "            dif2.append(n)\n",
    "    return (dif1, dif2)\n",
    "    \n",
    "def difpartidos(a,b):\n",
    "    '''a and b are dictionaries. Returns dictionary where keys are\n",
    "    names that are in both a and b and value is a list with their\n",
    "    partido in a and in b'''\n",
    "    dif = {}\n",
    "    for n in a.keys():\n",
    "        if n in b.keys():\n",
    "            t1 = a[n]\n",
    "            t2 = b[n]\n",
    "            if t1[0] != t2[0]:\n",
    "                t = [t1[0], t2[0]]\n",
    "                dif[n] = t\n",
    "\n",
    "    return dif\n",
    "    \n",
    "   \n",
    "    \n",
    "    \n",
    "url1 = r'https://dl.dropboxusercontent.com/u/50004393/Book1.xlsx'\n",
    "url2 = r'https://dl.dropboxusercontent.com/u/50004393/Book2.xlsx'\n",
    "\n",
    "arq1 = 'dep1.xlsx'\n",
    "arq2 = 'dep2.xlsx'\n",
    "\n",
    "# baixa a primeira planilha\n",
    "baixa(url1, arq1)\n",
    "\n",
    "# baixa a segunda planilha\n",
    "baixa(url2,arq2)\n",
    "\n",
    "# cria os dicionarios baseados nas planilhas\n",
    "src = os.getcwd()\n",
    "path1 = os.path.join(src, arq1)\n",
    "wb1 = xlrd.open_workbook(path1) \n",
    "sheets = wb1.sheet_names()\n",
    "folha1 = wb1.sheet_by_name(sheets[0])\n",
    "\n",
    "dic1 = criaDic(folha1)\n",
    "\n",
    "path2 = os.path.join(src, arq2)\n",
    "wb2 = xlrd.open_workbook(path2) \n",
    "sheets = wb2.sheet_names()\n",
    "folha2 = wb2.sheet_by_name(sheets[0])\n",
    "\n",
    "dic2 = criaDic(folha2)\n",
    "\n",
    "# compara os dois dicionários diretamente\n",
    "if dic1 == dic2:\n",
    "        print('Nenhuma mudança detetada')\n",
    "else:\n",
    "    # deteta nomes novos e faltantes\n",
    "    dif1, dif2 = compara(dic1, dic2)\n",
    "    if dif1:\n",
    "        print('Nomes que faltam em dic2')\n",
    "        pprint.pprint(dif1)\n",
    "        print()\n",
    "    if dif2:\n",
    "        print('Nomes que faltam em dic1')\n",
    "        pprint.pprint(dif2) \n",
    "        print()\n",
    "        \n",
    "    # deteta mudanças de partidos\n",
    "    difp = difpartidos(dic1, dic2)\n",
    "    if difp:\n",
    "        print('Mudanças de partidos')\n",
    "        pprint.pprint(difp)\n",
    "```"
   ]
  }
 ],
 "metadata": {
  "kernelspec": {
   "display_name": "Python 3",
   "language": "python",
   "name": "python3"
  },
  "language_info": {
   "codemirror_mode": {
    "name": "ipython",
    "version": 3
   },
   "file_extension": ".py",
   "mimetype": "text/x-python",
   "name": "python",
   "nbconvert_exporter": "python",
   "pygments_lexer": "ipython3",
   "version": "3.5.1"
  }
 },
 "nbformat": 4,
 "nbformat_minor": 0
}
