{
 "cells": [
  {
   "cell_type": "markdown",
   "metadata": {},
   "source": [
    "# Lendo, escrevendo e organizando arquivos"
   ]
  },
  {
   "cell_type": "markdown",
   "metadata": {},
   "source": [
    "## Arquivos\n",
    "\n",
    "No nivel mais básico, de bits e bytes, arquivos são coleções de bits binários armazenados em disco ou na memória de computadores.\n",
    "\n",
    "O *tipo* de arquivos passa a ter relevância na hora de ler seu conteúdo ou adicionar conteúdo. Assim um arquivo **texto** (terminação **.txt**) contem bits tal qual um arquivo binário executável (terminação **.exe**), não sendo legivel por ser humano na forma como está guardadado. \n",
    "\n",
    "Para lêr o arquivo texto como tal é preciso informar o programa leitor qual tipo de leitura queremos e ele então vai decodificar os bits lidos em letras, pontuação, etc resultando num texto legivel por ser humano. \n",
    "\n",
    "Se tentarmos ler um arquivo binário executável como se fosse um texto a decodificação não vai funcionar e uma mistura de simbolos sem sentido será \"lida\". Tal tipo de arquivo não é criado para ser lido como texto mas sim para ser carregado em formato binário de programa executável pelo computador.\n",
    "\n",
    "Por outro lado se queremos manipular um arquivo binário devemos  informar isto para o programa leitor ou escritor.\n",
    "\n",
    "Para complicar mais as coisas há textos e textos. Originalmente computação era quase exclusivamente feita na lingua inglêsa. Para cobrir todas as letras e simbolos usados em inglês bastavam 128 conjuntos de 8 bits (byte) por caracter. Este forma de codificar alfabeto em bits era chamada Código ASCII (American Standard Code for Information Interchange).\n",
    "\n",
    "Com a disseminação rápida da Ciência de Computação pelo mundo logo surgiu necessidade de codificar alfabetos com outros numeros de letras e simbolos. Para tanto passaram a ser criados diversos outros códigos e padrões, numa grande e confusa mistura. Isto é assunto para outra ocasião [mas uma ótima apresentação está aqui.](http://www.joelonsoftware.com/articles/unicode.html)\n",
    "\n",
    "Como exemplo aqui está um texto que guardamos em arquivo tipo **.txt**:\n",
    "\n",
    "```\n",
    "A Ciência Política surgiu como disciplina e instituição em meados do século XIX, período em que avançou como \"Ciência do Estado\" principalmente na Alemanha, Itália e França. De maneira mais ampla, a Ciência Política pode ser entendida como a disciplina que se volta para o estudo de qualquer fenômeno ligado às estruturas políticas de maneira sistemática, sempre apoiado na observação empírica rigorosa e fundamentado em argumentos racionais. Nesse sentido, a palavra \"ciência\" é usada como ideia oposta à noção de \"opinião\", de forma que, como Noberto Bobbio* esclarece em seu Dicionário de Política, \"ocupar-se cientificamente de política significa não se abandonar a opiniões e crenças do vulgo, não formular juízos com base em dados imprecisos, mas apoiar-se nas provas dos fatos.\"\n",
    "```\n",
    "\n",
    "Usamos um programa especial capaz de mostrar o conteudo binário básico de um arquivo em disco (frhed.exe). Abrindo nosso arquivo texto original com este programa obtemos a janela mostrada abaixo na figura:\n",
    "\n",
    "![alt text](https://dl.dropboxusercontent.com/u/50004393/cp.PNG)\n",
    "\n",
    "Nesta figura a tabela cheia de numeros e letras no lado esquerdo é a imagem fiel do conteúdo de nosso arquivo texto como armazenado em disco (na verdade está apresentado em formato hexadecimal e não binário para ocupar menos espaço).\n",
    "\n",
    "A parte com texto truncado na direita é o que este programa decodificou como texto correspondente ao conteúdo binário. Claramente muitas letras originais foram substituidas por simbolos estranhos no texto. Isto ocorreu porque o programa leitor decodificou os bits em código OEM (um ASCII extendido) e as letras portuguesas que não tem correspondente em inglês foram decodificadas como tais simbolos esquisitos.\n",
    "\n",
    "Em resumo, ao lermos ou escrevermos conteúdo de arquivos devemos informar o programa usado qual tipo de arquivo queremos usar (o default usualmente é texto) e ainda no caso de textos, qual a codfificação de caracteres vamos usar (usualmente é UTF-8, mas isto varia muito e depende do computador, etc).\n",
    "\n",
    "\n"
   ]
  },
  {
   "cell_type": "markdown",
   "metadata": {},
   "source": [
    "## Lendo e escrevendo arquivos\n",
    "\n",
    "Arquivos são salvos em disco de acordo com um esquema de organização de pastas (diretórios) que constitue o assim chamado **file system**. Todo arquivo é sempre salvo dentro de alguma pasta (ou diretório) no file system. \n",
    "\n",
    "Para localizar um arquivo existe um caminho (**path**) que parte da pasta hierarquicamente mais alta descendo por pastas subalternas até chegar na pasta do arquivo. A pasta mais alta usualmente será o nome de alguma unidade de disco do computador, por exemplo a letra **C** designa a unidade normalmente usada em quase todo computador com Windows.\n",
    "\n",
    "Podemos dizer que todo arquivo em disco tem duas propriedades essenciais:\n",
    "- um *nome* tal como \"dados.txt\"  (**filename**)\n",
    "- um caminho para localiza-lo tal como \"C:\\desktop\\dados.txt\" (**path**)\n",
    "\n",
    "No caminho \"C:\\desktop\\dados.txt\" as barras para esquerda (\\) significam descer para subdiretório seguinte e por ultimo o nome do arquivo. Ou seja, C => desktop => dados.txt\n",
    "\n",
    "Para chegar até o diretório desejado usaremos o módulo **os**, utilissimo. Duas funções uteis deste módulo permitem achar o caminho do diretório corrente onde está executando o programa e mudar do diretório corrente para algum outro cujo caminho for dado:\n",
    "- os.getcwd()  retorna string com diretório corrente\n",
    "- os.chdir(um_caminho) muda diretório corrente para \"um_caminho\"\n",
    "\n"
   ]
  },
  {
   "cell_type": "code",
   "execution_count": 10,
   "metadata": {
    "collapsed": false
   },
   "outputs": [
    {
     "name": "stdout",
     "output_type": "stream",
     "text": [
      "C:\\Users\\ps\\Desktop\\Blog\n",
      "C:\\\n"
     ]
    }
   ],
   "source": [
    "import os\n",
    "s = os.getcwd()\n",
    "print(s)\n",
    "os.chdir('C:\\\\')\n",
    "print(os.getcwd())\n",
    "os.chdir(s)"
   ]
  },
  {
   "cell_type": "markdown",
   "metadata": {},
   "source": [
    "Para ver uma lista com todo conteúdo de um diretório usa-se a função\n",
    "- os.listdir()"
   ]
  },
  {
   "cell_type": "code",
   "execution_count": 12,
   "metadata": {
    "collapsed": false
   },
   "outputs": [
    {
     "data": {
      "text/plain": [
       "['cienciapolitica.txt', 'cp.txt', 'dep1.xlsx']"
      ]
     },
     "execution_count": 12,
     "metadata": {},
     "output_type": "execute_result"
    }
   ],
   "source": [
    "os.chdir(r'C:\\\\Users\\\\ps\\\\Desktop\\\\Blog\\\\lixo')\n",
    "os.listdir()"
   ]
  },
  {
   "cell_type": "markdown",
   "metadata": {},
   "source": [
    "Ocasionalmente é necessário criar novos diretórios. Para tanto o módulo **os** tem a função \n",
    "- os.makedirs('um_caminho_onde_criar_novo_diretorio')"
   ]
  },
  {
   "cell_type": "code",
   "execution_count": 13,
   "metadata": {
    "collapsed": false
   },
   "outputs": [
    {
     "name": "stdout",
     "output_type": "stream",
     "text": [
      "C:\\Users\\ps\\Desktop\\Blog\\lixo\n",
      "C:\\Users\\ps\\Desktop\\Blog\\lixo\\lixo1\n"
     ]
    },
    {
     "data": {
      "text/plain": [
       "['cienciapolitica.txt', 'cp.txt', 'dep1.xlsx', 'lixo1']"
      ]
     },
     "execution_count": 13,
     "metadata": {},
     "output_type": "execute_result"
    }
   ],
   "source": [
    "s = os.getcwd()\n",
    "print(s)\n",
    "s1 = s + r'\\lixo1'\n",
    "print(s1)\n",
    "os.makedirs(s1)\n",
    "os.listdir()"
   ]
  },
  {
   "cell_type": "markdown",
   "metadata": {},
   "source": [
    "As vezes deseja-se remover um diretório. Para isto pode ser usada a função\n",
    "- os.rmdir('caminho_do_dir_a_ser_removido')\n",
    "\n",
    "Entretanto esta função só funciona se o diretório estiver vazio. Para esvaziar o diretório removendo todos seus arquivos pode-se usar código assim, desde que *só hajam arquivos* no diretório:\n",
    "```python\n",
    "for f in os.listdir():\n",
    "    os.unlink(f)\n",
    "```"
   ]
  },
  {
   "cell_type": "markdown",
   "metadata": {},
   "source": [
    "Um módulo muito útil é o submódulo **os.path** que contém funções para pegar nomes e extenções de arquivos, testar se objetos num diretório são arquivos ou se são diretórios e diversas outras utilidades.\n",
    "\n",
    "Em nosso caso podemos usar a função **os.path.isfile(f)** para testar se o objeto **f** é um arquivo ou não. Nosso código acima fica assim:\n",
    "\n",
    "```python\n",
    "# esvazia o diretório corrente (cuidado!)\n",
    "for f in os.listdir():\n",
    "\tif os.path.isfile(f):\n",
    "\t\tos.unlink(f)\n",
    "\telse:\n",
    "\t\tos.rmdir(f)\n",
    "```\n",
    "\n",
    "Esta tarefa pode ser feita de modo mais simples usando outro módulo cheio de utilidades, o **shutil**:\n",
    "\n",
    "```python\n",
    "import os, shutil\n",
    "s = getcwd()\n",
    "shutil.rmtree(s)\n",
    "```\n",
    "\n",
    "Isto deleta o diretório em **s** e tudo que ele contem, arquivos, subdiretórios, etc. Obviamente uma função poderosa que deve ser usada com cuidado.\n"
   ]
  },
  {
   "cell_type": "markdown",
   "metadata": {},
   "source": [
    "Mais uma função útil do módulo **os.path** é a que devolve o tamanho de um arquivo:"
   ]
  },
  {
   "cell_type": "code",
   "execution_count": 14,
   "metadata": {
    "collapsed": false
   },
   "outputs": [
    {
     "data": {
      "text/plain": [
       "818"
      ]
     },
     "execution_count": 14,
     "metadata": {},
     "output_type": "execute_result"
    }
   ],
   "source": [
    "os.path.getsize('cp.txt')"
   ]
  },
  {
   "cell_type": "markdown",
   "metadata": {},
   "source": [
    "## Lendo e escrevendo conteúdo de arquivos\n",
    "\n",
    "Agora vejamos como ler ou modificar o conteúdo de arquivos.\n",
    "\n",
    "O processo tem três passos em sequência:\n",
    "1. Usar a função **open()** para obter um objeto **File**, que permite o acesso ao arquivo\n",
    "\n",
    "2. Usar o(s) método(s) **read()** (**write()**) do objeto **File** para ler ou escrever conteúdo do arquivo\n",
    "\n",
    "3. Fechar o arquivo usando o método **close()** de **File**\n",
    "\n",
    "\n",
    "### Abrindo arquivos com o comando *open()*\n",
    "\n",
    "Vamos por enquanto discutir leitura ou escrita de arquivos texto.\n",
    "\n",
    "O comando **open()** recebe como argumentos o caminho do arquivo e um caracter **r** ou **w** para indicar *\"aberto para leitura (r)\"* ou *\"aberto para escrita (w)\"* conforme se deseje ler ou escrever no arquivo respectivamente. Opcionalmente pode-se incluir um argumento nomeado **encoding=** seguido de simbolo da decodificação desejada. Como já dito antes, **UTF-8** é uma das codificações modernas mais populares, pelo menos para arquivos em inglês e arquivos na internet em geral.\n",
    "\n",
    "A execução deste comando devolve um objeto **File** que nada mais é que a representação do arquivo no ambiente de execução do Python. **File** esconde as complexidades da leitura de fato dos bits do arquivo no disco.\n",
    "\n"
   ]
  },
  {
   "cell_type": "code",
   "execution_count": 36,
   "metadata": {
    "collapsed": false
   },
   "outputs": [
    {
     "data": {
      "text/plain": [
       "_io.TextIOWrapper"
      ]
     },
     "execution_count": 36,
     "metadata": {},
     "output_type": "execute_result"
    }
   ],
   "source": [
    "f = open('cp.txt', 'r',encoding='utf-8')\n",
    "type(f)"
   ]
  },
  {
   "cell_type": "markdown",
   "metadata": {},
   "source": [
    "### Lendo e escrevendo conteudo em arquivos texto"
   ]
  },
  {
   "cell_type": "markdown",
   "metadata": {},
   "source": [
    "Uma vez criado um objeto **File** podemos invocar seus métodos para leitura de texto. Temos duas opções:\n",
    "- f.read() devolve o conteúdo inteiro do arquivo em um string.\n",
    "- f.readlines() devolve uma lista onde cada elemento é um string correspondente a uma linha do texto (uma linha termina com **CR-LF**)"
   ]
  },
  {
   "cell_type": "code",
   "execution_count": 37,
   "metadata": {
    "collapsed": false
   },
   "outputs": [
    {
     "name": "stdout",
     "output_type": "stream",
     "text": [
      "A Ciência Política surgiu como disciplina e instituição em meados do século XIX, período em que avançou como \"Ciência do Estado\" principalmente na Alemanha, Itália e França. \n",
      "De maneira mais ampla, a Ciência Política pode ser entendida como a disciplina que se volta para o estudo de qualquer fenômeno ligado às estruturas políticas de maneira sistemática, sempre apoiado na observação empírica rigorosa e fundamentado em argumentos racionais.\n",
      " Nesse sentido, a palavra \"ciência\" é usada como ideia oposta à noção de \"opinião\", de forma que, como Noberto Bobbio* esclarece em seu Dicionário de Política, \"ocupar-se cientificamente de política significa não se abandonar a opiniões e crenças do vulgo, não formular juízos com base em dados imprecisos, mas apoiar-se nas provas dos fatos.\"\n",
      " \n"
     ]
    }
   ],
   "source": [
    "txt = f.read()\n",
    "print(txt)"
   ]
  },
  {
   "cell_type": "markdown",
   "metadata": {},
   "source": [
    "Arquivos deixados abertos criam diversos problemas. Sempre feche os arquivos após usá-los:"
   ]
  },
  {
   "cell_type": "code",
   "execution_count": 38,
   "metadata": {
    "collapsed": true
   },
   "outputs": [],
   "source": [
    "f.close()"
   ]
  },
  {
   "cell_type": "markdown",
   "metadata": {},
   "source": [
    "Vejamos a leitura de linhas do texto:"
   ]
  },
  {
   "cell_type": "code",
   "execution_count": 41,
   "metadata": {
    "collapsed": false
   },
   "outputs": [
    {
     "name": "stdout",
     "output_type": "stream",
     "text": [
      "['A Ciência Política surgiu como disciplina e instituição em meados do século XIX, período em que avançou como \"Ciência do Estado\" principalmente na Alemanha, Itália e França. \\n', 'De maneira mais ampla, a Ciência Política pode ser entendida como a disciplina que se volta para o estudo de qualquer fenômeno ligado às estruturas políticas de maneira sistemática, sempre apoiado na observação empírica rigorosa e fundamentado em argumentos racionais.\\n', ' Nesse sentido, a palavra \"ciência\" é usada como ideia oposta à noção de \"opinião\", de forma que, como Noberto Bobbio* esclarece em seu Dicionário de Política, \"ocupar-se cientificamente de política significa não se abandonar a opiniões e crenças do vulgo, não formular juízos com base em dados imprecisos, mas apoiar-se nas provas dos fatos.\"\\n', ' ']\n"
     ]
    }
   ],
   "source": [
    "f = open('cp.txt', 'r',encoding='utf-8')\n",
    "linhas = f.readlines()\n",
    "print(linhas)\n",
    "f.close()"
   ]
  },
  {
   "cell_type": "markdown",
   "metadata": {},
   "source": [
    "Usando o comando **with** do Python, visto em aulas anteriores, não precisamos explicitamente fechar o arquivo. Ao terminar de executar o corpo do comando **with** este fecha o arquivo implicitamente:"
   ]
  },
  {
   "cell_type": "code",
   "execution_count": 42,
   "metadata": {
    "collapsed": false
   },
   "outputs": [
    {
     "name": "stdout",
     "output_type": "stream",
     "text": [
      "A Ciência Política surgiu como disciplina e instituição em meados do século XIX, período em que avançou como \"Ciência do Estado\" principalmente na Alemanha, Itália e França. \n",
      "De maneira mais ampla, a Ciência Política pode ser entendida como a disciplina que se volta para o estudo de qualquer fenômeno ligado às estruturas políticas de maneira sistemática, sempre apoiado na observação empírica rigorosa e fundamentado em argumentos racionais.\n",
      " Nesse sentido, a palavra \"ciência\" é usada como ideia oposta à noção de \"opinião\", de forma que, como Noberto Bobbio* esclarece em seu Dicionário de Política, \"ocupar-se cientificamente de política significa não se abandonar a opiniões e crenças do vulgo, não formular juízos com base em dados imprecisos, mas apoiar-se nas provas dos fatos.\"\n",
      " \n"
     ]
    }
   ],
   "source": [
    "with open('cp.txt', 'r',encoding='utf-8') as f:\n",
    "    txt = f.read()\n",
    "print(txt)"
   ]
  },
  {
   "cell_type": "markdown",
   "metadata": {},
   "source": [
    "## Organizando seus arquivos"
   ]
  },
  {
   "cell_type": "markdown",
   "metadata": {},
   "source": [
    "Na prática gasta-se muita programação copiando arquivos e diretórios ou movendo arquivos e diretórios de um lugar para outro.\n",
    "\n",
    "Um módulo cheio de funções úteis para tanto é o **shutil**.\n",
    "Vejamos algumas funções populares usadas no dia a dia.\n",
    "\n",
    "### copiando arquivos e diretórios\n",
    "\n",
    "Pra copiar um arquivo para outro caminho use a função **shutil.copy(**caminho_velho,caminho_novo**)** \n",
    "Repare que podemos usar isto para renomear o arquivo velho em seu novo caminho.\n"
   ]
  },
  {
   "cell_type": "code",
   "execution_count": 43,
   "metadata": {
    "collapsed": false
   },
   "outputs": [
    {
     "data": {
      "text/plain": [
       "['cienciapolitica.txt', 'cp.txt', 'dep1.xlsx', 'lixo1']"
      ]
     },
     "execution_count": 43,
     "metadata": {},
     "output_type": "execute_result"
    }
   ],
   "source": [
    "import shutil\n",
    "os.listdir()"
   ]
  },
  {
   "cell_type": "code",
   "execution_count": 44,
   "metadata": {
    "collapsed": false
   },
   "outputs": [
    {
     "data": {
      "text/plain": [
       "'lixo1\\\\cipol.txt'"
      ]
     },
     "execution_count": 44,
     "metadata": {},
     "output_type": "execute_result"
    }
   ],
   "source": [
    "shutil.copy('cienciapolitica.txt', r'lixo1\\cipol.txt')"
   ]
  },
  {
   "cell_type": "code",
   "execution_count": 46,
   "metadata": {
    "collapsed": false
   },
   "outputs": [
    {
     "data": {
      "text/plain": [
       "['cipol.txt']"
      ]
     },
     "execution_count": 46,
     "metadata": {},
     "output_type": "execute_result"
    }
   ],
   "source": [
    "os.listdir('lixo1')"
   ]
  },
  {
   "cell_type": "markdown",
   "metadata": {},
   "source": [
    "Para copiar diretórios usamos **shutil.copytree(velho,novo)**. Por exemplo vamos copiar o diretório *lixo1* para o diretório *lixo* aproveitando para renomear como *temp*\n"
   ]
  },
  {
   "cell_type": "code",
   "execution_count": 47,
   "metadata": {
    "collapsed": false
   },
   "outputs": [
    {
     "data": {
      "text/plain": [
       "'temp'"
      ]
     },
     "execution_count": 47,
     "metadata": {},
     "output_type": "execute_result"
    }
   ],
   "source": [
    "shutil.copytree('lixo1', 'temp')"
   ]
  },
  {
   "cell_type": "code",
   "execution_count": 48,
   "metadata": {
    "collapsed": false
   },
   "outputs": [
    {
     "data": {
      "text/plain": [
       "['cienciapolitica.txt', 'cp.txt', 'dep1.xlsx', 'lixo1', 'temp']"
      ]
     },
     "execution_count": 48,
     "metadata": {},
     "output_type": "execute_result"
    }
   ],
   "source": [
    "os.listdir()"
   ]
  },
  {
   "cell_type": "code",
   "execution_count": 49,
   "metadata": {
    "collapsed": false
   },
   "outputs": [
    {
     "data": {
      "text/plain": [
       "['cipol.txt']"
      ]
     },
     "execution_count": 49,
     "metadata": {},
     "output_type": "execute_result"
    }
   ],
   "source": [
    "os.listdir('temp')"
   ]
  },
  {
   "cell_type": "markdown",
   "metadata": {},
   "source": [
    "Mover arquivos ou diretórios poderia ser feito em duas etapas:\n",
    "- copiar o arquivo para o destino\n",
    "- deletar o arquivo no diretório corrente\n",
    "\n",
    "Entretanto usando **shutil** podemos fazer isto com uma só chamada de função:\n",
    "**shutil.move(origem, destino)**"
   ]
  },
  {
   "cell_type": "code",
   "execution_count": 51,
   "metadata": {
    "collapsed": false
   },
   "outputs": [
    {
     "data": {
      "text/plain": [
       "'C:\\\\Users\\\\ps\\\\Desktop\\\\Blog\\\\lixo\\\\cipol.txt'"
      ]
     },
     "execution_count": 51,
     "metadata": {},
     "output_type": "execute_result"
    }
   ],
   "source": [
    "shutil.move('temp\\\\cipol.txt', os.getcwd())"
   ]
  },
  {
   "cell_type": "code",
   "execution_count": 52,
   "metadata": {
    "collapsed": false
   },
   "outputs": [
    {
     "data": {
      "text/plain": [
       "['cienciapolitica.txt', 'cipol.txt', 'cp.txt', 'dep1.xlsx', 'lixo1', 'temp']"
      ]
     },
     "execution_count": 52,
     "metadata": {},
     "output_type": "execute_result"
    }
   ],
   "source": [
    "os.listdir()"
   ]
  },
  {
   "cell_type": "code",
   "execution_count": 53,
   "metadata": {
    "collapsed": false
   },
   "outputs": [
    {
     "data": {
      "text/plain": [
       "[]"
      ]
     },
     "execution_count": 53,
     "metadata": {},
     "output_type": "execute_result"
    }
   ],
   "source": [
    "os.listdir('temp')"
   ]
  }
 ],
 "metadata": {
  "kernelspec": {
   "display_name": "Python 3",
   "language": "python",
   "name": "python3"
  },
  "language_info": {
   "codemirror_mode": {
    "name": "ipython",
    "version": 3
   },
   "file_extension": ".py",
   "mimetype": "text/x-python",
   "name": "python",
   "nbconvert_exporter": "python",
   "pygments_lexer": "ipython3",
   "version": "3.5.1"
  }
 },
 "nbformat": 4,
 "nbformat_minor": 0
}
