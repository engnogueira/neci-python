{
 "cells": [
  {
   "cell_type": "markdown",
   "metadata": {},
   "source": [
    "# Outros tipos de dados nativos"
   ]
  },
  {
   "cell_type": "markdown",
   "metadata": {},
   "source": [
    "Só numeros e caracteres é insuficiente para representar nossos algoritmos. O Python oferece outros (cinco) tipos de dados pré definidos e extremamente poderosos para suportar programação em geral e que veremos à seguir. Na verdade Python é uma linguagem *orientada a objetos* e isto permite usuários definirem novos tipos de dados que acharem convenientes, mas para nós os cinco tipos nativos provavelmente são suficientes. Pelo menos no início. "
   ]
  },
  {
   "cell_type": "markdown",
   "metadata": {},
   "source": [
    "Os tipos de dados nativos do Python que iremos usar bastante são:\n",
    "1. strings\n",
    "2. lists\n",
    "3. tuples\n",
    "4. sets\n",
    "5. dictionaires\n",
    "\n",
    "Cada um destes tipos de dados tem um conjunto de funções associadas para manipulá-lo. No que se segue vamos mostrar cada tipo e algumas de suas funções (**methods**) específicas."
   ]
  },
  {
   "cell_type": "markdown",
   "metadata": {},
   "source": [
    "## Strings"
   ]
  },
  {
   "cell_type": "markdown",
   "metadata": {},
   "source": [
    "Strings são sequências ordenadas de caracteres indexados começando em 0 e imutáveis. Oportunamente veremos algo sobre codificação, ASCII, Unicode e similares, mas isto só nos concerne na medida em que precisemos ler arquivos externos e será comentado quando necessário.\n",
    "\n",
    "Vejamos exemplos:"
   ]
  },
  {
   "cell_type": "code",
   "execution_count": null,
   "metadata": {
    "collapsed": false
   },
   "outputs": [],
   "source": [
    "s = 'abcd'              # a variável s tem como valor o string abcd\n",
    "print(s)\n",
    "l = len(s)              # len() é uma função do Python que retorna o comprimento de um objeto\n",
    "print(l)\n",
    "print(s[0])             # s[0] é o caracter de índice 0 do string s\n",
    "print(s[2])"
   ]
  },
  {
   "cell_type": "markdown",
   "metadata": {},
   "source": [
    "O operador + (soma) aplicado entre dois strings permite concatenar os dois strings num terceiro string que é o resultado desta \"soma\":"
   ]
  },
  {
   "cell_type": "code",
   "execution_count": null,
   "metadata": {
    "collapsed": false
   },
   "outputs": [],
   "source": [
    "r = ' são quatro letras'\n",
    "print(s + r)"
   ]
  },
  {
   "cell_type": "markdown",
   "metadata": {},
   "source": [
    "Trechos de texto de várias linhas são usados para comentar algoritmos em cabeçalhos. Tambem podem ser usados para definir strings de várias linhas:"
   ]
  },
  {
   "cell_type": "code",
   "execution_count": null,
   "metadata": {
    "collapsed": true
   },
   "outputs": [],
   "source": [
    "s1 = '''Quando visitar Roma\n",
    "não deixe de ver o Vaticano.\n",
    "Seus mármores assombrosos teriam sido\n",
    "reciclados dos palácios imperiais\n",
    "no monte Palatino.'''"
   ]
  },
  {
   "cell_type": "markdown",
   "metadata": {},
   "source": [
    "Como foi mencionado strings são objetos que possuem diversas funções associadas para sua manipulação. A forma de usar tais funções é apendar um ponto (.) ao string seguido do nome da função desejada. Por exemplo:"
   ]
  },
  {
   "cell_type": "code",
   "execution_count": null,
   "metadata": {
    "collapsed": false
   },
   "outputs": [],
   "source": [
    "# splitlines() é uma função membro de strings que devolve uma lista das linhas contidas no string\n",
    "s1.splitlines()"
   ]
  },
  {
   "cell_type": "markdown",
   "metadata": {},
   "source": [
    "Observe como o Python retornou uma lista de linhas separadas por virgulas e listadas entre chaves quadradas.\n",
    "\n",
    "Strings podem ser repetidos diversas vêzes usando operador multiplicador * e um numero, desta forma:"
   ]
  },
  {
   "cell_type": "code",
   "execution_count": null,
   "metadata": {
    "collapsed": false
   },
   "outputs": [],
   "source": [
    "s2 = 3*s + 'xy'\n",
    "print(s)\n",
    "print(s2)"
   ]
  },
  {
   "cell_type": "markdown",
   "metadata": {},
   "source": [
    "Já vimos que caracteres num string são indexados, começando por 0. Às vêzes queremos algum caracter contando do final para o começo do string. Para isto existe a conveniência de índices negativos: -1 é o último caracter, -2 seu predecessor e assim por diante:"
   ]
  },
  {
   "cell_type": "code",
   "execution_count": null,
   "metadata": {
    "collapsed": false
   },
   "outputs": [],
   "source": [
    "print(s[-1])\n",
    "print(s[-2])"
   ]
  },
  {
   "cell_type": "markdown",
   "metadata": {},
   "source": [
    "Além de indexação dos caracteres strings também tem a utilíssima operação de \"fatiagem\" (**slicing**). Usamos slicing para obter um pedaço de um string, como se cortassemos fora as partes sem interesse. Isto é feito especificando os índices *do começo e do primeiro caracter que não interessa*, separados por dois pontos:"
   ]
  },
  {
   "cell_type": "code",
   "execution_count": null,
   "metadata": {
    "collapsed": false
   },
   "outputs": [],
   "source": [
    "print(s[0:2])\n",
    "print(s[1:])        # deixando o número final ausente equivale a ir até o fim\n",
    "print(s[:-1])       # deixando o número inicial ausente equivale a começar no 0. -1 é o último caracter.\n",
    "print(s[-3:])       # imprima os três últimos caracteres"
   ]
  },
  {
   "cell_type": "markdown",
   "metadata": {},
   "source": [
    "Existem [muitas outras funções-membro](https://docs.python.org/3.5/library/stdtypes.html#string-methods) úteis em strings. Aprenda elas na medida do necessário. Aí vão alguns exemplos:"
   ]
  },
  {
   "cell_type": "code",
   "execution_count": null,
   "metadata": {
    "collapsed": false
   },
   "outputs": [],
   "source": [
    "S = s.upper()        # muda todos caracteres de s em maiúsculas, onde possível\n",
    "print(S)"
   ]
  },
  {
   "cell_type": "code",
   "execution_count": null,
   "metadata": {
    "collapsed": false
   },
   "outputs": [],
   "source": [
    "print(S.lower())     # muda maiusculas em minusculas"
   ]
  },
  {
   "cell_type": "markdown",
   "metadata": {},
   "source": [
    "Podemos querer saber quantas vêzes uma palavra (um substring) ocorre num texto. Alguem pensou nisto e temos um método adequado:"
   ]
  },
  {
   "cell_type": "code",
   "execution_count": null,
   "metadata": {
    "collapsed": false
   },
   "outputs": [],
   "source": [
    "texto = '''mas problemas não se resolvem,\n",
    "problemas têm família grande,\n",
    "e aos domingos\n",
    "saem todos a passear\n",
    "o problema, sua senhora\n",
    "e outros pequenos probleminhas'''\n",
    "n = texto.count('problema')            # quantas ocorrências do substring 'problema'?\n",
    "print(n)"
   ]
  },
  {
   "cell_type": "markdown",
   "metadata": {},
   "source": [
    "## Lists"
   ]
  },
  {
   "cell_type": "markdown",
   "metadata": {},
   "source": [
    "Listas são um poderoso tipo de dados, tanto por razões teóricas quanto na prática. Usando listas podemos emular muitos outros tipos de dados, mas felizmente na prática e para nós isto não será necessário. Uma lista é uma sequência ordenada de elementos. Elementos podem ser objetos quaisquer, não precisam ser do mesmo tipo e, ao contrário dos caracteres de strings, *podem ser modificados*.\n",
    "\n",
    "Lista são representadas com chaves quadradas e seus elementos separados por virgulas:"
   ]
  },
  {
   "cell_type": "code",
   "execution_count": null,
   "metadata": {
    "collapsed": false
   },
   "outputs": [],
   "source": [
    "L = ['Esta','é', 'uma', 'lista', 'de','strings', 1, 2, 3]\n",
    "print(L)"
   ]
  },
  {
   "cell_type": "markdown",
   "metadata": {},
   "source": [
    "Listas também podem ser criadas pela função `list()` do Python:"
   ]
  },
  {
   "cell_type": "code",
   "execution_count": null,
   "metadata": {
    "collapsed": false
   },
   "outputs": [],
   "source": [
    "v = list()            # cria uma lista vazia\n",
    "print(v)\n",
    "v = list('abcd')      # cria lista com elementos de um string\n",
    "print(v)"
   ]
  },
  {
   "cell_type": "markdown",
   "metadata": {},
   "source": [
    "Existe um meio avançado de criar listas usando \"comprehensions\", um tipo avançado e muito útil de construtor. Voltaremos a isto mais adiante."
   ]
  },
  {
   "cell_type": "markdown",
   "metadata": {},
   "source": [
    "Listas tem indexação, como os strings:"
   ]
  },
  {
   "cell_type": "code",
   "execution_count": null,
   "metadata": {
    "collapsed": false
   },
   "outputs": [],
   "source": [
    "print(L[2])\n",
    "print(L[-1])\n",
    "print(L[-5:])"
   ]
  },
  {
   "cell_type": "markdown",
   "metadata": {},
   "source": [
    "Mas, ao contrário de strings, os elementos de listas podem ser modificados:"
   ]
  },
  {
   "cell_type": "code",
   "execution_count": null,
   "metadata": {
    "collapsed": false
   },
   "outputs": [],
   "source": [
    "print(L)\n",
    "L[-4] = 777\n",
    "print(L)"
   ]
  },
  {
   "cell_type": "markdown",
   "metadata": {},
   "source": [
    "Uma lista pode ser criada vazia, isto é, sem nenhum elemento inicial. Elementos podem ser adicionados na lista a qualquer momento usando métodos do tipo **list**:"
   ]
  },
  {
   "cell_type": "code",
   "execution_count": null,
   "metadata": {
    "collapsed": false
   },
   "outputs": [],
   "source": [
    "l1 = []            # criei uma lista vazia, sem nenhum elemento\n",
    "print(l1)\n",
    "l1.append(123)\n",
    "print(l1)\n",
    "l1.append('mais um')\n",
    "print(l1)\n",
    "l1.append(777)\n",
    "print(l1)"
   ]
  },
  {
   "cell_type": "markdown",
   "metadata": {},
   "source": [
    "Elementos indesejados podem ser removidos pelo método remove():"
   ]
  },
  {
   "cell_type": "code",
   "execution_count": null,
   "metadata": {
    "collapsed": false
   },
   "outputs": [],
   "source": [
    "l1.remove('mais um')        # o elemento indesejado é dado como argumento\n",
    "print(l1)"
   ]
  },
  {
   "cell_type": "markdown",
   "metadata": {},
   "source": [
    "Outro modo de remoção é o método pop() o qual remove sempre o último elemento da lista:"
   ]
  },
  {
   "cell_type": "code",
   "execution_count": null,
   "metadata": {
    "collapsed": false
   },
   "outputs": [],
   "source": [
    "print(L)\n",
    "L.pop()\n",
    "print(L)\n",
    "L.pop()\n",
    "print(L)"
   ]
  },
  {
   "cell_type": "markdown",
   "metadata": {},
   "source": [
    "Listas podem ser extendidas e ter elementos inseridos em índices específicos:"
   ]
  },
  {
   "cell_type": "code",
   "execution_count": null,
   "metadata": {
    "collapsed": false
   },
   "outputs": [],
   "source": [
    "print(l1)\n",
    "l1.extend(['mais', 'uma', 'lista'])\n",
    "print(l1)\n",
    "l1.insert(3, '999')\n",
    "print(l1)"
   ]
  },
  {
   "cell_type": "markdown",
   "metadata": {},
   "source": [
    "Listas também tem o operador + (soma) de mesma forma que strings. Duas listas podem ser concatenadas usando este operador:"
   ]
  },
  {
   "cell_type": "code",
   "execution_count": null,
   "metadata": {
    "collapsed": false
   },
   "outputs": [],
   "source": [
    "l = [1,2,3]\n",
    "l1 = [4,5,6]\n",
    "print(l)\n",
    "print(l1)\n",
    "print(l + l1)"
   ]
  },
  {
   "cell_type": "markdown",
   "metadata": {},
   "source": [
    "Como os strings, listas também podem ser fatiadas:"
   ]
  },
  {
   "cell_type": "code",
   "execution_count": null,
   "metadata": {
    "collapsed": false
   },
   "outputs": [],
   "source": [
    "l1 = L[2:5]\n",
    "print(l1)\n",
    "print(l1[-2])"
   ]
  },
  {
   "cell_type": "markdown",
   "metadata": {},
   "source": [
    "Como disse, listas podem ter qualquer tipo de elemento. Em particular podem ter outras listas como elementos:"
   ]
  },
  {
   "cell_type": "code",
   "execution_count": null,
   "metadata": {
    "collapsed": false
   },
   "outputs": [],
   "source": [
    "lst = [1, 2, 3]\n",
    "outra = [\"a\", 'b', 'c']\n",
    "une = lst + outra\n",
    "print(une)\n",
    "une[1] = lst             # a lista lst vira elemento de indice 1 em une\n",
    "print(une)\n",
    "print(une[1:4])          # uma fatia da lista une\n",
    "ele = une[1][2]          # pega elemento 1 de une e nele pega o elemento 2 \n",
    "print(ele)"
   ]
  },
  {
   "cell_type": "markdown",
   "metadata": {},
   "source": [
    "No ultimo exemplo observe algo que é padrão no Python: dado algum objeto você sempre pode invocar seus metodos ou demais propriedades. Ali o elemento `une[1]` é por acaso outra lista, então tudo que se aplica a uma lista também vale para este elemento, em particular ele é indexavel donde `une[1][2]` é perfeitamente válido."
   ]
  },
  {
   "cell_type": "markdown",
   "metadata": {},
   "source": [
    "Entre os muitos métodos aplicáveis a listas alguns são realmente da hora. Por exemplo frequentemente queremos saber se determinado objeto está numa lista ou não. Neste caso usamos o método **in** que funciona assim:"
   ]
  },
  {
   "cell_type": "code",
   "execution_count": null,
   "metadata": {
    "collapsed": false
   },
   "outputs": [],
   "source": [
    "print(L)\n",
    "'uma' in L         # 'uma' in L é uma expressão que necessariamente tem valor True ou False"
   ]
  },
  {
   "cell_type": "markdown",
   "metadata": {},
   "source": [
    "O operador **in** é um método da classe **list** e produz um resultado booleano, `True` ou `False`"
   ]
  },
  {
   "cell_type": "code",
   "execution_count": null,
   "metadata": {
    "collapsed": false
   },
   "outputs": [],
   "source": [
    "print(88 in L)            # será que 88 é membro de L?"
   ]
  },
  {
   "cell_type": "markdown",
   "metadata": {},
   "source": [
    "Python tem uma série de funções embutidas entre as quais todos conectivos de lógica booleana: `and`, `or` e `not`. Com isto podemos montar expressões mais complicadas, o que será muito útil para nossos algoritmos:"
   ]
  },
  {
   "cell_type": "code",
   "execution_count": null,
   "metadata": {
    "collapsed": false
   },
   "outputs": [],
   "source": [
    "'uma' in L and 777 in L       # uma conjunção de duas expressões lógicas"
   ]
  },
  {
   "cell_type": "code",
   "execution_count": null,
   "metadata": {
    "collapsed": false
   },
   "outputs": [],
   "source": [
    "1 in L and 88 in L"
   ]
  },
  {
   "cell_type": "code",
   "execution_count": null,
   "metadata": {
    "collapsed": false
   },
   "outputs": [],
   "source": [
    "not 88 in L             # não é o caso que 88 está na lista L?"
   ]
  },
  {
   "cell_type": "code",
   "execution_count": null,
   "metadata": {
    "collapsed": false
   },
   "outputs": [],
   "source": [
    "88 in L or 1 in L       # 88 na lista L OU 1 na lista L?"
   ]
  },
  {
   "cell_type": "markdown",
   "metadata": {},
   "source": [
    "Em suma, listas são tipos de dados que modelam bem a maioria dos conceitos que vamos encontrar em nossos problemas. "
   ]
  },
  {
   "cell_type": "markdown",
   "metadata": {},
   "source": [
    "# Tuples"
   ]
  },
  {
   "cell_type": "markdown",
   "metadata": {},
   "source": [
    "Tuples (enuplas) são sequências ordenadas e *imutáveis* de quaisquer objetos. O que torna tuples diferentes de listas é serem imutáveis, como os strings. Uma vez criada uma tupla seus elementos não podem mais ser modificados. Como listas, as tuplas são indexadas e podem ser fatiadas.\n",
    "\n",
    "Tuplas são úteis para devolver resultados de funções, armazenar constantes e são mais rápidas que listas.\n",
    "\n",
    "Tuplas podem ser construidas com elementos em fila separados por virgulas e entre parênteses:"
   ]
  },
  {
   "cell_type": "code",
   "execution_count": null,
   "metadata": {
    "collapsed": false
   },
   "outputs": [],
   "source": [
    "tup = ('a', 'b', 'c')          # constroi uma tupla usando 3 elementos\n",
    "tup"
   ]
  },
  {
   "cell_type": "code",
   "execution_count": null,
   "metadata": {
    "collapsed": false
   },
   "outputs": [],
   "source": [
    "t = ()          # constroi uma tupla vazia. existem casos onde isto é útil.\n",
    "t"
   ]
  },
  {
   "cell_type": "code",
   "execution_count": null,
   "metadata": {
    "collapsed": false
   },
   "outputs": [],
   "source": [
    "tup[1]            # tuplas são indexadas"
   ]
  },
  {
   "cell_type": "code",
   "execution_count": null,
   "metadata": {
    "collapsed": false
   },
   "outputs": [],
   "source": [
    "tup[1:]            # tuplas podem ser fatiadas"
   ]
  },
  {
   "cell_type": "code",
   "execution_count": null,
   "metadata": {
    "collapsed": false
   },
   "outputs": [],
   "source": [
    "'b' in tup         # tuplas tem metodo de busca, como em listas"
   ]
  },
  {
   "cell_type": "code",
   "execution_count": null,
   "metadata": {
    "collapsed": false
   },
   "outputs": [],
   "source": [
    "'d' in tup"
   ]
  },
  {
   "cell_type": "markdown",
   "metadata": {},
   "source": [
    "Também existe uma função criadora de tuplas usando outros tipos de dados como argumento. Igual ao que vimos em listas."
   ]
  },
  {
   "cell_type": "code",
   "execution_count": null,
   "metadata": {
    "collapsed": false
   },
   "outputs": [],
   "source": [
    "t = tuple('ab7d89')      # cria tupla a partir de um string\n",
    "t"
   ]
  },
  {
   "cell_type": "code",
   "execution_count": null,
   "metadata": {
    "collapsed": false
   },
   "outputs": [],
   "source": [
    "t1 = 'a', 'b', 42, 'd'   # tuplas podem ser criadas de fila de objetos separados por virgulas\n",
    "t1"
   ]
  },
  {
   "cell_type": "markdown",
   "metadata": {},
   "source": [
    "## Range"
   ]
  },
  {
   "cell_type": "markdown",
   "metadata": {},
   "source": [
    "Range é um tipo de dados bastante útil que usaremos muito para contagem de repetições. Essencialmente um range \"conta\", incrementando a contagem por 1 cada vez que o objeto é acionado e termina a contagem qundo chegar a um valor determinado.\n",
    "\n",
    "Um objeto **range** é construido por uma expressão que dá o número final da contagem e, opcionalmente, o número inicial (seu default é zero) e um \"passo\" ou incremento da contagem (seu default é 1)."
   ]
  },
  {
   "cell_type": "code",
   "execution_count": null,
   "metadata": {
    "collapsed": false
   },
   "outputs": [],
   "source": [
    "list(range(10))   # vai criar uma lista com os valores da contagem um a um"
   ]
  },
  {
   "cell_type": "code",
   "execution_count": null,
   "metadata": {
    "collapsed": false
   },
   "outputs": [],
   "source": [
    "list(range(21,27,2))     # começando em 21, conte até 27 de 2 em 2"
   ]
  },
  {
   "cell_type": "code",
   "execution_count": null,
   "metadata": {
    "collapsed": false
   },
   "outputs": [],
   "source": [
    "list(range(100, 70, -10)) # contagem decrescente de 100 a 70 contando de 10 em 10"
   ]
  },
  {
   "cell_type": "markdown",
   "metadata": {},
   "source": [
    "E com isto termina esta lição. Na próxima veremos os tipos de dados **set** e **dict** e começaremos com comandos."
   ]
  }
 ],
 "metadata": {
  "kernelspec": {
   "display_name": "Python 3",
   "language": "python",
   "name": "python3"
  },
  "language_info": {
   "codemirror_mode": {
    "name": "ipython",
    "version": 3
   },
   "file_extension": ".py",
   "mimetype": "text/x-python",
   "name": "python",
   "nbconvert_exporter": "python",
   "pygments_lexer": "ipython3",
   "version": "3.5.1"
  }
 },
 "nbformat": 4,
 "nbformat_minor": 0
}
