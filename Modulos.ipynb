{
 "cells": [
  {
   "cell_type": "markdown",
   "metadata": {},
   "source": [
    "# Módulos, try-except-raise e outros"
   ]
  },
  {
   "cell_type": "markdown",
   "metadata": {},
   "source": [
    "## modulos"
   ]
  },
  {
   "cell_type": "markdown",
   "metadata": {},
   "source": [
    "Programas em Python são salvos em arquivos com terminação \".py\" Além de programas podemos também armazenar nesta forma funções ou coleções de funções.\n",
    "\n",
    "Coleções de funções salvas em arquivos .py são chamadas de módulos (**modules**).\n",
    "\n",
    "Coleções de módulos podem ser agrupadas em bibliotecas chamadas de **packages** (pacotes). \n",
    "\n",
    "O Python dispões de uma vasta coleção de módulos, centenas se não milhares deles em domínio público. Estes módulos são resultado do trabalho voluntário de milhares de programadores e especialistas nas mais diversas áreas do conhecimento. Mais detalhes sobre módulos podem ser vistos na [documentação oficial](https://docs.python.org/3.5/tutorial/modules.html) do Python.\n",
    "\n",
    "Para saber quais packages já estão instalados em sua máquina você pode usar o seguinte comando:\n"
   ]
  },
  {
   "cell_type": "code",
   "execution_count": null,
   "metadata": {
    "collapsed": false
   },
   "outputs": [],
   "source": [
    "import pip\n",
    "sorted([\"%s==%s\" % (i.key, i.version) for i in pip.get_installed_distributions()])"
   ]
  },
  {
   "cell_type": "markdown",
   "metadata": {},
   "source": [
    "Como saber quais pacotes existem disponíveis? Uma lista de packages [pode ser vista aqui](https://pypi.python.org/pypi/?).\n",
    "Entretanto na prática é mais fácil consultar o Google com palavras chave \"Python o_que_quero_fazer\". Provavelmente alguem já teve sua dúvida e postou informação e pistas.\n",
    "\n",
    "Quando você instalou Anaconda um monte de packages vieram junto. Neste curso precisaremos ocasionalmente de pacotes que não tenham sido instalados, neste caso a instalação manual é a solução. Se um package desejado não estiver instalado em sua máquina você pode instalar usando o comando\n",
    "\n",
    "```python\n",
    "pip install pacote_desejado\n",
    "```\n",
    "\n",
    "---\n"
   ]
  },
  {
   "cell_type": "markdown",
   "metadata": {},
   "source": [
    "Para um dado módulo ou package ser útil é necessário verificar em sua documentação quais as funções incluidas e como usá-las. \n",
    "\n",
    "Módulos podem ser importados por outros programas ou módulos, usando o comando **import** seguido do nome do módulo a ser importado. Uma vez importado um módulo todas as suas funções ficam habilitadas para chamadas dentro do programa que as importou. A sintaxe genérica para tais chamadas é *nome_do_modulo.nome_da_função()*.\n",
    "\n",
    "Existem dois modos de importar um módulo ou só parte de suas funções. A maneira de importar tudo que o módulo contem é usar o comando **import** seguido do nome do módulo. Por exemplo um módulo importante é chamado **os.py** e contém muitas funções para manipular o sistema operacional, diretórios e arquivos. Usamos êle em muitos scripts Python. Eis como importá-lo:"
   ]
  },
  {
   "cell_type": "code",
   "execution_count": null,
   "metadata": {
    "collapsed": false
   },
   "outputs": [],
   "source": [
    "import os\n",
    "\n",
    "# note que se omite a terminação \".py\" no comando acima\n",
    "# Tendo importado os.py posso chamar suas funções. Por exe. qual é nosso diretório atual?\n",
    "os.getcwd()"
   ]
  },
  {
   "cell_type": "markdown",
   "metadata": {},
   "source": [
    "O módulo **os.py** contém muitos objetos os quais tem métodos (funções associadas) que podem ser chamados por sua vez. Por exemplo um objeto interno é o **path** o qual contém muitas funções úteis para manipular caminhos na estrutura de diretórios. "
   ]
  },
  {
   "cell_type": "code",
   "execution_count": null,
   "metadata": {
    "collapsed": false
   },
   "outputs": [],
   "source": [
    "s = os.getcwd()      # caminho do diretório atual\n",
    "nome = 'rule.html'   # nome de um arquivo que deveria estar aqui\n",
    "\n",
    "# quero ver se este arquivo existe neste diretório\n",
    "# primeiro formo um caminho até ele\n",
    "fpath = os.path.join(s,nome)\n",
    "print(fpath)\n",
    "print()              # imprime linha em branco para maior clareza\n",
    "\n",
    "# agora uso outra função do os: testa se fpath é um arquivo ou não\n",
    "if os.path.isfile(fpath):\n",
    "    print('Arquivo ' + nome + ' existe.')\n",
    "else:\n",
    "    print('Arquivo não encontrado.')"
   ]
  },
  {
   "cell_type": "markdown",
   "metadata": {},
   "source": [
    "\n",
    "---\n",
    "\n",
    "A outra forma de importar funções é quando não queremos importar um módulo inteiro mas somente uma ou algumas das funções do módulo. Isto pode ser útil quando importamos muitos módulos num script e queremos evitar o problema de *colisão de nomes*. \n",
    "\n",
    "Ocorre colisão de nomes quando importamos um módulo no qual existe uma função que, para azar nosso, tem o mesmo nome de uma função já importada. Isto não é tão improvável assim, programadores tem tendência de usar certos tipos de nome com frequência e colisões não são impossiveis. Havendo colisão pode ocorrer um êrro (exceção) ou pode ocorrer superposição das funções de modo que só a última importada permanece visível.\n",
    "\n",
    "Enfim, eis a sintaxe desta outra forma de importar funções: **From** *modulo* **import** *nome_função*\n",
    "\n",
    "---\n",
    "\n",
    "O módulo **shutil** contém funções muito úteis para manipular arquivos e diretórios (copiar, mover, etc). Digamos que queremos copiar um diretório inteiro, com todos seus arquivos e seus subdiretórios para um novo caminho. A função que faz isto pode ser importada de shutil assim:"
   ]
  },
  {
   "cell_type": "code",
   "execution_count": null,
   "metadata": {
    "collapsed": true
   },
   "outputs": [],
   "source": [
    "from shutil import copytree\n",
    "\n",
    "# agora use a função copytree.....\n"
   ]
  },
  {
   "cell_type": "markdown",
   "metadata": {},
   "source": [
    "## erros"
   ]
  },
  {
   "cell_type": "markdown",
   "metadata": {},
   "source": [
    "Erros são inevitáveis. Obviamente erros básicos em programas podem ser eliminados ou reduzidos atráves de analise dos algorítmos e bastante testes, mas há erros muito difíceis de eliminar que são gerados fora dos programas. \n",
    "\n",
    "1. Por exemplo, um script correto vai baixar uma página de uma url mas o site remoto não responde. Ou a comunicação interrompe subitamente no meio do processo. Ou a página foi removida do site mas o usuário do script não sabe disso.\n",
    "\n",
    "2. Um arquivo é lido mas seu conteúdo contém caracteres não-interpretáveis na codificação corrente da nossa máquina. O leitor de arquivos não sabe o que fazer com aquilo e gera uma exceção (um êrro) para nos avisar do ocorrido.\n",
    "\n",
    "E assim por diante. Normalmente os programas são feitos para gerar (lançat) uma *exceção* quando detetam uma situação assim. A exceção ou **exception** é um objeto gerado pelo programa que detetou anormalidade e o usuário pode interrogar tal objeto para saber o que houve e o que fazer a respeito.\n",
    "\n",
    "Como a maioria das linguagens procedurais modernas o Python possue um jeito de capturar exceções (**exception**) para permitir gerenciar o desastre. É o comando **try - except** cuja sintaxe é assim:\n",
    "\n",
    "**try:**\n",
    "   *bloco de comandos onde pode surgir uma exceção*\n",
    "   \n",
    "**except** *tipo de exceção a capturar*:\n",
    "   *bloco de comandos para tratar a exceção*\n",
    "\n",
    "O primeiro bloco de comandos, sob o **try**, é onde o programador prevê que pode ser gerada uma ou mais exceções. O comando seguinte do par, o **except**, nomeia o tipo do objeto exceção que deve ser capturado, se ocorrer, e é seguido por outro bloco de comandos (tipicamente um print() detalhando o erro para um usuário do programa) para tratar a exceção.\n",
    "\n"
   ]
  },
  {
   "cell_type": "code",
   "execution_count": null,
   "metadata": {
    "collapsed": false
   },
   "outputs": [],
   "source": [
    "# tenta baixar página html de uma url dada\n",
    "import requests\n",
    "try:\n",
    "    res = requests.get('http://google.com')        \n",
    "except requests.exceptions.HTTPError as e:     # captura exceções tipo HTTPError geradas pelo pacote requests\n",
    "    print(e)           # imprime mensagem de erro\n",
    "    "
   ]
  },
  {
   "cell_type": "code",
   "execution_count": null,
   "metadata": {
    "collapsed": false
   },
   "outputs": [],
   "source": [
    "# le um numero do teclado mas usuário pode digitar letras, etc\n",
    "try:\n",
    "    print('digite um número')\n",
    "    n = int(input())\n",
    "    print(n)\n",
    "except ValueError:\n",
    "    print('caracter inválido foi digitado')"
   ]
  },
  {
   "cell_type": "markdown",
   "metadata": {},
   "source": [
    "No ultimo exemplo a exceção era um objeto tipo ValueError, gerado pela função **int()**. Em geral como saber quais exceções devemos capturar?\n",
    "\n",
    "Não há regra fixa, isto depende de quem programou a função e normalmente deveria ser descrito na documentação da mesma. Existe uma classe basica chamada **Exception** da qual são derivadas muitas exceções mas de modo geral procure saber o que capturar lendo a documentação das funções que usar.\n",
    "\n",
    "Alguns tipos de exceções nativas do Python podem ser vistas na sua [documentação oficial](https://docs.python.org/2/library/exceptions.html#bltin-exceptions).\n",
    "\n",
    "Outras exceções podem ser criadas pelo programador de determinada função e ele fica livre de faze-las do jeito que quiser. Para criar e lançar uma exceção o programador usa um comando **raise** mas isto não nos interessa no momento. \n",
    "\n",
    "Mais detalhes sobre o comando **raise** podem ser vistos nos [docs oficiais](https://docs.python.org/3.5/tutorial/errors.html#exceptions).\n",
    "\n"
   ]
  },
  {
   "cell_type": "markdown",
   "metadata": {},
   "source": [
    "## Leitura de arquivos"
   ]
  },
  {
   "cell_type": "markdown",
   "metadata": {
    "collapsed": true
   },
   "source": [
    "Para ler ou escrever em arquivos usaremos bastante a função `open()` nativa do Python. O que esta função faz é somente [*abrir um arquivo*](https://docs.python.org/3/library/functions.html#open) para poder manipular seu conteúdo. A leitura ou escrita são feitos por outros módulos.\n",
    "\n",
    "Tendo lido ou escrito em um arquivo devemos sempre *fechá-lo* novamente pois arquivos mantidos abertos drenam recursos do sistema.\n",
    "\n",
    "Vejamos um exemplo. Vamos criar um arquivo texto \"vinicius.txt\", escrever nele um conteúdo e fechá-lo.\n"
   ]
  },
  {
   "cell_type": "code",
   "execution_count": null,
   "metadata": {
    "collapsed": true
   },
   "outputs": [],
   "source": [
    "texto = r'Não comerei da alface a verde pétala  \\\n",
    "Nem da cenoura as hóstias desbotadas  \\\n",
    "Deixarei as pastagens às manadas  \\\n",
    "E a quem maior aprouver fazer dieta.'\n",
    "\n",
    "name = 'vinicius.txt'\n",
    "file = open(name, 'w')         # abrir arquivo para escrita 'w'\n",
    "file.write(texto)\n",
    "file.close()"
   ]
  },
  {
   "cell_type": "markdown",
   "metadata": {},
   "source": [
    "Agora vamos ler o arquivo e verificar seu conteúdo"
   ]
  },
  {
   "cell_type": "code",
   "execution_count": null,
   "metadata": {
    "collapsed": false
   },
   "outputs": [],
   "source": [
    "file = open(name, 'r')\n",
    "s = file.read()\n",
    "file.close()\n",
    "s"
   ]
  },
  {
   "cell_type": "markdown",
   "metadata": {},
   "source": [
    "Uma outra forma de manipular arquivos é com o comando [**with**](https://docs.python.org/3.5/reference/compound_stmts.html#with). Não é necessário fechar o arquivo, o comando **with** faz isto."
   ]
  },
  {
   "cell_type": "code",
   "execution_count": null,
   "metadata": {
    "collapsed": false
   },
   "outputs": [],
   "source": [
    "with open(name, 'r') as f:\n",
    "    txt = f.read()\n",
    "\n",
    "txt   "
   ]
  },
  {
   "cell_type": "markdown",
   "metadata": {},
   "source": [
    "## Criando seu próprio módulo"
   ]
  },
  {
   "cell_type": "markdown",
   "metadata": {},
   "source": [
    "Procedimentos que você criou usando o IDLE interativamente tambem podem ser salvos em arquivos **.py** para uso posterior como qualquer outro módulo do Python.\n",
    "\n",
    "Por exemplo, vamos usar um exemplo visto acima para verificar se um arquivo está no diretório corrente:\n",
    "\n",
    "```python\n",
    "import os\n",
    "\n",
    "# leia o nome de um arquivo para verificar se está neste diretório\n",
    "print('Entre nome do arquivo:')\n",
    "nome = input()  \n",
    "\n",
    "s = os.getcwd()      # caminho do diretório atual\n",
    "\n",
    "# quero ver se este arquivo existe neste diretório\n",
    "# primeiro formo um caminho até ele\n",
    "fpath = os.path.join(s,nome)\n",
    "print(fpath)\n",
    "print()              # imprime linha em branco para maior clareza\n",
    "\n",
    "# agora uso outra função do os: testa se fpath é um arquivo ou não\n",
    "if os.path.isfile(fpath):\n",
    "    print('Arquivo ' + nome + ' existe.')\n",
    "else:\n",
    "    print('Arquivo não encontrado.')\n",
    "```\n"
   ]
  },
  {
   "cell_type": "markdown",
   "metadata": {},
   "source": [
    "Para criar um módulo com este script abra o IDLE e no menu selecione File\\New. Uma nova janela vazia é aberta, pronta para receber um script Python.\n",
    "\n",
    "Digite o script acima (ou use copy\\paste, tanto faz) nesta janela. \n",
    "\n",
    "Depois basta clicar no menu File\\Save, digitar um nome para o modulo e salvar como arquivo **.py**. Digamos, \"exemplo.py\".\n",
    "\n",
    "---\n",
    "\n",
    "Se você associou arquivos tipo **.py** com o IDLE, basta clicar em *exemplo.py*, o que fará abrir o IDLE e carregar nosso procedimento numa janela. Após isto clique **F5** (ou menu Run\\Run module) para executar o script.\n",
    "\n"
   ]
  },
  {
   "cell_type": "markdown",
   "metadata": {},
   "source": [
    "## Chamando seu módulo na linha de comando"
   ]
  },
  {
   "cell_type": "markdown",
   "metadata": {},
   "source": [
    "Ocasionalmente você gostaria, ou necessita, executar seu script invocando-o na janela de comando do Windows (ou Linux). \n",
    "\n",
    "Isto pode ser feito assim, para um módulo chamado *kmeans.py* (usado em Machine Learning, veremos mais adiante):\n",
    "\n",
    "![title](https://dl.dropboxusercontent.com/u/50004393/kmeans.png)\n"
   ]
  }
 ],
 "metadata": {
  "kernelspec": {
   "display_name": "Python 3",
   "language": "python",
   "name": "python3"
  },
  "language_info": {
   "codemirror_mode": {
    "name": "ipython",
    "version": 3
   },
   "file_extension": ".py",
   "mimetype": "text/x-python",
   "name": "python",
   "nbconvert_exporter": "python",
   "pygments_lexer": "ipython3",
   "version": "3.5.1"
  }
 },
 "nbformat": 4,
 "nbformat_minor": 0
}
