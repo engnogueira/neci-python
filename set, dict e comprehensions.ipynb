{
 "cells": [
  {
   "cell_type": "markdown",
   "metadata": {},
   "source": [
    "# Set, dict e alguns tópicos avançados de list"
   ]
  },
  {
   "cell_type": "markdown",
   "metadata": {},
   "source": [
    "Vimos conceitos básicos de alguns tipos de dados nativos do Python, **string, list** e **tuple**. Vale lembrar que **list** é um tipo de dados super poderoso e que usaremos frequentemente. Por isto gaste algum tempo nos documentos oficiais do Python vendo as muitas [funções da classe list aqui](https://docs.python.org/3.5/tutorial/datastructures.html#more-on-lists).\n",
    "\n",
    "Neste notebook vamos conhecer outros dois tipos de dados:\n",
    "1. **set** que representa conjuntos\n",
    "2. **dict** que representa \"dicionários\", melhor explicado logo a seguir\n"
   ]
  },
  {
   "cell_type": "markdown",
   "metadata": {},
   "source": [
    "Relembrando, todos os tipos de dados possuem:\n",
    "1. uma coleção de métodos inerentes ao tipo, ou seja funções que podem ser chamadas colocando um ponto ao lado de referência a um objeto do tipo seguido do nome do método e argumentos entre parênteses\n",
    "2. diversas formas de construir objetos do tipo inclusive função \"nome_do_tipo\"():\n",
    "  1. **str(arg)** para string, onde arg = argumento\n",
    "  2. **tuple(arg)** para tuplas\n",
    "  3. **list(arg)** para listas"
   ]
  },
  {
   "cell_type": "code",
   "execution_count": null,
   "metadata": {
    "collapsed": false
   },
   "outputs": [],
   "source": [
    "s = str('abc')\n",
    "t = tuple('123')\n",
    "print(s,t)\n",
    "l = list()\n",
    "print(l)"
   ]
  },
  {
   "cell_type": "markdown",
   "metadata": {},
   "source": [
    "## set"
   ]
  },
  {
   "cell_type": "markdown",
   "metadata": {},
   "source": [
    "Este tipo de dados representa conjuntos, ou seja, coleções de elementos *quaisquer* não-ordenados e sem indexação. Como todo tipo de dados **set** também tem uma coleção de métodos associados e formas de construir suas instâncias."
   ]
  },
  {
   "cell_type": "code",
   "execution_count": null,
   "metadata": {
    "collapsed": false
   },
   "outputs": [],
   "source": [
    "c = set('abcdefgx')        # constroi conjunto a partir de umn string       \n",
    "c1 = set('dybkl')\n",
    "print(c)\n",
    "print(c1)\n",
    "c2 = {'d', 'e', 'r', 'w'}   # constroi conjunto usando fila de elementos entre chaves \n",
    "print(c2)"
   ]
  },
  {
   "cell_type": "markdown",
   "metadata": {},
   "source": [
    "Vejamos alguns métodos de **set**:"
   ]
  },
  {
   "cell_type": "code",
   "execution_count": null,
   "metadata": {
    "collapsed": false
   },
   "outputs": [],
   "source": [
    "d = set()           # constroi um conjunto vazio\n",
    "d.add(1)            # note que d é modificado\n",
    "d"
   ]
  },
  {
   "cell_type": "code",
   "execution_count": null,
   "metadata": {
    "collapsed": false
   },
   "outputs": [],
   "source": [
    "d.add(2)\n",
    "d"
   ]
  },
  {
   "cell_type": "code",
   "execution_count": null,
   "metadata": {
    "collapsed": false
   },
   "outputs": [],
   "source": [
    "d.add(1)\n",
    "d"
   ]
  },
  {
   "cell_type": "markdown",
   "metadata": {},
   "source": [
    "Hm, observe que um conjunto **não** repete elementos, ou seja só elementos únicos podem ser membros.\n",
    "\n",
    "Vejamos operações tradicionais de conjuntos, que em Python são representadas por operadores matemáticos:"
   ]
  },
  {
   "cell_type": "code",
   "execution_count": null,
   "metadata": {
    "collapsed": false
   },
   "outputs": [],
   "source": [
    "c - c1      # elementos de c que não estão em c1 (complemento em conjuntos)"
   ]
  },
  {
   "cell_type": "code",
   "execution_count": null,
   "metadata": {
    "collapsed": false
   },
   "outputs": [],
   "source": [
    "c | c1      # elementos de c e elementos de c1 (união dos conjuntos)"
   ]
  },
  {
   "cell_type": "code",
   "execution_count": null,
   "metadata": {
    "collapsed": false
   },
   "outputs": [],
   "source": [
    "c & c1      # elementos em c e em c1 (interseção de conjuntos)"
   ]
  },
  {
   "cell_type": "code",
   "execution_count": null,
   "metadata": {
    "collapsed": false
   },
   "outputs": [],
   "source": [
    "c ^ c1       # elementos em c ou em c1 mas não em ambos (complemento da interseção)"
   ]
  },
  {
   "cell_type": "markdown",
   "metadata": {},
   "source": [
    "Estas operações de conjuntos também podem ser efetivadas por métodos de nomes sugestivos:"
   ]
  },
  {
   "cell_type": "code",
   "execution_count": null,
   "metadata": {
    "collapsed": false
   },
   "outputs": [],
   "source": [
    "c.union(c1)"
   ]
  },
  {
   "cell_type": "code",
   "execution_count": null,
   "metadata": {
    "collapsed": false
   },
   "outputs": [],
   "source": [
    "c.intersection(c1)"
   ]
  },
  {
   "cell_type": "code",
   "execution_count": null,
   "metadata": {
    "collapsed": false
   },
   "outputs": [],
   "source": [
    "c.difference(c1)"
   ]
  },
  {
   "cell_type": "code",
   "execution_count": null,
   "metadata": {
    "collapsed": false
   },
   "outputs": [],
   "source": [
    "c.symmetric_difference(c1)"
   ]
  },
  {
   "cell_type": "markdown",
   "metadata": {},
   "source": [
    "Elementos podem ser removidos pelo metodo `discard()` com o elemento de argumento:"
   ]
  },
  {
   "cell_type": "code",
   "execution_count": null,
   "metadata": {
    "collapsed": false
   },
   "outputs": [],
   "source": [
    "g = c - c1\n",
    "g.discard('e')\n",
    "g"
   ]
  },
  {
   "cell_type": "markdown",
   "metadata": {},
   "source": [
    "O método **in** funciona também em **set** e é uma grande mão na roda:"
   ]
  },
  {
   "cell_type": "code",
   "execution_count": null,
   "metadata": {
    "collapsed": false
   },
   "outputs": [],
   "source": [
    "'x' in g"
   ]
  },
  {
   "cell_type": "code",
   "execution_count": null,
   "metadata": {
    "collapsed": false
   },
   "outputs": [],
   "source": [
    "'e' in g"
   ]
  },
  {
   "cell_type": "markdown",
   "metadata": {},
   "source": [
    "Outros métodos deste tipo de dados podem ser vistos na documentação oficial do Python 3. \n",
    "\n",
    "E para que servem conjuntos? Conjuntos são uma forma útil de raciocinar e modelar um procedimento sempre que temos uma coleção de entidades de interesse na qual a ordem das entidades é irrelevante."
   ]
  },
  {
   "cell_type": "markdown",
   "metadata": {},
   "source": [
    "## dict"
   ]
  },
  {
   "cell_type": "markdown",
   "metadata": {},
   "source": [
    "Este tipo de dados modela \"dicionários\". Dicionários são conjuntos de pares **chave-valor**, ou seja temos alí um conjunto de valores e a cada um destes valores existe uma chave **única** associada, formando um conjunto de chaves. \n",
    "\n",
    "Dicionários são modificáveis, obedecendo as seguintes regras:\n",
    "1. valores podem ser alterados à vontade\n",
    "2. chaves não podem ser modificadas \n",
    "3. pares chave-valor podem ser removídos\n",
    "4. pares chave-valor podem ser adicionados *desde que a chave seja única*.\n",
    "\n",
    "Python otimiza muito dicionários para fazer buscas por chave. Achar um valor dada sua chave é bem rápido mesmo para dicionários muito grandes. Por outro lado dado um valor achar sua(s) chave(s) associada(s) pode ser lento.\n"
   ]
  },
  {
   "cell_type": "code",
   "execution_count": null,
   "metadata": {
    "collapsed": false
   },
   "outputs": [],
   "source": [
    "di = dict()    #cria um dicionário vazio\n",
    "print(di)\n",
    "di['cor'] = 'azul'    # assim se adiciona um par chave-valor\n",
    "di"
   ]
  },
  {
   "cell_type": "code",
   "execution_count": null,
   "metadata": {
    "collapsed": false
   },
   "outputs": [],
   "source": [
    "outro_dic = {'cargo':'deputado', 'partido': 'PRONA', 'bancada': 'Bala'}  # outra forma de construir dicionario\n",
    "outro_dic"
   ]
  },
  {
   "cell_type": "markdown",
   "metadata": {},
   "source": [
    "Para remover um item do dicionário pode ser usada a função `del()` do Python:"
   ]
  },
  {
   "cell_type": "code",
   "execution_count": null,
   "metadata": {
    "collapsed": false
   },
   "outputs": [],
   "source": [
    "tmp = {1:'a', 2:'b', 3:'c',4:'lixo'}      # desejo remover o item com chave == 4\n",
    "del(tmp[4])\n",
    "tmp"
   ]
  },
  {
   "cell_type": "markdown",
   "metadata": {},
   "source": [
    "Para usar o operador **in** precisamos especificar se queremos procurar nas chaves ou nos valores:"
   ]
  },
  {
   "cell_type": "code",
   "execution_count": null,
   "metadata": {
    "collapsed": false
   },
   "outputs": [],
   "source": [
    "'PRONA' in outro_dic.values()"
   ]
  },
  {
   "cell_type": "code",
   "execution_count": null,
   "metadata": {
    "collapsed": false
   },
   "outputs": [],
   "source": [
    "'PRONA' in outro_dic.keys()"
   ]
  },
  {
   "cell_type": "code",
   "execution_count": null,
   "metadata": {
    "collapsed": false
   },
   "outputs": [],
   "source": [
    "'cor' in di.keys()"
   ]
  },
  {
   "cell_type": "markdown",
   "metadata": {},
   "source": [
    "Tanto dict.keys() quanto dict.values() retornam listas dos respectivos dados e por isto o operador **in** funciona como esperado.\n",
    "\n",
    "Outro componente dos dicionários é o objeto dict.items(), que permite examinar todos pares chave-valor:"
   ]
  },
  {
   "cell_type": "code",
   "execution_count": null,
   "metadata": {
    "collapsed": false
   },
   "outputs": [],
   "source": [
    "outro_dic.items()"
   ]
  },
  {
   "cell_type": "code",
   "execution_count": null,
   "metadata": {
    "collapsed": false
   },
   "outputs": [],
   "source": [
    "list(outro_dic.items())[2]      # transforma dict_items numa lista e extrai o item de indice 2"
   ]
  },
  {
   "cell_type": "code",
   "execution_count": null,
   "metadata": {
    "collapsed": false
   },
   "outputs": [],
   "source": [
    "list(outro_dic.items())[2][1]   # quero somente o cargo  "
   ]
  },
  {
   "cell_type": "markdown",
   "metadata": {},
   "source": [
    "Dicionários são utilíssimos e possuem um monte de métodos associados. Como sempre consulte a documentação oficial do Python na medida do necessário.\n",
    "\n",
    "Em particular existe um método embutido no Python chamado `zip()` que permite \"zipar\" duas listas criando uma nova lista de pares, perfeito para criar um dicionário."
   ]
  },
  {
   "cell_type": "code",
   "execution_count": null,
   "metadata": {
    "collapsed": false
   },
   "outputs": [],
   "source": [
    "cores = ['azul', 'amarelo','verde', 'vermelho','laranja', 'preto','branco']\n",
    "chaves = [1,2,3,4,5,6,7]\n",
    "dic = dict(zip(chaves, cores))\n",
    "print(dic)"
   ]
  },
  {
   "cell_type": "markdown",
   "metadata": {},
   "source": [
    "Onde isto é útil? Por exemplo imagine que lemos um arquivo Excel ou tabela de banco de dados extraindo diversas colunas com centenas de itens que queremos manipular. Usando zip() montamos facilmente um dicionário e daí fazemos pesquisas rápidas sobre o conteúdo das colunas. Um pequeno e muito eficiente script, montado facilmente.\n",
    "\n",
    "Os valores num dicionário podem ser quelquer tipo de dado do Python, inclusive outros dicionários. Isto é muito da hora, como veremos bem mais adiante em web scraping de dados do Legislativo."
   ]
  },
  {
   "cell_type": "markdown",
   "metadata": {},
   "source": [
    "## Tópicos (um pouco) avançados"
   ]
  },
  {
   "cell_type": "markdown",
   "metadata": {},
   "source": [
    "Listas são nosso principal instrumento de trabalho. Listas modelam perfeitamente o paradigma onde temos um conjunto de elementos, possivelmente ordenados, e queremos aplicar algum procedimento em cada um destes elementos sucessivamente.\n",
    "\n",
    "Python possue um conceito útil para isto, que como tudo que é bom deve ser usado, mas com moderação. Este conceito é chamado de *comprehensions* e se você achar que lembra *lambda expressions* isto não é coincidência.\n",
    "\n",
    "Vejamos primeiro este conceito aplicado em listas, ou seja, **list comprehension**.\n",
    "\n",
    "Em essência um list comprehension é uma expressão onde aplicamos uma função qualquer em cada elemento de uma lista dada, colocando o resultado numa nova lista que será o valor retornado pela expressão.\n",
    "\n",
    "Exemplos explicam melhor:"
   ]
  },
  {
   "cell_type": "code",
   "execution_count": null,
   "metadata": {
    "collapsed": false
   },
   "outputs": [],
   "source": [
    "L = [1, 7, 3, 11]                   # quero uma lista onde cada elemento de L foi multiplicado por 3\n",
    "l = [ele * 3 for ele in L]          # a expressão na direita da igualdade é o list comprehension desejado\n",
    "l"
   ]
  },
  {
   "cell_type": "markdown",
   "metadata": {},
   "source": [
    "No exemplo acima *ele* é uma variável, o nome não importa, poderia ser *x* ou *elemento* ou qualquer outro. O *comprehension* é a expressão entre chaves no lado direito. Uma lista, portanto. \n",
    "\n",
    "O primeiro termo `ele * 3` é a aplicação de uma função (no caso \"multiplique por 3\" mas pode ser qualquer coisa) num elemento genérico `ele`. \n",
    "\n",
    "E que elemento genérico é este? Isto é respondido pelas palavras reservadas `for` e `in`, ou seja \"...para cada *ele* em ...\". \n",
    "\n",
    "Em o que? Na lista L, o último termo desta expressão.\n",
    "\n",
    "---"
   ]
  },
  {
   "cell_type": "markdown",
   "metadata": {},
   "source": [
    "Podemos colocar restrições adicionais na lista sendo percorrida. Digamos que temos uma lista de números e queremos extrair dela uma lista dos que são números pares.\n",
    "\n",
    "Para saber se um número é par basta ver qual resto dá se dividido por 2. Se o resto for zero o número é par. Em Python a expressão é `n % 2` onde n é o número investigado.\n",
    "\n",
    "Uma expressão equivalente a pergunta \"o número *n* é par?\" poderia ser assim: `n % 2 == 0`, que é verdadeira ou é falsa para um dado *n*.\n",
    "\n",
    "Vejamos em Python:"
   ]
  },
  {
   "cell_type": "code",
   "execution_count": null,
   "metadata": {
    "collapsed": false
   },
   "outputs": [],
   "source": [
    "L = [33, 776, 12, 19, 5, 7]\n",
    "[x for x in L if x%2 == 0]       # lista dos x em L se (tais que) x é um número par"
   ]
  },
  {
   "cell_type": "markdown",
   "metadata": {},
   "source": [
    "Estas expressões também podem ser usadas com dicionários (**dict**) e com conjuntos (**set**).\n",
    "Vejamos exemplos de **dict comprehensions**, que são no mesmo espírito de listas:"
   ]
  },
  {
   "cell_type": "code",
   "execution_count": null,
   "metadata": {
    "collapsed": false
   },
   "outputs": [],
   "source": [
    "print(dic)                   # imprime o dicionario, pares chave-valor"
   ]
  },
  {
   "cell_type": "code",
   "execution_count": null,
   "metadata": {
    "collapsed": false
   },
   "outputs": [],
   "source": [
    "chave_par = {par for par in dic.keys() if par%2 == 0}     # percorre as chaves em dic.keys()\n",
    "chave_par"
   ]
  },
  {
   "cell_type": "code",
   "execution_count": null,
   "metadata": {
    "collapsed": false
   },
   "outputs": [],
   "source": [
    "dic[6] = 'azul'                 # muda valor na chave 6 para 'azul'\n",
    "dic"
   ]
  },
  {
   "cell_type": "code",
   "execution_count": null,
   "metadata": {
    "collapsed": false
   },
   "outputs": [],
   "source": [
    "valor_azul = {item for item in dic.items() if item[1] == 'azul'}  # extrai os itens com valor 'azul'\n",
    "valor_azul                # retorna um dicionario novo"
   ]
  },
  {
   "cell_type": "markdown",
   "metadata": {},
   "source": [
    "Vejamos exemplos de **set comprehensions**:"
   ]
  },
  {
   "cell_type": "code",
   "execution_count": 130,
   "metadata": {
    "collapsed": false
   },
   "outputs": [
    {
     "data": {
      "text/plain": [
       "{'banana', 3, 5}"
      ]
     },
     "execution_count": 130,
     "metadata": {},
     "output_type": "execute_result"
    }
   ],
   "source": [
    "A = {1, 2, 'banana', 3, 4, 5}           # conjunto A\n",
    "B = {'prata', 2, 7, 4, 8, 1}               # conjunto B\n",
    "# quero criar um conjunto com tudo de A que não está em B\n",
    "C = {x for x in A if not x in B}\n",
    "C"
   ]
  },
  {
   "cell_type": "markdown",
   "metadata": {},
   "source": [
    "\n",
    "---\n",
    "\n",
    "Só de distração, vamos *inverter* chaves e valores de nosso dicionário exemplo *tmp*. O resultado sera um novo dicionário.\n",
    "\n",
    "Parece complicado ou laborioso? Não é, se usarmos lambda expressões, isto é, comprehensions:"
   ]
  },
  {
   "cell_type": "code",
   "execution_count": null,
   "metadata": {
    "collapsed": false
   },
   "outputs": [],
   "source": [
    "print(tmp)"
   ]
  },
  {
   "cell_type": "code",
   "execution_count": null,
   "metadata": {
    "collapsed": false
   },
   "outputs": [],
   "source": [
    "{valor:chave for chave, valor in tmp.items()}"
   ]
  },
  {
   "cell_type": "markdown",
   "metadata": {},
   "source": [
    "How cool is that, heh?    \n",
    "<img src=\"http://www.cartoonaday.com/images/cartoons/2014/03/hacker-cartoon-laptop-390x220.jpg\">"
   ]
  },
  {
   "cell_type": "code",
   "execution_count": null,
   "metadata": {
    "collapsed": true
   },
   "outputs": [],
   "source": []
  }
 ],
 "metadata": {
  "kernelspec": {
   "display_name": "Python 3",
   "language": "python",
   "name": "python3"
  },
  "language_info": {
   "codemirror_mode": {
    "name": "ipython",
    "version": 3
   },
   "file_extension": ".py",
   "mimetype": "text/x-python",
   "name": "python",
   "nbconvert_exporter": "python",
   "pygments_lexer": "ipython3",
   "version": "3.5.1"
  }
 },
 "nbformat": 4,
 "nbformat_minor": 0
}
