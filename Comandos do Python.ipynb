{
 "cells": [
  {
   "cell_type": "markdown",
   "metadata": {},
   "source": [
    "# Contrôle da execução do programa"
   ]
  },
  {
   "cell_type": "markdown",
   "metadata": {},
   "source": [
    "Os comandos centrais do Python são muito parecidos com os pseudo-comandos que vimos antes na parte de pseudo código. \n",
    "Isto foi deliberado, visando tornar mais natural sua tradução de pseudo código para Python.\n",
    "\n",
    "Para relembrar, estes eram os pseudo-comandos vistos então:\n",
    "1. Atribuição:   x = 123\n",
    "2. Decisão:  **se** x **então:** (lista indentada com outros comandos para executar neste caso)\n",
    "3. Decisão com alternativa: **se** x **então:** (lista de comandos) **senão:** (outra lista de comandos)\n",
    "4. Repetição indefinida: **enquanto** condição: (lista de comandos)\n",
    "5. Repetição um número de vezes: **para cada** x numa lista: (lista de comandos)\n",
    "6. Quebra de loop de repetição: **break**\n",
    "\n",
    "Os comandos básicos de Python são muito parecidos.\n"
   ]
  },
  {
   "cell_type": "markdown",
   "metadata": {},
   "source": [
    "## atribuição"
   ]
  },
  {
   "cell_type": "code",
   "execution_count": null,
   "metadata": {
    "collapsed": false
   },
   "outputs": [],
   "source": [
    "x = 123     # variável x recebe o valor 123\n",
    "x"
   ]
  },
  {
   "cell_type": "code",
   "execution_count": null,
   "metadata": {
    "collapsed": false
   },
   "outputs": [],
   "source": [
    "x,y,z = 4,5,6     # podemos atribuir diversas variáveis num só passo\n",
    "print(x,y,z)"
   ]
  },
  {
   "cell_type": "code",
   "execution_count": null,
   "metadata": {
    "collapsed": false
   },
   "outputs": [],
   "source": [
    "a = 11            # modo elegante de trocar os valores de duas variáveis, coisa só (?) de Python mesmo\n",
    "b = 22\n",
    "print(a,b)\n",
    "b,a = a,b\n",
    "print(a,b)"
   ]
  },
  {
   "cell_type": "code",
   "execution_count": null,
   "metadata": {
    "collapsed": false
   },
   "outputs": [],
   "source": [
    "L = list(range(1,11))     # inicializar L com lista de valores numéricos\n",
    "L"
   ]
  },
  {
   "cell_type": "code",
   "execution_count": null,
   "metadata": {
    "collapsed": false
   },
   "outputs": [],
   "source": [
    "L = [x for x in range(1,10)]       # mas usar comprehension é mais Pythonista\n",
    "L"
   ]
  },
  {
   "cell_type": "markdown",
   "metadata": {},
   "source": [
    "## comandos de decisão"
   ]
  },
  {
   "cell_type": "markdown",
   "metadata": {},
   "source": [
    "Os comandos de decisão no Python são o **if** e seus casos com alternativas. \n",
    "\n",
    "A sintaxe básica deste comando é **if** condição: (lista indentada de comandos). \n",
    "Se a condição for verdadeira a lista de comandos passa a ser executada.\n",
    "\n",
    "A decisão com alternativa é  assim:\n",
    "\n",
    "**if** condição: (lista indentada de comandos) **else:** (outra lista de comandos)\n",
    "Neste caso se a condição for falsa, a lista de comandos após o **else** é que deve ser executada.\n",
    "\n",
    "Note que após executar uma lista de comandos a execução do programa continua **após** o **else** (e a sua outra lista de comandos).\n",
    "\n",
    "---\n",
    "\n",
    "Neste ponto vale ressaltar a importância sintática da *indentação* de comandos no Python. \n",
    "\n",
    "Como o interpretador sabe onde começa e termina uma determinada lista de comandos (\"bloco\" de comandos)?\n",
    "\n",
    "O que torna isto enrolado é que blocos podem ocorrer dentro de outros blocos e assim por diante. Em outras linguagens como C ou Java usa-se chaves {} para englobar listas de comandos que devem ser tratadas como um todo, ou bloco.\n",
    "\n",
    "No Python a sintaxe é muito mais leve, não existem chaves demarcadoras de blocos. Um bloco é simplesmente o conjunto de comandos que estão alinhados verticalmente. *Um bloco dentro de outro é definido dando uma indentação adicional nos comandos* e assim por diante.\n",
    "\n",
    "```python\n",
    "if x < 9:             # bloco externo contendo o if e o else\n",
    "    x = x + 1               # bloco interno executado se condição x < 9 for verdadeira\n",
    "    l = list('ababa')\n",
    "else:                 # bloco externo contendo o if e o else\n",
    "    x = 0                   # bloco interno executado se condição x < 9 for falsa\n",
    "    z = y + 2\n",
    "\n",
    "outro = 354           # bloco externo do if, else e comandos seguintes\n",
    "```\n",
    "De quantos espaçoes deve ser a identação de cada bloco? Não há uma regra, o default costuma ser 4 espaços ou o que for equivalente a uma tabulação (tab), mas deve ser consistente. Use o tab para indentar."
   ]
  },
  {
   "cell_type": "code",
   "execution_count": null,
   "metadata": {
    "collapsed": false
   },
   "outputs": [],
   "source": [
    "x = 0\n",
    "if x < 9:\n",
    "    x = x + 1\n",
    "    print('x é menor que 9')   # voce pode imprimir strings. Aliás, pode imprimir qualquer objeto."
   ]
  },
  {
   "cell_type": "code",
   "execution_count": null,
   "metadata": {
    "collapsed": false
   },
   "outputs": [],
   "source": [
    "if x > 0:\n",
    "    print('x é maior que zero')\n",
    "    x = x + 1\n",
    "else:\n",
    "    print('x é igual ou menor que zero')"
   ]
  },
  {
   "cell_type": "markdown",
   "metadata": {},
   "source": [
    "Existe ainda a decisão múltipla, onde queremos efetuar ações dependendo de diversas condições testadas em cadeia (nota: a ordem dos teste importa!):"
   ]
  },
  {
   "cell_type": "code",
   "execution_count": null,
   "metadata": {
    "collapsed": false
   },
   "outputs": [],
   "source": [
    "if x == 0:\n",
    "    print('x igual a zero')\n",
    "elif x == 1:                 # elif significa 'else if' e permite testar diversas alternativas em sequência\n",
    "    print('x igual a 1')\n",
    "elif x == 2:\n",
    "    print('x igual a 2')\n",
    "else:                         # else é usado como o caso final: não continuam alternativas após o else\n",
    "    print('caso imprevisto!')"
   ]
  },
  {
   "cell_type": "markdown",
   "metadata": {},
   "source": [
    "## repetição um número de vêzes"
   ]
  },
  {
   "cell_type": "markdown",
   "metadata": {},
   "source": [
    "O comando Python que equivale ao nosso pseudo-comando \"para cada\" é o **for** condição: (lista indentada de comandos). "
   ]
  },
  {
   "cell_type": "code",
   "execution_count": null,
   "metadata": {
    "collapsed": false
   },
   "outputs": [],
   "source": [
    "for x in range(1,4):            # percorre os numeros de 1 a 3 e imprime os\n",
    "    print(x)"
   ]
  },
  {
   "cell_type": "code",
   "execution_count": null,
   "metadata": {
    "collapsed": false
   },
   "outputs": [],
   "source": [
    "L = [1,4,7,9,5,2,1,8]            # imprime os numeros pares desta lista de numeros\n",
    "for n in L:\n",
    "    if n % 2 == 0:\n",
    "        print(n)"
   ]
  },
  {
   "cell_type": "code",
   "execution_count": null,
   "metadata": {
    "collapsed": false
   },
   "outputs": [],
   "source": [
    "cor = ['branco', 'azul','verde','vermelho','preto']     # a função len() dá o comprimento de um string\n",
    "for c in cor:\n",
    "    n = len(c)\n",
    "    print(c,n)"
   ]
  },
  {
   "cell_type": "code",
   "execution_count": null,
   "metadata": {
    "collapsed": false
   },
   "outputs": [],
   "source": [
    "s = 'abracadabra'          # quantas vezes a letra 'a' aparece no string?\n",
    "soma = 0\n",
    "for c in s:\n",
    "    if c == 'a':\n",
    "        soma = soma + 1\n",
    "print(soma)"
   ]
  },
  {
   "cell_type": "markdown",
   "metadata": {},
   "source": [
    "Vejamos um exemplo mais complexo. No exemplo vamos receber um texto como um string, separá-lo em palavras numa lista (isto é feito pelo método `split()` do tipo de dados string), aí percorrer esta lista examinando cada palavra e seu comprimento. Se o comprimento for o maior encontrado até então, lembra a palavra e o comprimento e continua o procedimento. No final da lista imprime a maior palavra e seu tamanho."
   ]
  },
  {
   "cell_type": "code",
   "execution_count": null,
   "metadata": {
    "collapsed": false
   },
   "outputs": [],
   "source": [
    "texto = '''Falhei em tudo.\n",
    "Como não fiz propósito nenhum, talvez tudo fosse nada.\n",
    "A aprendizagem que me deram,\n",
    "Desci dela pela janela das traseiras da casa.'''\n",
    "words = texto.split()                               # split() quebra um string nos whitespaces\n",
    "print(words)                                        # words é a lista de palavras do texto dado\n",
    "\n",
    "# agora quero achar a palavra mais comprida deste texto\n",
    "# seja maximo o comprimento da maior palavra encontrada em cada passo\n",
    "maximo = 0\n",
    "maior_palavra = ''\n",
    "for wd in words:\n",
    "    n = len(wd)\n",
    "    if n > maximo:\n",
    "        maximo = n\n",
    "        maior_palavra = wd\n",
    "print(maximo, maior_palavra)"
   ]
  },
  {
   "cell_type": "markdown",
   "metadata": {},
   "source": [
    "## break"
   ]
  },
  {
   "cell_type": "markdown",
   "metadata": {},
   "source": [
    "Com os dados do exemplo anterior vamos verificar se uma palavra dada ocorre no texto. Para isto faremos a busca e ao encontrar a palavra (se encontrar) usamos o comando **break** para pular fora da repetição. Experimente mudar a palavra."
   ]
  },
  {
   "cell_type": "code",
   "execution_count": null,
   "metadata": {
    "collapsed": false
   },
   "outputs": [],
   "source": [
    "pal = 'me'           # palavra a ser procurada no texto\n",
    "achei = False        # variavel com valor booleano True ou False. Indica se achamos a palavra no texto\n",
    "for w in words:\n",
    "    if w == pal:\n",
    "        achei = True\n",
    "        break\n",
    "if achei:\n",
    "    print('Achei a palavra')\n",
    "else:\n",
    "    print('Não consta')"
   ]
  },
  {
   "cell_type": "markdown",
   "metadata": {},
   "source": [
    "Agora um exemplo com um **for** dentro do bloco de outro. Dada uma lista de strings achar o string que tem mais repetições do digito 7."
   ]
  },
  {
   "cell_type": "code",
   "execution_count": null,
   "metadata": {
    "collapsed": false
   },
   "outputs": [],
   "source": [
    "lst = ['123','7','229977','8765', '17772', '345']\n",
    "st = ''            # o string com mais 7s\n",
    "max = 0            # maior numero de 7 achado\n",
    "for s in lst:      # percorre todos strings da lista dada\n",
    "    conta = 0            # numero de 7 em s\n",
    "    for c in s:          # neste loop percorremos os caracteres do string s em questão\n",
    "        if c == '7':\n",
    "            conta = conta + 1\n",
    "    if conta > max:      # Agora compara a contagem com o maximo já achado\n",
    "        max = conta\n",
    "        st = s\n",
    "print(max, st)"
   ]
  },
  {
   "cell_type": "markdown",
   "metadata": {},
   "source": [
    "## Repetição indefinida"
   ]
  },
  {
   "cell_type": "markdown",
   "metadata": {},
   "source": [
    "O comando Python que equivale ao nosso \"enquanto\" é o **while** condição: (lista indentada de comandos). Enquanto condição for verdadeira o bloco é repetido. \n",
    "\n",
    "Um comando de entrada do Python é o `input()` que lê um string digitado pelo usuário e retorna-o quando for digitado **enter**. O operador **!=** é usado para verificar se dois termos de uma expressão são *diferentes*. Assim:\n",
    "\n",
    "```python\n",
    "123 != 456    # o valor da expressão é True pois são termos diferentes\n",
    "78 != 78\n",
    "```"
   ]
  },
  {
   "cell_type": "code",
   "execution_count": null,
   "metadata": {
    "collapsed": false
   },
   "outputs": [],
   "source": [
    "s = input()         # enquanto não for digitado 'q' continue lendo entrada por teclado\n",
    "while s != 'q':\n",
    "    s = input()\n",
    "print('Fim.')       # se chegou aqui então um 'q' foi entrado"
   ]
  },
  {
   "cell_type": "markdown",
   "metadata": {},
   "source": [
    "## Alguns exemplos"
   ]
  },
  {
   "cell_type": "markdown",
   "metadata": {},
   "source": [
    "Vamos codificar em Python os exercícios propostos nas listas 1 e 2. \n",
    "\n",
    "Atenção: a função `input()` retorna um string mesmo que você digite um número. Para converter de string numérico em número use a função `int()` para inteiros ou `float()` para decimais.\n",
    "\n",
    "Como ainda não vimos definição de funções, navegação em diretórios nem leitura de arquivos vamos pular alguns exercícios. Por enquanto."
   ]
  },
  {
   "cell_type": "markdown",
   "metadata": {},
   "source": [
    "ex 1.1 Leia um número (use a função input). Calcule a soma dos quadrados de todos numeros inteiros de 1 até o numero lido. Imprima esta soma."
   ]
  },
  {
   "cell_type": "code",
   "execution_count": null,
   "metadata": {
    "collapsed": false
   },
   "outputs": [],
   "source": [
    "sn = input()    # le string numérico\n",
    "n = int(sn)     # converte para número\n",
    "soma = 0\n",
    "for i in range(1, n + 1):     # percorre os numeros de 1 a n inclusive\n",
    "    soma = soma + i * i      # acumula o quadrado de i em soma\n",
    "print('Soma dos quadrados =', soma)"
   ]
  },
  {
   "cell_type": "markdown",
   "metadata": {},
   "source": [
    "ex 1.4 Leia um string entrado pelo usuário e procure sub strings formados por letras 'a' consecutivas. Conte o tamanho de cada sub string e imprima o tamanho do maior deles.\n",
    "\n",
    "Comentário: este exemplo contém uma pegadinha sutil. Precisamos controlar cuidadosamente o início e o fim de cada segmento de 'a' consecutivos. Os eventos que devemos detetar são:\n",
    "1. estamos fora de segmento\n",
    "2. iniciou um segmento\n",
    "3. estamos dentro de um segmento\n",
    "4. terminou um segmento\n"
   ]
  },
  {
   "cell_type": "code",
   "execution_count": null,
   "metadata": {
    "collapsed": false
   },
   "outputs": [],
   "source": [
    "s = 'ababbnaaameirtooaaaaaaaoogaaaaheaaiiiinuaaaaaaattttaaaaaaaauuumaaa'   # o string fornecido\n",
    "maximo = 0              # tamanho do maior segmento de 'a'\n",
    "max_seg = ''            # o maior segmento de 'a's\n",
    "em_seg = False         # esta variavel será True se um segmento de 'a' esta sendo percorrido\n",
    "conta = 0               # comprimento do segmento corrente\n",
    "seg = ''                # o segmento de 'a's corrente\n",
    "for c in s:\n",
    "    if c == 'a':              \n",
    "        if not em_seg:  \n",
    "            em_seg = True         # inicio de um segmento\n",
    "            conta = 1\n",
    "            seg = 'a'\n",
    "        else:\n",
    "            conta = conta + 1   # estamos num segmento, então conta mais um 'a'\n",
    "            seg = seg + 'a'\n",
    "    else:                   # caracter lido não é um 'a'\n",
    "        if em_seg:\n",
    "            em_seg = False         # fim de um segmento\n",
    "            if conta > maximo:\n",
    "                maximo = conta\n",
    "                max_seg = seg\n",
    "            seg = ''            # reinicializa estas variáveis a cada fim de segmento\n",
    "            conta = 0\n",
    "print('Maior segmento encontrado =', max_seg, maximo)\n"
   ]
  },
  {
   "cell_type": "markdown",
   "metadata": {},
   "source": [
    "Chega por hoje. Na próxima vamos resolver os exercícios da lista 2 e introduzir o poderoso conceito de *função*, ponto muito importante do Python."
   ]
  }
 ],
 "metadata": {
  "kernelspec": {
   "display_name": "Python 3",
   "language": "python",
   "name": "python3"
  },
  "language_info": {
   "codemirror_mode": {
    "name": "ipython",
    "version": 3
   },
   "file_extension": ".py",
   "mimetype": "text/x-python",
   "name": "python",
   "nbconvert_exporter": "python",
   "pygments_lexer": "ipython3",
   "version": "3.5.1"
  }
 },
 "nbformat": 4,
 "nbformat_minor": 0
}
