{
 "cells": [
  {
   "cell_type": "markdown",
   "metadata": {},
   "source": [
    "# Arquivos especiais - pdf e csv\n",
    "\n",
    "\n",
    "## PDF\n",
    "\n",
    "A sigla **PDF** vem de  **Portable Document Format** e significa um formato de arquivo usado para apresentar documentos com a mesma aparência, independente do computador, hardware ou sistema operacional.\n",
    "\n",
    "Un arquivo **PDF** inclue textos, gráficos, imagens, tabelas, fontes de caracteres e tudo mais necessário para garantir a representação do documento.\n",
    "\n",
    "Originalmente um formato proprietário da empresa Adobe, desde 2008 virou um standard **ISO** e Adobe cedeu seu uso sem royalties para desenvolvedores de software em geral.\n",
    "\n",
    "O formato PDF é bastante complexo e sua manipulação não é tarefa trivial. Uma descrição do formato na Wikipedia [pode ser vista aqui](https://en.wikipedia.org/wiki/Portable_Document_Format). \n",
    "\n",
    "Talvez porisso não existe nenhum pacote de software aberto realmente bom para manipular arquivos **PDF**, afora o próprio software da Adobe, é claro, mas este não é livre nem gratuito. Um pacote aberto recomendado é o [Poppler](https://en.wikipedia.org/wiki/Poppler_(software)) mas este é escrito na linguagem **C++**, mais usada por desenvolvedores profissionais.\n",
    "\n",
    "---\n",
    "\n",
    "De modo geral para lêr arquivos **PDF** e extrair deles o seu texto o melhor é usar o **Adobe Reader** para abrir o documento PDF e usar a menu **File\\Save as other...\\text** para obter o texto perfeitamente extraido. \n",
    "\n",
    "Entretanto este procedimento é manual e em certas ocasiões pode ser inviável. Por exemplo, podemos estar procurando determinadas palavras no texto em dezenas de milhares de arquivos. Abri-los manualmente um por um é inviável. Em tais casos podemos usar módulos para manipulação de arquivos PDF feitos para o Python. Existem diversos módulos em Python para extrair texto, cada qual com seus trade-offs. \n",
    "\n",
    "Nesta lição vamos seguir nosso livro referência e instalar o módulo **PyPDF2** em nosso sistema. Se você ainda não tem este módulo em seu computador, abra a janela de comando ou o Windows PowerShell e digite\n",
    "\n",
    "```\n",
    ">>pip install PyPDF2\n",
    "```\n",
    "\n",
    "O instalador **pip** vai buscar o software (usualmente no GitHub) baixar o pacote e proceder sua instalação em **Anaconda 3\\Lib\\site-packages\\PyPDF2**.\n",
    "\n"
   ]
  },
  {
   "cell_type": "markdown",
   "metadata": {},
   "source": [
    "### Extraindo texto de um arquivo PDF\n",
    "\n",
    "Neste exemplo vamos extrair o texto de um artigo científico sobre Redes Neurais, que [pode ser baixado aqui](https://dl.dropboxusercontent.com/u/50004393/NN.pdf). \n",
    "\n",
    "O arquivo pdf escolhido **'NN.pdf'** é um arquivo pdf \"fácil\" para extração de texto, contendo essencialmente texto, fórmulas matemáticas e algumas poucas figuras. Arquivos podem ser mais \"dificeis\" quando contém muitas tabelas formatadas, imagens, etc.\n",
    "\n",
    "É bom avisar aqui que extrair texto de arquivos **PDF** nem sempre dá muito certo (a menos que use um pacote como o Adobe...). Surpresas desagradáveis podem acontecer.\n",
    "\n",
    "Vamos ao exemplo. Após baixar o arquivo **NN.pdf** coloque-o no mesmo diretório onde está este notebook Jupyter. \n",
    "\n",
    "Abrindo o arquivo com o Adobe Reader deve aparecer um artigo assim:\n",
    "\n",
    "![alt text](https://dl.dropboxusercontent.com/u/50004393/nn.PNG)"
   ]
  },
  {
   "cell_type": "markdown",
   "metadata": {},
   "source": [
    "Vamos tentar extrair este texto com um script Python usando o módulo **PyPDF2**. A documentação deste módulo [pode ser encontrada aqui](https://pythonhosted.org/PyPDF2/)."
   ]
  },
  {
   "cell_type": "code",
   "execution_count": null,
   "metadata": {
    "collapsed": true
   },
   "outputs": [],
   "source": [
    "# vamos importar o módulo essencial\n",
    "import PyPDF2"
   ]
  },
  {
   "cell_type": "markdown",
   "metadata": {},
   "source": [
    "O módulo **PyPDF2** possue diversos objetos úteis, alguns descritos em nosso livro referência. Para extrair texto usaremos a classe **PyPDF2.PdfFileReader**. Esta classe recebe como argumento um objeto **File** (nosso já conhecido) obtido abrindo o arquivo pdf para leitura em modo binário e retorna um objeto que representa o documento encontrado dentro do arquivo pdf, se tudo foi bem."
   ]
  },
  {
   "cell_type": "code",
   "execution_count": null,
   "metadata": {
    "collapsed": false
   },
   "outputs": [],
   "source": [
    "# cria um objeto da classe PdfFileReader que representa o documento no arquivo pdf\n",
    "f = open('NN.pdf', 'rb')\n",
    "pdf = PyPDF2.PdfFileReader(f)"
   ]
  },
  {
   "cell_type": "markdown",
   "metadata": {},
   "source": [
    "O aviso ameaçador só indica que na criação do objeto **pdf** alguma anomalia do documento foi encontrada. Isto não afeta nossa extração do texto."
   ]
  },
  {
   "cell_type": "code",
   "execution_count": null,
   "metadata": {
    "collapsed": false
   },
   "outputs": [],
   "source": [
    "# vejamos quantas páginas foram encontradas\n",
    "pdf.getNumPages()"
   ]
  },
  {
   "cell_type": "markdown",
   "metadata": {},
   "source": [
    "Foram lidas 15 páginas compondo o documento. Podemos conferir este número abrindo o arquivo **NN.pdf** no Adobe e contando as páginas. São 15 mesmo.\n",
    "\n",
    "Para extrair o texto de cada página usaremos o método **getPage(i).extractText()** onde **i** é o indice da página desejada. \n",
    "\n",
    "Vejamos a página índice 0."
   ]
  },
  {
   "cell_type": "code",
   "execution_count": null,
   "metadata": {
    "collapsed": false
   },
   "outputs": [],
   "source": [
    "# extrai o texto da página indice 0\n",
    "spg0 = pdf.getPage(0).extractText()\n",
    "type(spg0)"
   ]
  },
  {
   "cell_type": "markdown",
   "metadata": {},
   "source": [
    "O texto da página 0 retornou como um string, na variável **spg0**. Vejamos um pedaço dele."
   ]
  },
  {
   "cell_type": "code",
   "execution_count": null,
   "metadata": {
    "collapsed": false
   },
   "outputs": [],
   "source": [
    "# tamanho do texto na página 0\n",
    "len(spg0)"
   ]
  },
  {
   "cell_type": "code",
   "execution_count": null,
   "metadata": {
    "collapsed": false
   },
   "outputs": [],
   "source": [
    "spg0[:1000]"
   ]
  },
  {
   "cell_type": "code",
   "execution_count": null,
   "metadata": {
    "collapsed": false
   },
   "outputs": [],
   "source": [
    "# vamos colocar o texto numa lista de linhas separadas por \\n\n",
    "pg0 = spg0.split('\\n')\n",
    "print(pg0[:15])"
   ]
  },
  {
   "cell_type": "code",
   "execution_count": null,
   "metadata": {
    "collapsed": true
   },
   "outputs": [],
   "source": [
    "# após extrair texto não esqueça de fechar o arquivo\n",
    "f.close()"
   ]
  },
  {
   "cell_type": "markdown",
   "metadata": {},
   "source": [
    "Sucesso! O texto extraido pode ser comparado com o artigo original e está razoavelmente compatível. Algumas coisas que não sairam bem foram as fórmulas matemáticas, que estão numa linguagem chamada **PostScript** dentro do documento e claro, figuras não são texto logo não foram extraidas. \n",
    "\n",
    "Isto encerra este primeiro contato com extração de texto de arquivos **PDF**. O procedimento acima pode ser encapsulado num módulo Python cujo código está aqui:\n",
    "\n",
    "```python\n",
    "import PyPDF2\n",
    "\"\"\"Lê documento PDF e retorna texto extraido\"\"\"\n",
    "\n",
    "# esta função recebe o caminho do arquivo pdf e retorna seu texto extraido num string\n",
    "def getPDFContent(path):\n",
    "    content = \"\"\n",
    "    \n",
    "    # abre o arquivo pdf e cria um objeto reader\n",
    "    f = open(path, \"rb\")\n",
    "    pdf = PyPDF2.PdfFileReader(f)       # objeto que representa o documento\n",
    "    \n",
    "    # Itera pelas páginas do documento\n",
    "    for i in range(0, pdf.getNumPages()):        \n",
    "        # Extrai texto da pagina e apenda no string content\n",
    "        content += pdf.getPage(i).extractText() + \"\\n\"\n",
    "        \n",
    "    # fecha o arquivo\n",
    "    f.close()\n",
    "    return content\n",
    "\n",
    "\n",
    "# programa principal, executado ao ativar o módulo\n",
    "print('Extrai texto de arquivo PDF.')\n",
    "print(os.getcwd())\n",
    "print(os.listdir())\n",
    "print('----------------------------')\n",
    "print('Entre nome ou caminho de arquivo PDF:')\n",
    "\n",
    "arq = input()\n",
    "if not arq.endswith('.pdf'):\n",
    "    arq = arq + '.pdf'\n",
    "\n",
    "stx = getPDFContent(arq)\n",
    "\n",
    "txt = stx.split('\\n')\n",
    "\n",
    "print('Texto extraido (primeiros 100 caracteres):')\n",
    "print('-------------------------------------------')\n",
    "print()\n",
    "print(txt[:101])\n",
    "print()\n",
    "print('-------------------------------------------')\n",
    "```\n"
   ]
  },
  {
   "cell_type": "markdown",
   "metadata": {},
   "source": [
    "## CSV\n",
    "\n",
    "Arquivos **CSV** são arquivos texto cujo conteúdo representa uma planilha Excel. O conteúdo do arquivo **CSV** são linhas de valores separados por vírgulas. Por exemplo:\n",
    "\n",
    "123, 4, 56, 7, 89\n",
    "0.1, 3.5, 1, 420, 0\n",
    "\n",
    "O conteúdo do arquivo **CSV** é interpretado da seguinte maneira:\n",
    "- cada linha do arquivo **CSV** representa uma linha da planilha Excel\n",
    "- cada elemento entre virgulas representa o valor de uma célula da planilha, naquela linha e na coluna respectiva.\n",
    "\n",
    "Por ser um mero arquivo texto formatado na convenção acima a tendência é manipulas arquivos **CSV** como textos mesmo, usando técnicas ordinárias de manipulação de strings. De fato na prática isto é possível mas existem razões para usar um módulo apropriado para manipular **CSV**.\n",
    "\n",
    "Por exemplo, as vêzes um valor dentro de uma célula pode conter uma vírgula. Como saber ser esta é uma separação de células ou somente um caracter dentro de um valor?\n",
    "\n",
    "O módulo **csv** do Python esconde todas estas nuances traiçoeiras atrás de uma interface simples e robusta, que deve sempre ser usada. Manipule diretamente um arquivo **CSV** somente se você sabe bem o que está fazendo.\n",
    "\n",
    "A documentação oficial deste módulo [pode ser vista aqui](https://docs.python.org/3/library/csv.html).\n",
    "\n",
    "---\n",
    "\n",
    "\n",
    "## Classes do módulo CSV\n",
    "\n",
    "Essencialmente são quatro classes importantes, das quais obtemos objetos correspondentes para manipulação de **CSV**:\n",
    "- csv.reader(csvfile)\n",
    "- csv.writer(csvfile)\n",
    "- csv.DictReader(csvfile)\n",
    "- csv.DictWriter(csvfile, fieldnames)\n",
    "\n",
    "Outras classes tem aplicação especial e podem ser vistas na documentação.\n",
    "\n",
    "Para esta lição vamos usar um arquivo **CSV** que [pode ser baixado aqui](https://dl.dropboxusercontent.com/u/50004393/dep1.csv).\n",
    "\n",
    "Baixe-o agora antes de continuar. Após baixar o arquivo coloque-o no mesmo diretório deste notebook.\n",
    "\n",
    "---\n",
    "\n",
    "\n",
    "### Usando os objetos csv.reader e csv.writer\n",
    "\n",
    "Vejamos exemplo de leitura de arquivo **CSV** usando um objeto **csv.reader**. Este objeto é _**iterável**_, tal como por exemplo uma lista. A cada iteração usando o objeto obtemos uma nova linha do arquivo **CSV** que está sendo lido.\n",
    "\n",
    "A sequência de passos é:\n",
    "\n",
    "1. abrir o arquivo **CSV** com **open()** no modo texto para leitura\n",
    "2. criar um objeto **csv.reader** a partir do objeto **File** obtido no passo 1\n",
    "3. iterar sobre as linhas contidas no objeto **csv.reader**\n"
   ]
  },
  {
   "cell_type": "code",
   "execution_count": null,
   "metadata": {
    "collapsed": false
   },
   "outputs": [],
   "source": [
    "# vamos importar o módulo csv\n",
    "import csv\n",
    "\n",
    "# Criamos um objeto reader para lêr cada linha do arquivo\n",
    "arq = 'dep1.csv'\n",
    "\n",
    "# abrimos o arquivo como texto e iteramos por suas linhas, imprimindo cada uma\n",
    "linhas = []                 \n",
    "with open(arq) as csvfile:\n",
    "    # cria objeto reader\n",
    "    rdr = csv.reader(csvfile)\n",
    "    # agora iteramos sobre as linhas do arquivo\n",
    "    for linha in rdr:\n",
    "        print(', '.join(linha))\n",
    "        linhas.append([x for x in linha if not x == ''])\n",
    "    "
   ]
  },
  {
   "cell_type": "markdown",
   "metadata": {},
   "source": [
    "Como vemos a primeira linha é de nomes de colunas, e as demais contém os dados. Note que só as primeiras 4 colunas tem informação, as demais são vazias mas fazem parte do documento.\n",
    "\n",
    "Vejamos agora um exemplo de criação de um arquivo **CSV**. \n",
    "\n",
    "Para escrever num arquivo **CSV** usamos um objeto writer, que é gerado da classe **csv.writer()**.\n",
    "\n"
   ]
  },
  {
   "cell_type": "code",
   "execution_count": null,
   "metadata": {
    "collapsed": false
   },
   "outputs": [],
   "source": [
    "# lista de linhas no arquivo com colunas vazias omitidas\n",
    "linhas"
   ]
  },
  {
   "cell_type": "code",
   "execution_count": null,
   "metadata": {
    "collapsed": false
   },
   "outputs": [],
   "source": [
    "arq1 = 'exemplo.csv'\n",
    "with open(arq1, 'w') as csvfile:\n",
    "    wrt = csv.writer(csvfile)      # cria o objeto writer\n",
    "    # itera sobre as linhas da lista escrevendo cada uma\n",
    "    for l in linhas:\n",
    "        wrt.writerow(l)"
   ]
  },
  {
   "cell_type": "markdown",
   "metadata": {},
   "source": [
    "Deve aparecer um arquivo **exemplo.csv** no diretório corrente. Abra-o com o Notepad e verifique que os dados foram escritos corretamente. Inclusive a linha de cabeçalhos (nomes de colunas)."
   ]
  },
  {
   "cell_type": "markdown",
   "metadata": {},
   "source": [
    "### Usando os objetos csv.DictReader e csv.DictWriter\n",
    "\n",
    "Estes objetos são úteis quando nossos dados estão organizados em formato tipo dicionário, onde a chave de cada item é o nome de uma coluna e o valor do item é o valor da célula na coluna, para uma dada linha da planilha.\n",
    "\n",
    "Por exemplo a última linha no exemplo anterior seria lida da seguinte forma:\n",
    "\n",
    "{'Nome Parlamentar':'AFONSO HAMM', 'Partido':'PP', 'UF':'RS', 'Titular/Suplente/Efetivado':'T'}\n",
    "\n",
    "Ou seja, cada linha é lida como um objeto dicionário **dict**.\n"
   ]
  },
  {
   "cell_type": "code",
   "execution_count": null,
   "metadata": {
    "collapsed": false
   },
   "outputs": [],
   "source": [
    "# vamos ler o arquivo exemplo.csv\n",
    "with open('exemplo.csv') as csvfile:\n",
    "    # cria objeto DictReader\n",
    "    rd = csv.DictReader(csvfile)\n",
    "    #itera sobre as linhas do objeto\n",
    "    for row in rd:\n",
    "        # imprimimos somente o nome e o partido\n",
    "        print(row['Nome Parlamentar'], row['Partido'])"
   ]
  },
  {
   "cell_type": "markdown",
   "metadata": {},
   "source": [
    "Para escrever usando **csv.DictWriter** o processo é parecido:"
   ]
  },
  {
   "cell_type": "code",
   "execution_count": null,
   "metadata": {
    "collapsed": false
   },
   "outputs": [],
   "source": [
    "# criar arquivo csv com partido e UF somente\n",
    "with open('partidos.csv', 'w') as f:\n",
    "    # cria o objeto DictWriter: é obrigatório dar nomes das colunas\n",
    "    nomes = ['Partido', 'UF']\n",
    "    wrt = csv.DictWriter(f, fieldnames=nomes)\n",
    "    \n",
    "    # escreve os cabeçalhos\n",
    "    wrt.writeheader()\n",
    "    \n",
    "    # itera sobre a lista escrevendo linhas\n",
    "    for linha in linhas[1:]:\n",
    "        wrt.writerow({'Partido':linha[1], 'UF':linha[2]})"
   ]
  },
  {
   "cell_type": "markdown",
   "metadata": {},
   "source": [
    "Deve ter aparecido um arquivo **partidos.csv** no diretório corrente. Podemos ver seu conteúdo de forma rápida assim:"
   ]
  },
  {
   "cell_type": "code",
   "execution_count": null,
   "metadata": {
    "collapsed": false
   },
   "outputs": [],
   "source": [
    "with open('partidos.csv') as f:\n",
    "    l = f.read().split('\\n')\n",
    "l = [x for x in l if x != '']\n",
    "print(l)"
   ]
  },
  {
   "cell_type": "markdown",
   "metadata": {},
   "source": [
    "Isto encerra esta lição."
   ]
  }
 ],
 "metadata": {
  "kernelspec": {
   "display_name": "Python 3",
   "language": "python",
   "name": "python3"
  },
  "language_info": {
   "codemirror_mode": {
    "name": "ipython",
    "version": 3
   },
   "file_extension": ".py",
   "mimetype": "text/x-python",
   "name": "python",
   "nbconvert_exporter": "python",
   "pygments_lexer": "ipython3",
   "version": "3.5.1"
  }
 },
 "nbformat": 4,
 "nbformat_minor": 0
}
